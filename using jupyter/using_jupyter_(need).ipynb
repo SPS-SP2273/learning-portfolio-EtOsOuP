{
 "cells": [
  {
   "attachments": {},
   "cell_type": "markdown",
   "id": "123456",
   "metadata": {},
   "source": [
    "<div style=\"text-align:left;font-size:2em\"><span style=\"font-weight:bolder;font-size:1.25em\">SP2273 | Learning Portfolio</span><br><br><span style=\"font-weight:bold;color:darkred\">Using Jupyter (Need)</span></div>"
   ]
  },
  {
   "attachments": {},
   "cell_type": "markdown",
   "id": "8d423ec3",
   "metadata": {},
   "source": [
    "\n",
    "# 1 What to expect in this chapter (completed)\n"
   ]
  },
  {
   "attachments": {},
   "cell_type": "markdown",
   "id": "d68a84c3",
   "metadata": {},
   "source": [
    "# 2 Getting ready (completed)"
   ]
  },
  {
   "attachments": {},
   "cell_type": "markdown",
   "id": "4b28a315",
   "metadata": {},
   "source": [
    "# 3 Getting started with Jupyter(completed)"
   ]
  },
  {
   "attachments": {},
   "cell_type": "markdown",
   "id": "34d1e5b1",
   "metadata": {},
   "source": [
    "## 3.1 It is all about running cells(completed)"
   ]
  },
  {
   "attachments": {},
   "cell_type": "markdown",
   "id": "037e73eb",
   "metadata": {},
   "source": [
    "## 3.2 A traditional start(completed)"
   ]
  },
  {
   "attachments": {},
   "cell_type": "markdown",
   "id": "7568391d",
   "metadata": {},
   "source": [
    "# 4 All about Markdown(completed)"
   ]
  },
  {
   "attachments": {},
   "cell_type": "markdown",
   "id": "8306470f",
   "metadata": {},
   "source": [
    "## 4.1 Rendering Markdown cells(completed)"
   ]
  },
  {
   "attachments": {},
   "cell_type": "markdown",
   "id": "b88a8166",
   "metadata": {},
   "source": [
    "## 4.2 Some basic syntax(completed)"
   ]
  },
  {
   "attachments": {},
   "cell_type": "markdown",
   "id": "24f464c9",
   "metadata": {},
   "source": [
    "## 4.3 Headings(completed)"
   ]
  },
  {
   "attachments": {},
   "cell_type": "markdown",
   "id": "50d05e04",
   "metadata": {},
   "source": [
    "## 4.4 Displaying Code(completed)"
   ]
  },
  {
   "attachments": {},
   "cell_type": "markdown",
   "id": "ebd30ebb",
   "metadata": {},
   "source": [
    "## 4.5 Links(completed)"
   ]
  },
  {
   "attachments": {},
   "cell_type": "markdown",
   "id": "7d7159ca",
   "metadata": {},
   "source": [
    "## (completed)4.6 Images"
   ]
  },
  {
   "attachments": {},
   "cell_type": "markdown",
   "id": "64908926",
   "metadata": {},
   "source": [
    "## (completed)4.7 Tables\n"
   ]
  },
  {
   "attachments": {},
   "cell_type": "markdown",
   "id": "029b3f1a",
   "metadata": {},
   "source": [
    "## 4.8 Lists(completed)"
   ]
  },
  {
   "attachments": {},
   "cell_type": "markdown",
   "id": "f743518a",
   "metadata": {},
   "source": [
    "## 4.9 Equations(completed)"
   ]
  },
  {
   "attachments": {},
   "cell_type": "markdown",
   "id": "63b99f53",
   "metadata": {},
   "source": [
    "## Footnotes(completed)"
   ]
  }
 ],
 "metadata": {
  "kernelspec": {
   "display_name": "Python 3 (ipykernel)",
   "language": "python",
   "name": "python3"
  },
  "language_info": {
   "codemirror_mode": {
    "name": "ipython",
    "version": 3
   },
   "file_extension": ".py",
   "mimetype": "text/x-python",
   "name": "python",
   "nbconvert_exporter": "python",
   "pygments_lexer": "ipython3",
   "version": "3.11.5"
  },
  "toc": {
   "base_numbering": 1,
   "nav_menu": {},
   "number_sections": true,
   "sideBar": true,
   "skip_h1_title": false,
   "title_cell": "Table of Contents",
   "title_sidebar": "Contents",
   "toc_cell": false,
   "toc_position": {},
   "toc_section_display": true,
   "toc_window_display": false
  },
  "vscode": {
   "interpreter": {
    "hash": "31f2aee4e71d21fbe5cf8b01ff0e069b9275f58929596ceb00d14d90e3e16cd6"
   }
  }
 },
 "nbformat": 4,
 "nbformat_minor": 5
}
