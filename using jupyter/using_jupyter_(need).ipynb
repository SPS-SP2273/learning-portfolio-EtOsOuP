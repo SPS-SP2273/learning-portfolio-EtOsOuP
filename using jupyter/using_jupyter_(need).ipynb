{
 "cells": [
  {
   "attachments": {},
   "cell_type": "markdown",
   "id": "123456",
   "metadata": {},
   "source": [
    "<div style=\"text-align:left;font-size:2em\"><span style=\"font-weight:bolder;font-size:1.25em\">SP2273 | Learning Portfolio</span><br><br><span style=\"font-weight:bold;color:darkred\">Using Jupyter (Need)</span></div>"
   ]
  },
  {
   "attachments": {},
   "cell_type": "markdown",
   "id": "8d423ec3",
   "metadata": {},
   "source": [
    "\n",
    "# 1 What to expect in this chapter (completed)\n"
   ]
  },
  {
   "cell_type": "markdown",
   "id": "4dd0ff96-78b0-44ee-845c-a21456e1bdf2",
   "metadata": {},
   "source": [
    "    Jupyter is an interactive environment that allows you to have a (sort of) conversation with Python. I will show you how to get this to work. I will also show you features like Markdown, allowing you to ‘add value’ to your code.\n",
    "\n",
    "Incidentally, Jupyter works so that you can ask it to do something, and it immediately shows you the result. In fact, the older name for Jupyter Notebooks was ‘IPython notebooks’, meaning ‘interactive Python notebooks’."
   ]
  },
  {
   "cell_type": "code",
   "execution_count": 2,
   "id": "17643ca6-11de-4887-b497-5029088b0264",
   "metadata": {},
   "outputs": [
    {
     "name": "stdout",
     "output_type": "stream",
     "text": [
      "6\n"
     ]
    }
   ],
   "source": [
    "# 2 Getting ready (completed)\n",
    "a=4\n",
    "b=2\n",
    "c=a+b\n",
    "print(c)\n"
   ]
  },
  {
   "attachments": {},
   "cell_type": "markdown",
   "id": "4b28a315",
   "metadata": {},
   "source": [
    "# 3 Getting started with Jupyter(completed)"
   ]
  },
  {
   "attachments": {},
   "cell_type": "markdown",
   "id": "34d1e5b1",
   "metadata": {},
   "source": [
    "## 3.1 It is all about running cells(completed)"
   ]
  },
  {
   "cell_type": "markdown",
   "id": "fa72da73-9e4d-42c3-8786-c0eae73e11d0",
   "metadata": {},
   "source": [
    "The basic unit of a Jupyter Notebook is a cell. A cell can either accept Python code or text in a format called Markdown.\n",
    "\n",
    "A cell ready to accept Python is called a code cell, while one ready for Markdown is called a Markdown cell. To ‘get things done’, we Run a cell by using the Run button or the keyboard shortcut CTRL + ENTER (or CMD + ENTER)."
   ]
  },
  {
   "cell_type": "markdown",
   "id": "a871358d-dd5a-4de5-b5ce-d95bda13b7d3",
   "metadata": {},
   "source": [
    "Short cut is press esc and m to change the cell to markdown\n",
    "\n",
    "esc and v to convert the cell to code cell"
   ]
  },
  {
   "attachments": {},
   "cell_type": "markdown",
   "id": "037e73eb",
   "metadata": {},
   "source": [
    "## 3.2 A traditional start(completed)"
   ]
  },
  {
   "cell_type": "code",
   "execution_count": 1,
   "id": "fda8e3fc-02a2-4051-bf88-1130819135d5",
   "metadata": {},
   "outputs": [
    {
     "name": "stdout",
     "output_type": "stream",
     "text": [
      "Hello Darren, the most beautiful guy in the world\n"
     ]
    }
   ],
   "source": [
    "print('Hello Darren, the most beautiful guy in the world')"
   ]
  },
  {
   "cell_type": "code",
   "execution_count": 2,
   "id": "7e33db61-83cd-4ddf-841c-e6725263989f",
   "metadata": {},
   "outputs": [
    {
     "name": "stdout",
     "output_type": "stream",
     "text": [
      "Hello World!\n"
     ]
    }
   ],
   "source": [
    "print('Hello World!')"
   ]
  },
  {
   "cell_type": "markdown",
   "id": "19924c4b-cdd8-4c63-8d54-0a39651d9590",
   "metadata": {},
   "source": [
    "You will also see that the number before your code cell changes. This number is used to keep track of the history of the commands you have issued. It helps keep track of which input corresponds to which output."
   ]
  },
  {
   "attachments": {},
   "cell_type": "markdown",
   "id": "7568391d",
   "metadata": {},
   "source": [
    "# 4 All about Markdown(completed)"
   ]
  },
  {
   "cell_type": "markdown",
   "id": "94ab63e3-566e-4749-8e15-2e18befa47cf",
   "metadata": {},
   "source": [
    "Markdown is just whatsapp typing. its like python but with simpler code"
   ]
  },
  {
   "attachments": {},
   "cell_type": "markdown",
   "id": "8306470f",
   "metadata": {},
   "source": [
    "## 4.1 Rendering Markdown cells(completed)"
   ]
  },
  {
   "cell_type": "markdown",
   "id": "7f17e4a1-4ab1-44da-8e20-b10951301f21",
   "metadata": {},
   "source": [
    "redering your cell\n",
    "\n",
    "1. convert to markdown with esc and m\n",
    "1. input text and run"
   ]
  },
  {
   "attachments": {},
   "cell_type": "markdown",
   "id": "b88a8166",
   "metadata": {},
   "source": [
    "## 4.2 Some basic syntax(completed)"
   ]
  },
  {
   "cell_type": "markdown",
   "id": "dba60d1d-d865-4205-8b01-0a30de70a1e5",
   "metadata": {},
   "source": [
    "** or __ __pairs are **bold**\n",
    "* or _ _ pairs are **italic**\n",
    "*** is all **bold and italic**\n",
    "    ***kansdklasndlasn***\n",
    "<sub> is **subscript**\n",
    "<sup> is **super script**\n",
    "\n",
    "Press and hold ctrl can allow for multiple cursors"
   ]
  },
  {
   "cell_type": "markdown",
   "id": "4d699490-3938-4884-9f5f-1dd5b70fe4b6",
   "metadata": {},
   "source": [
    "The ships *hung in the sky* in much the same way that **bricks don’t.**<sup>1</sup><sub>QUOTE</sub>\n"
   ]
  },
  {
   "attachments": {},
   "cell_type": "markdown",
   "id": "24f464c9",
   "metadata": {},
   "source": [
    "## 4.3 Headings(completed)"
   ]
  },
  {
   "cell_type": "markdown",
   "id": "5dd83996-5c59-43d3-8d73-bb6878065c5f",
   "metadata": {},
   "source": [
    "the heading number goes down the more # u add.\n",
    "one # is heading 1 \n",
    "two # is heading 2\n",
    "useful for informaiton hierachy"
   ]
  },
  {
   "attachments": {},
   "cell_type": "markdown",
   "id": "50d05e04",
   "metadata": {},
   "source": [
    "## 4.4 Displaying Code(completed)"
   ]
  },
  {
   "cell_type": "markdown",
   "id": "64b6209f-313a-427c-84fe-0f6a2c3aa4f8",
   "metadata": {},
   "source": [
    "If you want to mention code inline, you can enclose it between two backticks (`), like `print('Hello World')`. This will be rendered as print('Hello World!').\n",
    "\n",
    "You can also have a block of code by using the following syntax."
   ]
  },
  {
   "cell_type": "markdown",
   "id": "393d90f1-6ce6-4957-9457-495de96afea6",
   "metadata": {},
   "source": [
    "```python #call upon python in mark down cell\n",
    "print('Hello World!') #bc of the ''' the python code will give 'print('Hello World')' as out\n",
    "```"
   ]
  },
  {
   "attachments": {},
   "cell_type": "markdown",
   "id": "ebd30ebb",
   "metadata": {},
   "source": [
    "## 4.5 Links(completed)"
   ]
  },
  {
   "cell_type": "code",
   "execution_count": null,
   "id": "d971822f-5275-444a-ae24-a33c83fc98ec",
   "metadata": {},
   "outputs": [],
   "source": [
    "use square bracket and round bracket to create links in mark down.\n",
    "\n",
    "[] to put the displayed link name\n",
    "() to  put the actual link address"
   ]
  },
  {
   "attachments": {},
   "cell_type": "markdown",
   "id": "7d7159ca",
   "metadata": {},
   "source": [
    "## (completed)4.6 Images"
   ]
  },
  {
   "cell_type": "markdown",
   "id": "095a070b-1e4e-4e53-922b-ca9015359de6",
   "metadata": {},
   "source": [
    "![](https://nus.edu.sg/images/default-source/base/logo.png)"
   ]
  },
  {
   "cell_type": "markdown",
   "id": "96cef003-9814-4774-af50-92a412ed4061",
   "metadata": {},
   "source": [
    "insert image by putting ! infront of the link address or file name (full or relative path) of the image"
   ]
  },
  {
   "attachments": {},
   "cell_type": "markdown",
   "id": "64908926",
   "metadata": {},
   "source": [
    "## (completed)4.7 Tables\n"
   ]
  },
  {
   "cell_type": "markdown",
   "id": "96929613-dfaa-43c3-8b15-5b809eafaf43",
   "metadata": {},
   "source": [
    "| A    |  B   |    C |\n",
    "| :--- | :--: | ---: |\n",
    "| a1   |  b1  |   c1 |\n",
    "| a2   |  b2  |   c2 |\n",
    "| a3   |  b3  |   c3 |\n",
    "\n",
    "this is the table syntax for mark down\n",
    "\n",
    "just use table generator"
   ]
  },
  {
   "attachments": {},
   "cell_type": "markdown",
   "id": "029b3f1a",
   "metadata": {},
   "source": [
    "## 4.8 Lists(completed)"
   ]
  },
  {
   "cell_type": "markdown",
   "id": "5549d913-e87f-43ac-821e-7bea36f85b66",
   "metadata": {},
   "source": [
    "1. Master Yoda\n",
    "1. Luke Skywalker\n",
    "1. Anakin Skywalker"
   ]
  },
  {
   "cell_type": "code",
   "execution_count": null,
   "id": "00fe338a-6fbe-424b-bcd1-897e58ac1203",
   "metadata": {},
   "outputs": [],
   "source": [
    "markdown automatically numbers the list "
   ]
  },
  {
   "cell_type": "markdown",
   "id": "efd90134-9812-4251-994f-ca0c006e622f",
   "metadata": {},
   "source": [
    "- Master Yoda\n",
    "- Luke Skywalker\n",
    "- Anakin Skywalker"
   ]
  },
  {
   "cell_type": "code",
   "execution_count": null,
   "id": "ed87aee0-366c-4f0b-b365-b5a757024171",
   "metadata": {},
   "outputs": [],
   "source": [
    "this one will give the dotty list"
   ]
  },
  {
   "cell_type": "markdown",
   "id": "15f99f4c-0ea6-4c90-95a1-59152f1aef68",
   "metadata": {},
   "source": [
    "1. Master Yoda\n",
    "   1. Was a Jedi\n",
    "   1. Was a bit green\n",
    "1. Luke Skywalker\n",
    "   1. Was a Jedi\n",
    "   1. Is Anakin's son.\n",
    "1. Anakin Skywalker\n",
    "   1. Was a Jedi then became a baddie\n",
    "   1. Is famous for saying 'Luke, I am your father'"
   ]
  },
  {
   "cell_type": "markdown",
   "id": "83cb6e86-649e-4b91-a094-dce49cf4f78f",
   "metadata": {},
   "source": [
    "1. Master Yoda \n",
    "   - Was a Jedi\n",
    "   - Was a bit green\n",
    "1. Luke Skywalker\n",
    "   - Was a Jedi\n",
    "   - Is Anakin's son.\n",
    "1. Anakin Skywalker\n",
    "   - Was a Jedi then, became a baddie\n",
    "   - Is famous for saying, _'Luke, I am your father'_."
   ]
  },
  {
   "cell_type": "code",
   "execution_count": null,
   "id": "92851b21-fe40-4569-a110-75b0c980b6a6",
   "metadata": {},
   "outputs": [],
   "source": [
    "a mix btw the numbered and dotty list"
   ]
  },
  {
   "attachments": {},
   "cell_type": "markdown",
   "id": "f743518a",
   "metadata": {},
   "source": [
    "## 4.9 Equations(completed)"
   ]
  },
  {
   "cell_type": "code",
   "execution_count": null,
   "id": "d9d8f15d-a224-42c6-8f78-6cbb86f4b226",
   "metadata": {},
   "outputs": [],
   "source": [
    "insert math equation like a pro just flank the equation with $.\n",
    "\n",
    "like $\\sqrt{b^2-4ac}$\n",
    "\n",
    "\n",
    "math block just use $ liddis\n",
    "\n",
    "$$\n",
    "x = \\dfrac{-b \\pm \\sqrt{b^2-4ac}}{2a}\n",
    "$$"
   ]
  },
  {
   "cell_type": "markdown",
   "id": "8b13fb7c-f53b-4510-a338-6b6a4748df1d",
   "metadata": {},
   "source": [
    "refer to this for more markdown funcitons:[mathematical doc at overleaf](https://www.overleaf.com/learn/latex/Mathematical_expressions)"
   ]
  },
  {
   "attachments": {},
   "cell_type": "markdown",
   "id": "63b99f53",
   "metadata": {},
   "source": [
    "## Footnotes(completed)"
   ]
  }
 ],
 "metadata": {
  "kernelspec": {
   "display_name": "Python 3 (ipykernel)",
   "language": "python",
   "name": "python3"
  },
  "language_info": {
   "codemirror_mode": {
    "name": "ipython",
    "version": 3
   },
   "file_extension": ".py",
   "mimetype": "text/x-python",
   "name": "python",
   "nbconvert_exporter": "python",
   "pygments_lexer": "ipython3",
   "version": "3.11.5"
  },
  "toc": {
   "base_numbering": 1,
   "nav_menu": {},
   "number_sections": true,
   "sideBar": true,
   "skip_h1_title": false,
   "title_cell": "Table of Contents",
   "title_sidebar": "Contents",
   "toc_cell": false,
   "toc_position": {},
   "toc_section_display": true,
   "toc_window_display": false
  },
  "vscode": {
   "interpreter": {
    "hash": "31f2aee4e71d21fbe5cf8b01ff0e069b9275f58929596ceb00d14d90e3e16cd6"
   }
  }
 },
 "nbformat": 4,
 "nbformat_minor": 5
}
