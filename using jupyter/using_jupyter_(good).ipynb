{
 "cells": [
  {
   "attachments": {},
   "cell_type": "markdown",
   "id": "123456",
   "metadata": {},
   "source": [
    "<div style=\"text-align:left;font-size:2em\"><span style=\"font-weight:bolder;font-size:1.25em\">SP2273 | Learning Portfolio</span><br><br><span style=\"font-weight:bold;color:darkred\">Using Jupyter (Good)</span></div>"
   ]
  },
  {
   "attachments": {},
   "cell_type": "markdown",
   "id": "7cdb569b",
   "metadata": {},
   "source": [
    "# What to expect in this chapter"
   ]
  },
  {
   "cell_type": "markdown",
   "id": "2e70eb12-e48e-4845-b4cb-5c8fd228e11f",
   "metadata": {},
   "source": [
    "You should now know the basics of using a Jupyter Notebook. However, the Jupyter environment offers many more goodies (e.g., extensions, shell magic). In this chapter, I will show you a few of these and help you optimise your environment to make it easier and faster to use Jupyter."
   ]
  },
  {
   "attachments": {},
   "cell_type": "markdown",
   "id": "46401acc",
   "metadata": {},
   "source": [
    "# 1 Some tips and tricks"
   ]
  },
  {
   "attachments": {},
   "cell_type": "markdown",
   "id": "deccff3d",
   "metadata": {},
   "source": [
    "## 1.1 Keyboard Shortcuts"
   ]
  },
  {
   "cell_type": "markdown",
   "id": "9dcf09a1-026b-4e46-808d-d718343eab1f",
   "metadata": {},
   "source": [
    "ctrl and enter to run cells \n",
    "\n",
    "shift and enter to run and moveto next cell\n",
    "\n",
    "esc and Y to convert to code cell\n",
    "\n",
    "esc and M to convert to mark down\n",
    "\n",
    "esc and A/B create cell abv/bel\n",
    "\n",
    "shift and M merge cells \n",
    "\n",
    "esc and D + D deletes cell\n",
    "\n",
    "esc and H shows short cut"
   ]
  },
  {
   "cell_type": "code",
   "execution_count": null,
   "id": "5ada7166-81a1-4f3d-8119-72c9ba1d6aa8",
   "metadata": {},
   "outputs": [],
   "source": []
  },
  {
   "attachments": {},
   "cell_type": "markdown",
   "id": "81fb7bc5",
   "metadata": {},
   "source": [
    "### Things to note"
   ]
  },
  {
   "cell_type": "markdown",
   "id": "fdb7b730-613b-41be-b329-98d501852850",
   "metadata": {},
   "source": [
    "- You can select one or more cells using SHIFT and the up and down arrow keys.\n",
    "- Be careful with the delete shortcut; it can be ruthless.\n",
    "- You can view (and set) shortcuts for Jupyter Notebooks by typing ESC + H.\n"
   ]
  },
  {
   "attachments": {},
   "cell_type": "markdown",
   "id": "26148d47",
   "metadata": {},
   "source": [
    "## 1.2 Shell commands"
   ]
  },
  {
   "cell_type": "code",
   "execution_count": 1,
   "id": "ca88347d-05e9-413c-922e-7e2edab31f02",
   "metadata": {},
   "outputs": [
    {
     "name": "stdout",
     "output_type": "stream",
     "text": [
      " Volume in drive C is OS\n",
      " Volume Serial Number is F0C5-A2F8\n",
      "\n",
      " Directory of C:\\Users\\ASUS\\OneDrive\\Desktop\\GitHub\\learning-portfolio-EtOsOuP\\using jupyter\n",
      "\n",
      "01/23/2024  04:23 PM    <DIR>          .\n",
      "01/23/2024  04:24 PM    <DIR>          ..\n",
      "01/25/2024  11:05 AM    <DIR>          .ipynb_checkpoints\n",
      "01/22/2024  03:04 PM             6,910 using-jupyter_need.ipynb\n",
      "01/17/2024  08:53 AM             2,512 using_jupyter_(good).ipynb\n",
      "01/23/2024  04:23 PM             3,986 using_jupyter_(need).ipynb\n",
      "               3 File(s)         13,408 bytes\n",
      "               3 Dir(s)  276,529,819,648 bytes free\n"
     ]
    }
   ],
   "source": [
    "!dir\n",
    "\n",
    "#this shows a list of all files in folder. running terminal from jupyter "
   ]
  },
  {
   "cell_type": "code",
   "execution_count": 2,
   "id": "f6e84a8e-d945-4d0e-9d24-69475ac5ea98",
   "metadata": {},
   "outputs": [
    {
     "name": "stdout",
     "output_type": "stream",
     "text": [
      "C:\\Users\\ASUS\\OneDrive\\Desktop\\GitHub\\learning-portfolio-EtOsOuP\\using jupyter\n"
     ]
    }
   ],
   "source": [
    "!cd #shows the current working directory"
   ]
  },
  {
   "attachments": {},
   "cell_type": "markdown",
   "id": "ce1435c2",
   "metadata": {},
   "source": [
    "# 2 Jupyter Extensions (skipped)"
   ]
  },
  {
   "attachments": {},
   "cell_type": "markdown",
   "id": "ad7aeb1b",
   "metadata": {},
   "source": [
    "## 2.1 Installing the extensions"
   ]
  },
  {
   "attachments": {},
   "cell_type": "markdown",
   "id": "538034d8",
   "metadata": {},
   "source": [
    "## 2.2 Enabling the extensions"
   ]
  },
  {
   "attachments": {},
   "cell_type": "markdown",
   "id": "e6ed9cdd",
   "metadata": {},
   "source": [
    "# 3 Shell Magic"
   ]
  },
  {
   "cell_type": "code",
   "execution_count": 3,
   "id": "0abbbcf6-423b-4af4-9818-78e3cb29b01f",
   "metadata": {},
   "outputs": [
    {
     "name": "stdout",
     "output_type": "stream",
     "text": [
      "12.7 ns ± 0.159 ns per loop (mean ± std. dev. of 7 runs, 100,000,000 loops each)\n"
     ]
    }
   ],
   "source": [
    "%timeit x=10 #times how long it takes to run the command. works only for one line\n"
   ]
  },
  {
   "cell_type": "code",
   "execution_count": 4,
   "id": "096a1d8c-efa3-431a-a63b-e656005db1e5",
   "metadata": {},
   "outputs": [
    {
     "name": "stdout",
     "output_type": "stream",
     "text": [
      "23.1 ns ± 2.87 ns per loop (mean ± std. dev. of 7 runs, 10,000,000 loops each)\n"
     ]
    }
   ],
   "source": [
    "%%timeit #cell magic. works for the whole cell\n",
    "x=10\n",
    "y=10\n",
    "z=10\n"
   ]
  },
  {
   "attachments": {},
   "cell_type": "markdown",
   "id": "2f0322b4",
   "metadata": {},
   "source": [
    "# 4 The Kernel"
   ]
  },
  {
   "cell_type": "code",
   "execution_count": null,
   "id": "61d03353-7011-463e-9afd-c20af9f720aa",
   "metadata": {},
   "outputs": [],
   "source": [
    "can interrupt, restart or shutdown the kernal from 'kernal' tab\n",
    "\n",
    "interrupt kernal "
   ]
  },
  {
   "cell_type": "code",
   "execution_count": null,
   "id": "29f22009-86a2-40ef-93ec-2d5d5231f1e4",
   "metadata": {},
   "outputs": [],
   "source": []
  },
  {
   "attachments": {},
   "cell_type": "markdown",
   "id": "a72ac6a9",
   "metadata": {},
   "source": [
    "# 5 EX"
   ]
  }
 ],
 "metadata": {
  "kernelspec": {
   "display_name": "Python 3 (ipykernel)",
   "language": "python",
   "name": "python3"
  },
  "language_info": {
   "codemirror_mode": {
    "name": "ipython",
    "version": 3
   },
   "file_extension": ".py",
   "mimetype": "text/x-python",
   "name": "python",
   "nbconvert_exporter": "python",
   "pygments_lexer": "ipython3",
   "version": "3.11.5"
  },
  "toc": {
   "base_numbering": 1,
   "nav_menu": {},
   "number_sections": true,
   "sideBar": true,
   "skip_h1_title": false,
   "title_cell": "Table of Contents",
   "title_sidebar": "Contents",
   "toc_cell": false,
   "toc_position": {},
   "toc_section_display": true,
   "toc_window_display": false
  },
  "vscode": {
   "interpreter": {
    "hash": "31f2aee4e71d21fbe5cf8b01ff0e069b9275f58929596ceb00d14d90e3e16cd6"
   }
  }
 },
 "nbformat": 4,
 "nbformat_minor": 5
}
