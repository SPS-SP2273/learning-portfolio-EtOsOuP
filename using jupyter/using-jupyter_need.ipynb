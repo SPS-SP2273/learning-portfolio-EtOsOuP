{
 "cells": [
  {
   "cell_type": "code",
   "execution_count": 1,
   "id": "10e20d4b-9d9c-4008-89b3-be644066943e",
   "metadata": {},
   "outputs": [
    {
     "ename": "SyntaxError",
     "evalue": "invalid syntax (196625161.py, line 1)",
     "output_type": "error",
     "traceback": [
      "\u001b[1;36m  Cell \u001b[1;32mIn[1], line 1\u001b[1;36m\u001b[0m\n\u001b[1;33m    Hello World!\u001b[0m\n\u001b[1;37m          ^\u001b[0m\n\u001b[1;31mSyntaxError\u001b[0m\u001b[1;31m:\u001b[0m invalid syntax\n"
     ]
    }
   ],
   "source": [
    "Hello World!\n"
   ]
  },
  {
   "cell_type": "code",
   "execution_count": 2,
   "id": "467c2cbc-55c6-44ec-9f5a-e830b953c8ba",
   "metadata": {},
   "outputs": [
    {
     "data": {
      "text/plain": [
       "1"
      ]
     },
     "execution_count": 2,
     "metadata": {},
     "output_type": "execute_result"
    }
   ],
   "source": [
    "1 "
   ]
  },
  {
   "cell_type": "code",
   "execution_count": 3,
   "id": "3bffdfd2-a870-4cdb-87f4-4af5c7309850",
   "metadata": {},
   "outputs": [
    {
     "name": "stdout",
     "output_type": "stream",
     "text": [
      "6\n"
     ]
    }
   ],
   "source": [
    "a=4\n",
    "b=2\n",
    "c=a+b\n",
    "print(c)"
   ]
  },
  {
   "cell_type": "code",
   "execution_count": 4,
   "id": "113fffa7-db4a-4dd4-9617-529d684b3701",
   "metadata": {},
   "outputs": [
    {
     "name": "stdout",
     "output_type": "stream",
     "text": [
      "Hello World\n"
     ]
    }
   ],
   "source": [
    "print('Hello World')\n"
   ]
  },
  {
   "cell_type": "markdown",
   "id": "b875fed8-cd9d-4ac9-9681-376e4255c07b",
   "metadata": {},
   "source": [
    "odmokmowifoiwaf\n"
   ]
  },
  {
   "cell_type": "code",
   "execution_count": 5,
   "id": "2d820f94-163e-42ee-80be-5156ae4caf04",
   "metadata": {},
   "outputs": [
    {
     "ename": "SyntaxError",
     "evalue": "unterminated string literal (detected at line 1) (2245980363.py, line 1)",
     "output_type": "error",
     "traceback": [
      "\u001b[1;36m  Cell \u001b[1;32mIn[5], line 1\u001b[1;36m\u001b[0m\n\u001b[1;33m    The ships hung in the ski in much the same way that bricks don't\u001b[0m\n\u001b[1;37m                                                                  ^\u001b[0m\n\u001b[1;31mSyntaxError\u001b[0m\u001b[1;31m:\u001b[0m unterminated string literal (detected at line 1)\n"
     ]
    }
   ],
   "source": [
    "The ships hung in the ski in much the same way that bricks don't"
   ]
  },
  {
   "cell_type": "markdown",
   "id": "b09e8c82-f70a-4fbb-9ef6-335341119a62",
   "metadata": {},
   "source": [
    "The ships hung in the sky in much the same way that bricks don’t."
   ]
  },
  {
   "cell_type": "markdown",
   "id": "3bb72a4c-1c41-477b-b9c2-5cb51a9b3bcb",
   "metadata": {},
   "source": [
    "The ships *hung in the sky* in much the same way that **bricks don't.**<sup>1</sup><sub>QUOTE</sub>"
   ]
  },
  {
   "cell_type": "code",
   "execution_count": 7,
   "id": "cb4d7c12-02f7-4170-b49b-743522f90576",
   "metadata": {},
   "outputs": [
    {
     "ename": "SyntaxError",
     "evalue": "invalid syntax (514881514.py, line 1)",
     "output_type": "error",
     "traceback": [
      "\u001b[1;36m  Cell \u001b[1;32mIn[7], line 1\u001b[1;36m\u001b[0m\n\u001b[1;33m    ```python\u001b[0m\n\u001b[1;37m    ^\u001b[0m\n\u001b[1;31mSyntaxError\u001b[0m\u001b[1;31m:\u001b[0m invalid syntax\n"
     ]
    }
   ],
   "source": [
    "```python\n",
    "print('Hello World')\n",
    "```"
   ]
  },
  {
   "cell_type": "code",
   "execution_count": 8,
   "id": "8641b289-767e-483d-b02b-b42d87abb729",
   "metadata": {},
   "outputs": [
    {
     "ename": "SyntaxError",
     "evalue": "invalid syntax (3272306370.py, line 1)",
     "output_type": "error",
     "traceback": [
      "\u001b[1;36m  Cell \u001b[1;32mIn[8], line 1\u001b[1;36m\u001b[0m\n\u001b[1;33m    ``python\u001b[0m\n\u001b[1;37m    ^\u001b[0m\n\u001b[1;31mSyntaxError\u001b[0m\u001b[1;31m:\u001b[0m invalid syntax\n"
     ]
    }
   ],
   "source": [
    "``python\n",
    "print('Hello World')\n",
    "``"
   ]
  },
  {
   "cell_type": "markdown",
   "id": "c864379f-36c8-49a6-ac97-7457e1ae959b",
   "metadata": {},
   "source": [
    "```python\n",
    "print('Hello World')\n",
    "```"
   ]
  },
  {
   "cell_type": "code",
   "execution_count": 9,
   "id": "a38a8377-8b57-4ac4-8a39-c05877b68283",
   "metadata": {},
   "outputs": [
    {
     "ename": "SyntaxError",
     "evalue": "invalid syntax. Perhaps you forgot a comma? (2188561483.py, line 1)",
     "output_type": "error",
     "traceback": [
      "\u001b[1;36m  Cell \u001b[1;32mIn[9], line 1\u001b[1;36m\u001b[0m\n\u001b[1;33m    [SP2273 website](https://sps.nus.edu.sg/sp2273)\u001b[0m\n\u001b[1;37m     ^\u001b[0m\n\u001b[1;31mSyntaxError\u001b[0m\u001b[1;31m:\u001b[0m invalid syntax. Perhaps you forgot a comma?\n"
     ]
    }
   ],
   "source": [
    "[SP2273 website](https://sps.nus.edu.sg/sp2273)"
   ]
  },
  {
   "cell_type": "markdown",
   "id": "cc6785ae-249e-4de1-9b06-f080151fcf6a",
   "metadata": {},
   "source": [
    "[SP2273 website](https://sps.nus.edu.sg/sp2273)\n"
   ]
  },
  {
   "cell_type": "markdown",
   "id": "8e82288f-f060-4d5b-9df5-6a7904a8ce9d",
   "metadata": {},
   "source": [
    "![](https://nus.edu.sg/images/default-source/base/logo.png)"
   ]
  },
  {
   "cell_type": "markdown",
   "id": "84dd4561-b290-4742-9bb2-fd7444910a7e",
   "metadata": {},
   "source": [
    "\n",
    "| A    |  B   |    C |\r\n",
    "| :--- | :--: | ---: |\r\n",
    "| a1   |  b1  |   c1 |\r\n",
    "| a2   |  b2  |   c2 |\r\n",
    "| a3   |  b3  |   c3 |"
   ]
  },
  {
   "cell_type": "markdown",
   "id": "fa205759-8d72-45e8-9b09-cccacdf07222",
   "metadata": {},
   "source": [
    "| A    |  B   |    C |\r\n",
    "| :--:- | :--: | ---: |\r\n",
    "| a1   |  b1  |   c1 |\r\n",
    "| a2   |  b2  |   c2 |\r\n",
    "| a3   |  b3  |   c3 |"
   ]
  },
  {
   "cell_type": "markdown",
   "id": "cb56e371-98f5-44e1-b56b-9e9855681dd5",
   "metadata": {},
   "source": [
    "| A    |  B   |    C |\n",
    "| :--- | :--: | ---: |\n",
    "| a1   |  b1  |   c1 |\n",
    "| a2   |  b2  |   c2 |\n",
    "| a3   |  b3  |   c3 |"
   ]
  },
  {
   "cell_type": "markdown",
   "id": "634f9b38-0db6-4d76-a164-a29ad93abb26",
   "metadata": {},
   "source": [
    "1. Master Yoda is a pain in the ass\n",
    "2. Luke sky walker is a pain in the ass\n",
    "1. Anakin Skywalker is a pain in the ass"
   ]
  }
 ],
 "metadata": {
  "kernelspec": {
   "display_name": "Python 3 (ipykernel)",
   "language": "python",
   "name": "python3"
  },
  "language_info": {
   "codemirror_mode": {
    "name": "ipython",
    "version": 3
   },
   "file_extension": ".py",
   "mimetype": "text/x-python",
   "name": "python",
   "nbconvert_exporter": "python",
   "pygments_lexer": "ipython3",
   "version": "3.11.5"
  }
 },
 "nbformat": 4,
 "nbformat_minor": 5
}
