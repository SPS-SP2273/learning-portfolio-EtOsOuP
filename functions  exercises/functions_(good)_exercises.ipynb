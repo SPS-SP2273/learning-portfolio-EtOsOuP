{
 "cells": [
  {
   "attachments": {},
   "cell_type": "markdown",
   "id": "123456",
   "metadata": {},
   "source": [
    "<div style=\"text-align:left;font-size:2em\"><span style=\"font-weight:bolder;font-size:1.25em\">SP2273 | Learning Portfolio</span><br><br><span style=\"font-weight:bold;color:darkred\">Functions (Good) Exercises</span></div>"
   ]
  },
  {
   "cell_type": "markdown",
   "id": "09ab3dc3-456d-4af4-86db-577e5e04eafc",
   "metadata": {},
   "source": [
    "## Excercise 1"
   ]
  },
  {
   "cell_type": "code",
   "execution_count": 8,
   "id": "b3cc2e89-d668-43ef-b7c8-fef250dde40d",
   "metadata": {},
   "outputs": [],
   "source": [
    "def convert_celsius(temperature_celsius, target_scale = 'Fahrenheit'):\n",
    "    if target_scale == 'Fahrenheit':\n",
    "        temperature_fahrenheit = (temperature_celsius * 9/5) +32\n",
    "        return temperature_fahrenheit\n",
    "    elif target_scale == 'Kelvin':\n",
    "        temperature_kelvin = (temperature_celsius + 273.15)\n",
    "        return temperature_kelvin\n",
    "    else:\n",
    "        return convert_celsius()\n"
   ]
  },
  {
   "cell_type": "code",
   "execution_count": 9,
   "id": "94c64878-a1d3-4e58-b31e-d584dea815e9",
   "metadata": {},
   "outputs": [
    {
     "name": "stdout",
     "output_type": "stream",
     "text": [
      "25 degrees Celsius is equal to 77.0 degrees Fahrenheit.\n",
      "25 degrees Celsius is equal to 298.15 Kelvin.\n"
     ]
    }
   ],
   "source": [
    "# Example usage:\n",
    "celsius_temperature = 25\n",
    "fahrenheit_temperature = convert_celsius(celsius_temperature)\n",
    "print(f\"{celsius_temperature} degrees Celsius is equal to {fahrenheit_temperature} degrees Fahrenheit.\")\n",
    "\n",
    "kelvin_temperature = convert_celsius(celsius_temperature, 'Kelvin')\n",
    "print(f\"{celsius_temperature} degrees Celsius is equal to {kelvin_temperature} Kelvin.\")"
   ]
  },
  {
   "cell_type": "markdown",
   "id": "98f10245-eb17-483e-b2de-d41e63725326",
   "metadata": {},
   "source": [
    "## Exercise 2"
   ]
  },
  {
   "cell_type": "code",
   "execution_count": 13,
   "id": "ef7ff072-4793-425f-ab5f-c40e119f0ec5",
   "metadata": {},
   "outputs": [],
   "source": [
    "def convert_fahrenheit(temperature_fahrenheit, target_scale = 'Celsius'):\n",
    "    if target_scale == 'Kelvin':\n",
    "        temperature_kelvin = (temperature_fahrenheit -32)*5/9 + 273.15\n",
    "        return temperature_kelvin\n",
    "        \n",
    "    elif target_scale == 'Celsius':\n",
    "        temperature_celsius = (temperature_fahrenheit -32)* 5/9\n",
    "        return temperature_celsius\n",
    "    else:\n",
    "        return temperature_celsius"
   ]
  },
  {
   "cell_type": "code",
   "execution_count": 15,
   "id": "23d080e8-fd67-46b1-b9d0-f7cb3820acfc",
   "metadata": {},
   "outputs": [
    {
     "name": "stdout",
     "output_type": "stream",
     "text": [
      "25 degrees Fahrenheit is equal to -3.888888888888889 degrees celsius.\n",
      "25 degrees Fahrenheit is equal to 269.26111111111106 Kelvin.\n"
     ]
    }
   ],
   "source": [
    "# Example usage:\n",
    "fahrenheit_temperature = 25\n",
    "celsius_temperature = convert_fahrenheit(fahrenheit_temperature)\n",
    "print(f\"{fahrenheit_temperature} degrees Fahrenheit is equal to {celsius_temperature} degrees celsius.\")\n",
    "\n",
    "kelvin_temperature = convert_fahrenheit(fahrenheit_temperature, 'Kelvin')\n",
    "print(f\"{fahrenheit_temperature} degrees Fahrenheit is equal to {kelvin_temperature} Kelvin.\")"
   ]
  },
  {
   "cell_type": "markdown",
   "id": "1c8be2c6-63fd-4980-b043-1a1bdbb12648",
   "metadata": {},
   "source": [
    "## Exercise 3"
   ]
  },
  {
   "cell_type": "code",
   "execution_count": 21,
   "id": "e7ff8626-81bf-4741-9771-2423c3cad34c",
   "metadata": {},
   "outputs": [
    {
     "name": "stdout",
     "output_type": "stream",
     "text": [
      "12983 degrees Celsius is equal to 13256.15 degrees Kelvin.\n"
     ]
    }
   ],
   "source": [
    "def convert_temperature(temperature, source_scale, target_scale):\n",
    "    if source_scale == 'Celsius':\n",
    "        celsius_temperature = temperature\n",
    "    elif source_scale == 'Fahrenheit':\n",
    "        celsius_temperature = convert_fahrenheit(fahrenheit_temperature)\n",
    "    elif source_scale == 'Kelvin':\n",
    "        celsius_temperature = temperature - 273.15\n",
    "        \n",
    "    if target_scale == 'Celsius':\n",
    "        return celsius_temperature\n",
    "    elif target_scale == 'Fahrenheit':\n",
    "        celsius_fahren = convert_celsius(celsius_temperature, target_scale = 'Fahrenheit')\n",
    "        return celsius_fahren\n",
    "    elif target_scale == 'Kelvin':\n",
    "        celsius_kelvin = convert_celsius(celsius_temperature, target_scale = 'Kelvin')\n",
    "        return celsius_kelvin\n",
    "\n",
    "\n",
    "# Example usage:\n",
    "temperature = 12983\n",
    "source_scale = 'Celsius'\n",
    "target_scale = 'Kelvin'\n",
    "\n",
    "converted_temperature = convert_temperature(temperature, source_scale, target_scale)\n",
    "print(f\"{temperature} degrees {source_scale} is equal to {converted_temperature} degrees {target_scale}.\")"
   ]
  },
  {
   "cell_type": "code",
   "execution_count": null,
   "id": "b5c2c858-bfdf-4ef9-b1a9-9b8d1d668a33",
   "metadata": {},
   "outputs": [],
   "source": []
  },
  {
   "cell_type": "code",
   "execution_count": null,
   "id": "eecbb94b-b623-43ef-bda5-fb442ab6a12f",
   "metadata": {},
   "outputs": [],
   "source": []
  }
 ],
 "metadata": {
  "kernelspec": {
   "display_name": "Python 3 (ipykernel)",
   "language": "python",
   "name": "python3"
  },
  "language_info": {
   "codemirror_mode": {
    "name": "ipython",
    "version": 3
   },
   "file_extension": ".py",
   "mimetype": "text/x-python",
   "name": "python",
   "nbconvert_exporter": "python",
   "pygments_lexer": "ipython3",
   "version": "3.11.5"
  },
  "toc": {
   "base_numbering": 1,
   "nav_menu": {},
   "number_sections": true,
   "sideBar": true,
   "skip_h1_title": false,
   "title_cell": "Table of Contents",
   "title_sidebar": "Contents",
   "toc_cell": false,
   "toc_position": {},
   "toc_section_display": true,
   "toc_window_display": false
  },
  "vscode": {
   "interpreter": {
    "hash": "31f2aee4e71d21fbe5cf8b01ff0e069b9275f58929596ceb00d14d90e3e16cd6"
   }
  }
 },
 "nbformat": 4,
 "nbformat_minor": 5
}
