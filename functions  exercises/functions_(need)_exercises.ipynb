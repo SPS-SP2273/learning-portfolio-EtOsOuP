{
 "cells": [
  {
   "attachments": {},
   "cell_type": "markdown",
   "id": "123456",
   "metadata": {},
   "source": [
    "<div style=\"text-align:left;font-size:2em\"><span style=\"font-weight:bolder;font-size:1.25em\">SP2273 | Learning Portfolio</span><br><br><span style=\"font-weight:bold;color:darkred\">Functions (Need) Exercises</span></div>"
   ]
  },
  {
   "cell_type": "markdown",
   "id": "5d27e40a-39ea-4640-a685-733d5c796249",
   "metadata": {},
   "source": [
    "## Exercise 1 (do you know why?)"
   ]
  },
  {
   "cell_type": "code",
   "execution_count": 4,
   "id": "cbd9e834-66da-4161-84aa-6e917b3df2f0",
   "metadata": {},
   "outputs": [
    {
     "data": {
      "text/plain": [
       "'Hello superman!'"
      ]
     },
     "execution_count": 4,
     "metadata": {},
     "output_type": "execute_result"
    }
   ],
   "source": [
    "def greeting(name):\n",
    "    if name == 'Batman':\n",
    "        return 'Hello Batman! So, nice to meet you!'\n",
    "    return f'Hello {name}!'\n",
    "\n",
    "greeting('superman')"
   ]
  },
  {
   "cell_type": "markdown",
   "id": "27cc2690-8a88-49c4-bf17-bb149f2d4b36",
   "metadata": {},
   "source": [
    "Because the retun function allows python to jump out of the function to give the returned value should name is not = to batman. thus the finction else is not needed.\n",
    "\n",
    "---updated explanation (this is after seeing comments)---\n",
    "when python encounters a return statement, it exits the reading prematurely and returns whatever is of the return value. Thus the second line is not even runned when the if statment is true.\n",
    "\n",
    "if the if statement is false, then python just looks at wtv is after the if block code, which is the second return statement. it will return the value and end the cell prematurely. any code after that will not be executed.\n"
   ]
  },
  {
   "cell_type": "markdown",
   "id": "89e2d24c-f542-4c6e-b7e4-b47ae67fa41f",
   "metadata": {},
   "source": [
    "## Excercise 2 (Chubby or not)"
   ]
  },
  {
   "cell_type": "code",
   "execution_count": 20,
   "id": "7a1492ca-74cc-47a8-bf0c-7c993583daa9",
   "metadata": {},
   "outputs": [],
   "source": [
    "def calculated_bmi(weight, height):\n",
    "    bmi = weight / (height ** 2)\n",
    "    if bmi < 18.5 :\n",
    "        return 'Underweight'\n",
    "    if 18.5 < bmi < 24.9 :\n",
    "        return 'Normal weight'\n",
    "    if 25 < bmi < 29.9 :\n",
    "        return 'Overweight'\n",
    "    else:\n",
    "        return 'Obesity'\n"
   ]
  },
  {
   "cell_type": "code",
   "execution_count": 23,
   "id": "81528a90-06eb-4023-9875-d549320c43cb",
   "metadata": {},
   "outputs": [
    {
     "data": {
      "text/plain": [
       "'Obesity'"
      ]
     },
     "execution_count": 23,
     "metadata": {},
     "output_type": "execute_result"
    }
   ],
   "source": [
    "weight=70\n",
    "height=1.5\n",
    "\n",
    "calculated_bmi(weight,height)"
   ]
  },
  {
   "cell_type": "code",
   "execution_count": null,
   "id": "4e844eb0-262c-4281-a1ac-7756db0fdab4",
   "metadata": {},
   "outputs": [],
   "source": []
  },
  {
   "cell_type": "code",
   "execution_count": null,
   "id": "facbd83b-590e-4ec1-89cf-c1fb569c142f",
   "metadata": {},
   "outputs": [],
   "source": []
  },
  {
   "cell_type": "code",
   "execution_count": null,
   "id": "8c3b73d9-4345-421f-9054-06253d217f70",
   "metadata": {},
   "outputs": [],
   "source": []
  },
  {
   "cell_type": "code",
   "execution_count": null,
   "id": "7be17687-bf5d-47a1-b56f-3aa4c7d33985",
   "metadata": {},
   "outputs": [],
   "source": []
  },
  {
   "cell_type": "code",
   "execution_count": null,
   "id": "b6d3bb5a-59ff-4323-b601-14fa38c37933",
   "metadata": {},
   "outputs": [],
   "source": []
  },
  {
   "cell_type": "code",
   "execution_count": null,
   "id": "fa338f4c-5e74-4cc1-8ce8-c6504b11617b",
   "metadata": {},
   "outputs": [],
   "source": []
  }
 ],
 "metadata": {
  "kernelspec": {
   "display_name": "Python 3 (ipykernel)",
   "language": "python",
   "name": "python3"
  },
  "language_info": {
   "codemirror_mode": {
    "name": "ipython",
    "version": 3
   },
   "file_extension": ".py",
   "mimetype": "text/x-python",
   "name": "python",
   "nbconvert_exporter": "python",
   "pygments_lexer": "ipython3",
   "version": "3.11.5"
  },
  "toc": {
   "base_numbering": 1,
   "nav_menu": {},
   "number_sections": true,
   "sideBar": true,
   "skip_h1_title": false,
   "title_cell": "Table of Contents",
   "title_sidebar": "Contents",
   "toc_cell": false,
   "toc_position": {},
   "toc_section_display": true,
   "toc_window_display": false
  },
  "vscode": {
   "interpreter": {
    "hash": "31f2aee4e71d21fbe5cf8b01ff0e069b9275f58929596ceb00d14d90e3e16cd6"
   }
  }
 },
 "nbformat": 4,
 "nbformat_minor": 5
}
