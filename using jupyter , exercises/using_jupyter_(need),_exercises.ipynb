{
 "cells": [
  {
   "attachments": {},
   "cell_type": "markdown",
   "id": "123456",
   "metadata": {},
   "source": [
    "<div style=\"text-align:left;font-size:2em\"><span style=\"font-weight:bolder;font-size:1.25em\">SP2273 | Learning Portfolio</span><br><br><span style=\"font-weight:bold;color:darkred\">Using Jupyter (Need), Exercises</span></div>"
   ]
  },
  {
   "attachments": {},
   "cell_type": "markdown",
   "id": "8812fe3d",
   "metadata": {},
   "source": [
    "## Quadratic Equations"
   ]
  },
  {
   "attachments": {},
   "cell_type": "markdown",
   "id": "bc6e0dd6",
   "metadata": {},
   "source": [
    "### Introduction"
   ]
  },
  {
   "cell_type": "markdown",
   "id": "676c9a46-ebb3-4667-a232-73c31775ee7d",
   "metadata": {},
   "source": [
    "![(Image from the Wikipedia page on Quadratic equations)](https://upload.wikimedia.org/wikipedia/commons/thumb/f/f8/Polynomialdeg2.svg/600px-Polynomialdeg2.svg.png)\n",
    "\n",
    "(Image from the [Wikipedia page on Quadratic equations](https://en.wikipedia.org/wiki/Quadratic_equation))\n",
    "\n",
    "The general form of a quadratic equation is:\n",
    "                                                                    $$ax^2+bX+c$$\n"
   ]
  },
  {
   "attachments": {},
   "cell_type": "markdown",
   "id": "1f5d5359",
   "metadata": {},
   "source": [
    "### Solutions"
   ]
  },
  {
   "cell_type": "markdown",
   "id": "a16dd2a5-8d0e-444c-ab1b-b45cc9e46691",
   "metadata": {},
   "source": [
    "\n",
    "Provided $a\\ne 0$\r\n",
    ", we can use an elementary algebraic method called[ completing the squar](https://en.wikipedia.org/wiki/Completing_the_square)e to show that a quadratic equation has the following solution\n",
    "\n",
    "\n",
    "                                                                $$ x=\\dfrac{-b:\n"
   ]
  },
  {
   "cell_type": "markdown",
   "id": "b3aac637-31bd-447e-9063-eca4e075b085",
   "metadata": {},
   "source": [
    "\n",
    "Provided $a\\ne 0$\r\n",
    ", we can use an elementary algebraic method called[ completing the squar](https://en.wikipedia.org/wiki/Completing_the_square)e to show that a quadratic equation has the following solution:\n"
   ]
  },
  {
   "attachments": {},
   "cell_type": "markdown",
   "id": "768c7b4c",
   "metadata": {},
   "source": [
    "### Discriminant"
   ]
  },
  {
   "cell_type": "code",
   "execution_count": null,
   "id": "7765ed38",
   "metadata": {},
   "outputs": [],
   "source": [
    "\n",
    "# Your code here\n"
   ]
  }
 ],
 "metadata": {
  "kernelspec": {
   "display_name": "Python 3 (ipykernel)",
   "language": "python",
   "name": "python3"
  },
  "language_info": {
   "codemirror_mode": {
    "name": "ipython",
    "version": 3
   },
   "file_extension": ".py",
   "mimetype": "text/x-python",
   "name": "python",
   "nbconvert_exporter": "python",
   "pygments_lexer": "ipython3",
   "version": "3.11.5"
  },
  "toc": {
   "base_numbering": 1,
   "nav_menu": {},
   "number_sections": true,
   "sideBar": true,
   "skip_h1_title": false,
   "title_cell": "Table of Contents",
   "title_sidebar": "Contents",
   "toc_cell": false,
   "toc_position": {},
   "toc_section_display": true,
   "toc_window_display": false
  },
  "vscode": {
   "interpreter": {
    "hash": "31f2aee4e71d21fbe5cf8b01ff0e069b9275f58929596ceb00d14d90e3e16cd6"
   }
  }
 },
 "nbformat": 4,
 "nbformat_minor": 5
}
