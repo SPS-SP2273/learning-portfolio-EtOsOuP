{
 "cells": [
  {
   "attachments": {},
   "cell_type": "markdown",
   "id": "123456",
   "metadata": {},
   "source": [
    "<div style=\"text-align:left;font-size:2em\"><span style=\"font-weight:bolder;font-size:1.25em\">SP2273 | Learning Portfolio</span><br><br><span style=\"font-weight:bold;color:darkred\">Using Jupyter (Need), Exercises</span></div>"
   ]
  },
  {
   "attachments": {},
   "cell_type": "markdown",
   "id": "8812fe3d",
   "metadata": {},
   "source": [
    "## Quadratic Equations"
   ]
  },
  {
   "attachments": {},
   "cell_type": "markdown",
   "id": "bc6e0dd6",
   "metadata": {},
   "source": [
    "### Introduction"
   ]
  },
  {
   "cell_type": "markdown",
   "id": "676c9a46-ebb3-4667-a232-73c31775ee7d",
   "metadata": {},
   "source": [
    "![(Image from the Wikipedia page on Quadratic equations)](https://upload.wikimedia.org/wikipedia/commons/thumb/f/f8/Polynomialdeg2.svg/600px-Polynomialdeg2.svg.png)\n",
    "\n",
    "(*Image from the [Wikipedia page on Quadratic equations](https://en.wikipedia.org/wiki/Quadratic_equation)*)\n",
    "\n",
    "The general form of a quadratic equation is:\n",
    "$$\n",
    "ax^2+bx+c=0\n",
    "$$\n"
   ]
  },
  {
   "attachments": {},
   "cell_type": "markdown",
   "id": "1f5d5359",
   "metadata": {},
   "source": [
    "### Solutions"
   ]
  },
  {
   "cell_type": "markdown",
   "id": "b01734df-76a3-4826-ba41-e64cb089e5ae",
   "metadata": {},
   "source": [
    "Provided $a\\ne0$, we can use an elementary algebraic method called [completing the square](https://en.wikipedia.org/wiki/Completing_the_square) to show that a quadratic equation has the following solution:\n",
    "$$\n",
    "x = \\dfrac{-b \\pm \\sqrt{b^2-4ac}}{2a}\n",
    "$$"
   ]
  },
  {
   "attachments": {},
   "cell_type": "markdown",
   "id": "768c7b4c",
   "metadata": {},
   "source": [
    "### Discriminant"
   ]
  },
  {
   "cell_type": "markdown",
   "id": "2b4a315f-1dd3-4194-a4d3-6eb0c97c3b45",
   "metadata": {},
   "source": [
    "The quantity $\\Delta = b^2 - 4ac$ is called the **discriminant** of the equation and decides the nature of its solutions. The table below shows the various possibilities.\n",
    "\n",
    "| Discriminant               | Roots                                 |\n",
    "|----------------------------|---------------------------------------|\n",
    "| $\\Delta = b^2 - 4ac = 0$   | A single solution of $\\dfrac{-b}{2a}$ |\n",
    "| $\\Delta = b^2 - 4ac \\gt 0$ | Two distinct solutions                |\n",
    "| $\\Delta = b^2 - 4ac \\lt 0$ | No real solutions; both are complex   |"
   ]
  },
  {
   "cell_type": "markdown",
   "id": "35333c0b-104d-43a7-accf-dd8e5f493abd",
   "metadata": {},
   "source": [
    "1. What is a Git **repository**?\n",
    "    1. Git repository is a cloud storage system that monitors edits in files and allows multiple editors and collaborators. GitHub keeps track of changes in the files in our repository.\n",
    "1. What is a commitment?\n",
    "    1. commit is a process whereby changes to my repository via Jupyter Notebook is saved locally in my GitHub file\n",
    "    \n",
    "1. What is a push?\n",
    "    1. push is a process whereby local changes committed are synchronised with the cloud repository on GitHub\n",
    "    \n",
    "1. What is a pull?\n",
    "    1. a pull is a request for updating recent changes from other editors by synchronising local GitHub file with an online GitHub file through GitHub desktop\n",
    "    \n",
    "1. What is the difference between GitHub and GitHub Desktop?\n",
    "    1. GitHub Desktop is a terminal that allows us to store local edits and allows us to control what gets saved on GitHub"
   ]
  }
 ],
 "metadata": {
  "kernelspec": {
   "display_name": "Python 3 (ipykernel)",
   "language": "python",
   "name": "python3"
  },
  "language_info": {
   "codemirror_mode": {
    "name": "ipython",
    "version": 3
   },
   "file_extension": ".py",
   "mimetype": "text/x-python",
   "name": "python",
   "nbconvert_exporter": "python",
   "pygments_lexer": "ipython3",
   "version": "3.11.5"
  },
  "toc": {
   "base_numbering": 1,
   "nav_menu": {},
   "number_sections": true,
   "sideBar": true,
   "skip_h1_title": false,
   "title_cell": "Table of Contents",
   "title_sidebar": "Contents",
   "toc_cell": false,
   "toc_position": {},
   "toc_section_display": true,
   "toc_window_display": false
  },
  "vscode": {
   "interpreter": {
    "hash": "31f2aee4e71d21fbe5cf8b01ff0e069b9275f58929596ceb00d14d90e3e16cd6"
   }
  }
 },
 "nbformat": 4,
 "nbformat_minor": 5
}
