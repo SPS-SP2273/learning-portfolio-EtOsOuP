{
 "cells": [
  {
   "attachments": {},
   "cell_type": "markdown",
   "id": "123456",
   "metadata": {},
   "source": [
    "<div style=\"text-align:left;font-size:2em\"><span style=\"font-weight:bolder;font-size:1.25em\">SP2273 | Learning Portfolio</span><br><br><span style=\"font-weight:bold;color:darkred\">Files, Folders & OS (Need) Exercises</span></div>"
   ]
  },
  {
   "cell_type": "markdown",
   "id": "d033a615-cd03-4dfd-bfb0-eb46f6bf5e6c",
   "metadata": {},
   "source": [
    "## Task 1"
   ]
  },
  {
   "cell_type": "code",
   "execution_count": 2,
   "id": "fd8b6395-bcd6-4e54-bac3-b489e90a898f",
   "metadata": {},
   "outputs": [],
   "source": [
    "import os\n",
    "import glob\n",
    "import shutil"
   ]
  },
  {
   "cell_type": "markdown",
   "id": "a1f36e88-52bf-40b0-8746-7896a1495823",
   "metadata": {},
   "source": [
    "## Task 1 to task 3"
   ]
  },
  {
   "cell_type": "code",
   "execution_count": 16,
   "id": "f5d44d88-37d6-4841-9da3-276fa499787a",
   "metadata": {},
   "outputs": [
    {
     "name": "stdout",
     "output_type": "stream",
     "text": [
      "10-08_singapore.txt\n",
      "07-10_cairo.txt\n",
      "05-15_dhaka.txt\n",
      "05-13_cairo.txt\n",
      "10-21_cairo.txt\n",
      "01-10_singapore.txt\n",
      "06-20_tokyo.txt\n",
      "08-06_jakarta.txt\n",
      "12-21_karachi.txt\n",
      "01-01_tokyo.txt\n"
     ]
    }
   ],
   "source": [
    "\n",
    "def rename_my_file(old_file_name):\n",
    "    old_splited = old_file_name.split('-')\n",
    "    \n",
    "    dictionary = { \n",
    "    'jan': '01', 'feb': '02', 'mar': '03',\n",
    "    'apr': '04', 'may': '05', 'jun': '06',\n",
    "    'jul': '07', 'aug': '08', 'sep': '09',\n",
    "    'oct': '10', 'nov': '11', 'dec': '12'\n",
    "    } #best is to put outside the function so that can prespawn the mobs\n",
    "    \n",
    "    old_splited[0] = dictionary[old_splited[0]]\n",
    "    \n",
    "    new_file_name ='-'.join(old_splited) #paste all the commas tgt and puts seperator demarketed by ' ' between them\n",
    "    return (new_file_name)\n",
    "\n",
    "task_3_file = ['oct-08_singapore.txt', 'jul-10_cairo.txt', 'may-15_dhaka.txt',\n",
    " 'may-13_cairo.txt', 'oct-21_cairo.txt', 'jan-10_singapore.txt',\n",
    " 'jun-20_tokyo.txt', 'aug-06_jakarta.txt', 'dec-21_karachi.txt',\n",
    " 'jan-01_tokyo.txt']\n",
    "\n",
    "for name in task_3_file:\n",
    "    new_task_3_file = rename_my_file(name)\n",
    "    print(new_task_3_file)\n",
    "\n"
   ]
  },
  {
   "cell_type": "markdown",
   "id": "e76128d8-3040-48d5-a92d-0afa9f6150cb",
   "metadata": {},
   "source": [
    "## Task 4"
   ]
  },
  {
   "cell_type": "code",
   "execution_count": 18,
   "id": "5d74e77d-73e0-44cb-af6d-259bfb3c7255",
   "metadata": {},
   "outputs": [],
   "source": [
    "import glob\n",
    "pattern = '*.txt'\n",
    "text_files = glob.glob(pattern)\n",
    "\n",
    "print(text_fil)\n",
    "\n",
    "\n",
    "\n",
    "\n",
    "\n"
   ]
  },
  {
   "cell_type": "code",
   "execution_count": null,
   "id": "f6d93aa4-2f34-416c-b4be-e358f0dd695c",
   "metadata": {},
   "outputs": [],
   "source": []
  },
  {
   "cell_type": "code",
   "execution_count": null,
   "id": "3259894a-7324-45e6-9e5b-3e993ce0848f",
   "metadata": {},
   "outputs": [],
   "source": []
  }
 ],
 "metadata": {
  "kernelspec": {
   "display_name": "Python 3 (ipykernel)",
   "language": "python",
   "name": "python3"
  },
  "language_info": {
   "codemirror_mode": {
    "name": "ipython",
    "version": 3
   },
   "file_extension": ".py",
   "mimetype": "text/x-python",
   "name": "python",
   "nbconvert_exporter": "python",
   "pygments_lexer": "ipython3",
   "version": "3.11.5"
  },
  "toc": {
   "base_numbering": 1,
   "nav_menu": {},
   "number_sections": true,
   "sideBar": true,
   "skip_h1_title": false,
   "title_cell": "Table of Contents",
   "title_sidebar": "Contents",
   "toc_cell": false,
   "toc_position": {},
   "toc_section_display": true,
   "toc_window_display": false
  },
  "vscode": {
   "interpreter": {
    "hash": "31f2aee4e71d21fbe5cf8b01ff0e069b9275f58929596ceb00d14d90e3e16cd6"
   }
  }
 },
 "nbformat": 4,
 "nbformat_minor": 5
}
