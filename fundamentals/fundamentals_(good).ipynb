{
 "cells": [
  {
   "attachments": {},
   "cell_type": "markdown",
   "id": "123456",
   "metadata": {},
   "source": [
    "<div style=\"text-align:left;font-size:2em\"><span style=\"font-weight:bolder;font-size:1.25em\">SP2273 | Learning Portfolio</span><br><br><span style=\"font-weight:bold;color:darkred\">Fundamentals (Good)</span></div>"
   ]
  },
  {
   "attachments": {},
   "cell_type": "markdown",
   "id": "4ce1a2b7",
   "metadata": {},
   "source": [
    "# What to expect in this chapter"
   ]
  },
  {
   "attachments": {},
   "cell_type": "markdown",
   "id": "a7321933",
   "metadata": {},
   "source": [
    "# 1 There is more to if"
   ]
  },
  {
   "cell_type": "code",
   "execution_count": 2,
   "id": "3d666e6f-020b-400d-83e1-93bb8d2ba93e",
   "metadata": {},
   "outputs": [
    {
     "name": "stdout",
     "output_type": "stream",
     "text": [
      "Hello Sidekick!\n"
     ]
    }
   ],
   "source": [
    "name = 'Robin'\n",
    "\n",
    "if name == 'Batman':\n",
    "    print('Hello Batman!')\n",
    "elif name == 'Robin':\n",
    "    print('Hello Sidekick!')\n",
    "else:\n",
    "    print('Hello World!')"
   ]
  },
  {
   "attachments": {},
   "cell_type": "markdown",
   "id": "fcd8b7d7",
   "metadata": {},
   "source": [
    "# 2 Asking questions"
   ]
  },
  {
   "cell_type": "code",
   "execution_count": 32,
   "id": "52ee9810-68ed-4fea-b373-7f431bf8bf83",
   "metadata": {},
   "outputs": [],
   "source": [
    "x=5\n"
   ]
  },
  {
   "cell_type": "code",
   "execution_count": 33,
   "id": "1259b852-f43b-4cf1-af90-2379acb68dc5",
   "metadata": {},
   "outputs": [
    {
     "data": {
      "text/plain": [
       "False"
      ]
     },
     "execution_count": 33,
     "metadata": {},
     "output_type": "execute_result"
    }
   ],
   "source": [
    "x > 5 and x < 15"
   ]
  },
  {
   "attachments": {},
   "cell_type": "markdown",
   "id": "97ed7612",
   "metadata": {},
   "source": [
    "# 3 Remember"
   ]
  },
  {
   "cell_type": "markdown",
   "id": "80110586-01fd-4c03-b5f9-6ff8a7a714a1",
   "metadata": {},
   "source": [
    "not, in, and, or are some Python keywords that are useful in asking questions."
   ]
  },
  {
   "cell_type": "code",
   "execution_count": 34,
   "id": "f055973a-181f-4394-a68c-32c7dd639aca",
   "metadata": {},
   "outputs": [
    {
     "data": {
      "text/plain": [
       "False"
      ]
     },
     "execution_count": 34,
     "metadata": {},
     "output_type": "execute_result"
    }
   ],
   "source": [
    "'apples' > 'oranges'"
   ]
  },
  {
   "attachments": {},
   "cell_type": "markdown",
   "id": "db2fc25a",
   "metadata": {},
   "source": [
    "## 3.1 Asking Math questions"
   ]
  },
  {
   "cell_type": "markdown",
   "id": "a46fc14f-d234-41c6-8d65-c8b74cb9f4b7",
   "metadata": {},
   "source": [
    "x > 5 and x < 15\n",
    "(x > 5) and (x < 15)\n",
    "5 < x < 15\n",
    "\n",
    "are all allowed"
   ]
  },
  {
   "cell_type": "code",
   "execution_count": null,
   "id": "58fc5567-7cc8-4fdd-b685-ecb5e0ab4d11",
   "metadata": {},
   "outputs": [],
   "source": []
  },
  {
   "cell_type": "code",
   "execution_count": null,
   "id": "ce650ae5-26c4-4cbe-85ab-943ef71307ed",
   "metadata": {},
   "outputs": [],
   "source": []
  },
  {
   "attachments": {},
   "cell_type": "markdown",
   "id": "aaceff43",
   "metadata": {},
   "source": [
    "# 4 Python stores information in different formats or types"
   ]
  },
  {
   "cell_type": "code",
   "execution_count": null,
   "id": "d8e35e5b-c564-4a45-9241-8571761065b2",
   "metadata": {},
   "outputs": [],
   "source": [
    "x = int(1.234)\n",
    "print(x, type(x))"
   ]
  },
  {
   "cell_type": "code",
   "execution_count": null,
   "id": "391aa08c-7e82-461e-96b0-d7637c0d85cc",
   "metadata": {},
   "outputs": [],
   "source": [
    "x = str(1.234)\n",
    "print(x, type(x))"
   ]
  },
  {
   "cell_type": "code",
   "execution_count": null,
   "id": "6bd07da6-4968-4724-b6e3-85fda77b80f3",
   "metadata": {},
   "outputs": [],
   "source": [
    "x = float(1.234)\n",
    "print(x, type(x))"
   ]
  },
  {
   "cell_type": "code",
   "execution_count": null,
   "id": "a8444042-7afe-4749-b5f2-d15d8715fc93",
   "metadata": {},
   "outputs": [],
   "source": [
    "x = complex(1.234)\n",
    "print(x, type(x))"
   ]
  },
  {
   "cell_type": "code",
   "execution_count": null,
   "id": "34b32628-3b05-46fe-bd56-e49d5ac7afbc",
   "metadata": {},
   "outputs": [],
   "source": [
    "x = '1.234'        # x is a string\n",
    "print(x, type(x))"
   ]
  },
  {
   "cell_type": "code",
   "execution_count": null,
   "id": "e018264b-4825-468e-b475-69cc6d1a89bc",
   "metadata": {},
   "outputs": [],
   "source": [
    "x = float(x)       # x is now a decimal number\n",
    "print(x, type(x))"
   ]
  },
  {
   "attachments": {},
   "cell_type": "markdown",
   "id": "4c764fa1",
   "metadata": {},
   "source": [
    "# 5 Never compare floats directly"
   ]
  },
  {
   "attachments": {},
   "cell_type": "markdown",
   "id": "b34b08b7",
   "metadata": {},
   "source": [
    "## 5.1 The Problem"
   ]
  },
  {
   "cell_type": "code",
   "execution_count": 35,
   "id": "10a0738c-6b0d-45ba-8609-ef37f62a5114",
   "metadata": {},
   "outputs": [
    {
     "data": {
      "text/plain": [
       "False"
      ]
     },
     "execution_count": 35,
     "metadata": {},
     "output_type": "execute_result"
    }
   ],
   "source": [
    "a = 0.1\n",
    "a3 = 0.3\n",
    "a * 3 == a3"
   ]
  },
  {
   "cell_type": "code",
   "execution_count": 36,
   "id": "c599faaf-1dce-4ef2-be76-d5d05bb7ac57",
   "metadata": {},
   "outputs": [
    {
     "data": {
      "text/plain": [
       "'0.29999999999999999'"
      ]
     },
     "execution_count": 36,
     "metadata": {},
     "output_type": "execute_result"
    }
   ],
   "source": [
    "f'{0.3:.17f}'"
   ]
  },
  {
   "attachments": {},
   "cell_type": "markdown",
   "id": "e5348a15",
   "metadata": {},
   "source": [
    "## 5.2 A solution"
   ]
  },
  {
   "cell_type": "code",
   "execution_count": 37,
   "id": "3d3bd039-77fb-4cf8-bec0-cb8245d23187",
   "metadata": {},
   "outputs": [
    {
     "data": {
      "text/plain": [
       "True"
      ]
     },
     "execution_count": 37,
     "metadata": {},
     "output_type": "execute_result"
    }
   ],
   "source": [
    "eps = 1E-10\n",
    "abs(a * 3 - a3) < eps"
   ]
  },
  {
   "cell_type": "markdown",
   "id": "a10780f6-7dcd-4c72-b577-a3bdd5f086ea",
   "metadata": {},
   "source": [
    "actually asking whether the result is close to whatever number we put there"
   ]
  },
  {
   "attachments": {},
   "cell_type": "markdown",
   "id": "3d532170",
   "metadata": {},
   "source": [
    "# 6 Combining English and variables"
   ]
  },
  {
   "cell_type": "code",
   "execution_count": 21,
   "id": "79d6b399-5d98-4782-9aef-f5f2e8c0daaa",
   "metadata": {},
   "outputs": [
    {
     "name": "stdout",
     "output_type": "stream",
     "text": [
      "Hello Batman!\n"
     ]
    }
   ],
   "source": [
    "name = \"Batman\"\n",
    "print(f\"Hello {name}!\")"
   ]
  },
  {
   "cell_type": "markdown",
   "id": "da448bb5-04bd-4fb6-ae63-31289a1acde1",
   "metadata": {},
   "source": [
    "the F makes python treat the thing inside a variable"
   ]
  },
  {
   "cell_type": "code",
   "execution_count": null,
   "id": "1e1aefc8-1d3b-4e79-8222-7a0319802311",
   "metadata": {},
   "outputs": [],
   "source": [
    "name = \"Batman\"\n",
    "print(f\"Hello {name.upper()}!\")"
   ]
  },
  {
   "cell_type": "markdown",
   "id": "a4f16bb2-18f5-4c4b-8d46-91ac855acfe7",
   "metadata": {},
   "source": [
    "allows for formatting"
   ]
  },
  {
   "cell_type": "code",
   "execution_count": null,
   "id": "24289c30-536d-495a-8d2a-8863474d78b7",
   "metadata": {},
   "outputs": [],
   "source": [
    "x = 10\n",
    "print(f\"The value of {x} squared is {x**2}!\")"
   ]
  },
  {
   "cell_type": "code",
   "execution_count": 26,
   "id": "be62bdb0-d5cd-4f03-99b8-7e9034109638",
   "metadata": {},
   "outputs": [
    {
     "name": "stdout",
     "output_type": "stream",
     "text": [
      "Bruce Wayne is Batman.\n",
      "--------Bruce Wayne is Batman.\n",
      "----Bruce Wayne is Batman.----\n"
     ]
    }
   ],
   "source": [
    "text = 'Bruce Wayne is Batman.'\n",
    "print(f'{text}')\n",
    "\n",
    "print(f'{text:->30}')      # A block of 30 characters;\n",
    "                          # aligned right\n",
    "print(f'{text:-^30}')\n",
    "\n"
   ]
  },
  {
   "attachments": {},
   "cell_type": "markdown",
   "id": "e0d2986f",
   "metadata": {},
   "source": [
    "## 6.1 Structure of f-strings"
   ]
  },
  {
   "cell_type": "markdown",
   "id": "0d0f2a65-e9c9-4cf4-a934-b0c010f6ee30",
   "metadata": {},
   "source": [
    "{X:>0Y.ZW}"
   ]
  },
  {
   "cell_type": "markdown",
   "id": "eb956a25-18ff-4ecb-880f-baf27f4b2f0c",
   "metadata": {},
   "source": [
    "variable then colon then padding and alignment character then total number of characters then dot then number of decimal places thenspecifies which type of variable"
   ]
  },
  {
   "attachments": {},
   "cell_type": "markdown",
   "id": "d7b08aa7",
   "metadata": {},
   "source": [
    "# 7 Escape sequences"
   ]
  },
  {
   "cell_type": "code",
   "execution_count": 3,
   "id": "6fae6c92-2e68-4777-9d38-4b2a7a3dd139",
   "metadata": {},
   "outputs": [
    {
     "name": "stdout",
     "output_type": "stream",
     "text": [
      "you're twenty years old.\n"
     ]
    }
   ],
   "source": [
    "print('you\\'re twenty years old.')"
   ]
  },
  {
   "cell_type": "code",
   "execution_count": 13,
   "id": "e740d44e-f019-44d4-8d4e-e034bc842162",
   "metadata": {},
   "outputs": [
    {
     "name": "stdout",
     "output_type": "stream",
     "text": [
      "A\\B\\C\n"
     ]
    }
   ],
   "source": [
    "print('A\\B\\C')"
   ]
  },
  {
   "cell_type": "code",
   "execution_count": 14,
   "id": "144ad756-349d-4f0d-8242-703df4bb11d1",
   "metadata": {},
   "outputs": [
    {
     "name": "stdout",
     "output_type": "stream",
     "text": [
      "A\n",
      "B\n",
      "C\n"
     ]
    }
   ],
   "source": [
    "print('A\\nB\\nC')\n"
   ]
  },
  {
   "cell_type": "code",
   "execution_count": 15,
   "id": "b1c10e3d-c9d9-4abc-8f24-b4e4b625f5cc",
   "metadata": {},
   "outputs": [
    {
     "name": "stdout",
     "output_type": "stream",
     "text": [
      "A\tB\tC\n"
     ]
    }
   ],
   "source": [
    "print('A\\tB\\tC')"
   ]
  },
  {
   "attachments": {},
   "cell_type": "markdown",
   "id": "be918b93",
   "metadata": {},
   "source": [
    "# 8 Computers read = from Right to Left!"
   ]
  },
  {
   "cell_type": "code",
   "execution_count": 27,
   "id": "ede26d4f-c12e-4778-b49a-9a1b4f756c02",
   "metadata": {},
   "outputs": [
    {
     "name": "stdout",
     "output_type": "stream",
     "text": [
      "42\n"
     ]
    }
   ],
   "source": [
    "y = 40\n",
    "y = y + 2\n",
    "print(y)"
   ]
  },
  {
   "cell_type": "markdown",
   "id": "0830a4d5-5212-499e-8f85-53b19ca9ddd9",
   "metadata": {},
   "source": [
    "evaluates the right side first and then the left"
   ]
  },
  {
   "attachments": {},
   "cell_type": "markdown",
   "id": "8280dc1d",
   "metadata": {},
   "source": [
    "# 9 Shorter and Cleaner Code"
   ]
  },
  {
   "cell_type": "code",
   "execution_count": 17,
   "id": "208d0df4-8b46-475f-85ab-94e04171f1af",
   "metadata": {},
   "outputs": [
    {
     "data": {
      "text/plain": [
       "42"
      ]
     },
     "execution_count": 17,
     "metadata": {},
     "output_type": "execute_result"
    }
   ],
   "source": [
    "y = 40\n",
    "y += 2    # Same as y = y + 2\n",
    "y"
   ]
  },
  {
   "cell_type": "markdown",
   "id": "81c1365a-e072-4feb-a345-7614dea4d3bf",
   "metadata": {},
   "source": [
    "take the old value and add 2 to it"
   ]
  },
  {
   "attachments": {},
   "cell_type": "markdown",
   "id": "1148def1",
   "metadata": {},
   "source": [
    "# 10 Python can be a prima-donna."
   ]
  },
  {
   "cell_type": "code",
   "execution_count": 29,
   "id": "99d031ff-06f1-4435-86e3-179b7ddcae55",
   "metadata": {},
   "outputs": [
    {
     "ename": "NameError",
     "evalue": "name 'Print' is not defined",
     "output_type": "error",
     "traceback": [
      "\u001b[1;31m---------------------------------------------------------------------------\u001b[0m",
      "\u001b[1;31mNameError\u001b[0m                                 Traceback (most recent call last)",
      "Cell \u001b[1;32mIn[29], line 1\u001b[0m\n\u001b[1;32m----> 1\u001b[0m \u001b[43mPrint\u001b[49m(mdskmdksmd)\n",
      "\u001b[1;31mNameError\u001b[0m: name 'Print' is not defined"
     ]
    }
   ],
   "source": [
    "Print(mdskmdksmd)\n"
   ]
  },
  {
   "cell_type": "markdown",
   "id": "f4f415c0-29c9-4680-9f85-1b20fc73061e",
   "metadata": {},
   "source": [
    "the last line is what tells you the problem"
   ]
  },
  {
   "attachments": {},
   "cell_type": "markdown",
   "id": "eaf3cd4c",
   "metadata": {},
   "source": [
    "# 11 Best Practices for Scientific Computing"
   ]
  },
  {
   "cell_type": "code",
   "execution_count": 20,
   "id": "b08e856f-b75a-4d94-90a6-3fcf70d7aa14",
   "metadata": {},
   "outputs": [
    {
     "name": "stdout",
     "output_type": "stream",
     "text": [
      "1. Write programs for people, not computers\n",
      "2. optimise software only after it works correcctly\n",
      "3. Document design and purpose, not mechanics.\n",
      "4. Collaborate\n"
     ]
    }
   ],
   "source": [
    "print('1. Write programs for people, not computers\\n2. optimise software only after it works correcctly\\n3. Document design and purpose, not mechanics.\\n4. Collaborate')\n",
    "      "
   ]
  },
  {
   "attachments": {},
   "cell_type": "markdown",
   "id": "e06f57c4",
   "metadata": {},
   "source": [
    "# 12 Looking for help"
   ]
  },
  {
   "cell_type": "code",
   "execution_count": 30,
   "id": "e24d0ad1-d266-44d7-a09c-1412a88de697",
   "metadata": {},
   "outputs": [
    {
     "name": "stdout",
     "output_type": "stream",
     "text": [
      "Help on built-in function print in module builtins:\n",
      "\n",
      "print(*args, sep=' ', end='\\n', file=None, flush=False)\n",
      "    Prints the values to a stream, or to sys.stdout by default.\n",
      "    \n",
      "    sep\n",
      "      string inserted between values, default a space.\n",
      "    end\n",
      "      string appended after the last value, default a newline.\n",
      "    file\n",
      "      a file-like object (stream); defaults to the current sys.stdout.\n",
      "    flush\n",
      "      whether to forcibly flush the stream.\n",
      "\n"
     ]
    }
   ],
   "source": [
    "help(print)"
   ]
  },
  {
   "attachments": {},
   "cell_type": "markdown",
   "id": "7637fe37",
   "metadata": {},
   "source": [
    "## References"
   ]
  },
  {
   "cell_type": "markdown",
   "id": "8321b71d-472e-4163-85bc-f09522405866",
   "metadata": {},
   "source": [
    "Wilson, Greg, D. A. Aruliah, C. Titus Brown, Neil P. Chue Hong, Matt Davis, Richard T. Guy, Steven H. D. Haddock, et al. 2014. “Best Practices for Scientific Computing.” PLOS Biology 12 (1): e1001745. https://doi.org/10.1371/journal.pbio.1001745."
   ]
  },
  {
   "attachments": {},
   "cell_type": "markdown",
   "id": "3101a78d",
   "metadata": {},
   "source": [
    "## Footnotes"
   ]
  },
  {
   "cell_type": "code",
   "execution_count": null,
   "id": "e17b75d1-815c-4a63-b579-0d595d0635e1",
   "metadata": {},
   "outputs": [],
   "source": []
  }
 ],
 "metadata": {
  "kernelspec": {
   "display_name": "Python 3 (ipykernel)",
   "language": "python",
   "name": "python3"
  },
  "language_info": {
   "codemirror_mode": {
    "name": "ipython",
    "version": 3
   },
   "file_extension": ".py",
   "mimetype": "text/x-python",
   "name": "python",
   "nbconvert_exporter": "python",
   "pygments_lexer": "ipython3",
   "version": "3.11.5"
  },
  "toc": {
   "base_numbering": 1,
   "nav_menu": {},
   "number_sections": true,
   "sideBar": true,
   "skip_h1_title": false,
   "title_cell": "Table of Contents",
   "title_sidebar": "Contents",
   "toc_cell": false,
   "toc_position": {},
   "toc_section_display": true,
   "toc_window_display": false
  },
  "vscode": {
   "interpreter": {
    "hash": "31f2aee4e71d21fbe5cf8b01ff0e069b9275f58929596ceb00d14d90e3e16cd6"
   }
  }
 },
 "nbformat": 4,
 "nbformat_minor": 5
}
