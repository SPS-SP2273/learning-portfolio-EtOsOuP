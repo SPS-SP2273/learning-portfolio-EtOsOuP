{
 "cells": [
  {
   "attachments": {},
   "cell_type": "markdown",
   "id": "123456",
   "metadata": {},
   "source": [
    "<div style=\"text-align:left;font-size:2em\"><span style=\"font-weight:bolder;font-size:1.25em\">SP2273 | Learning Portfolio</span><br><br><span style=\"font-weight:bold;color:darkred\">Fundamentals (Need)</span></div>"
   ]
  },
  {
   "attachments": {},
   "cell_type": "markdown",
   "id": "2b8f4c55",
   "metadata": {},
   "source": [
    "# What to expect in this chapter"
   ]
  },
  {
   "attachments": {},
   "cell_type": "markdown",
   "id": "4588c175",
   "metadata": {},
   "source": [
    "# 1 Functions"
   ]
  },
  {
   "cell_type": "code",
   "execution_count": 2,
   "id": "a0e369ba-9fb7-4584-868b-40afc267e0b3",
   "metadata": {},
   "outputs": [
    {
     "name": "stdout",
     "output_type": "stream",
     "text": [
      "Hello World!\n"
     ]
    }
   ],
   "source": [
    "print('Hello World!')\n"
   ]
  },
  {
   "attachments": {},
   "cell_type": "markdown",
   "id": "83b5cb80",
   "metadata": {},
   "source": [
    "# 2 Remember"
   ]
  },
  {
   "cell_type": "markdown",
   "id": "69244651-1fec-4a47-a4c8-50d2439bc82c",
   "metadata": {},
   "source": [
    "1. A function is ‘something’ that executes a specific task.\n",
    "1. A function may or may not accept arguments.\n",
    "1. We can define our own functions."
   ]
  },
  {
   "attachments": {},
   "cell_type": "markdown",
   "id": "f33357d9",
   "metadata": {},
   "source": [
    "# 3 Python is interpreted"
   ]
  },
  {
   "cell_type": "code",
   "execution_count": 3,
   "id": "99a79d78-e6a8-4309-af73-79fb2ee7acb7",
   "metadata": {},
   "outputs": [
    {
     "name": "stdout",
     "output_type": "stream",
     "text": [
      "Hello World\n",
      "Hello World again\n"
     ]
    }
   ],
   "source": [
    "print('Hello World')\n",
    "print('Hello World again')"
   ]
  },
  {
   "attachments": {},
   "cell_type": "markdown",
   "id": "2959df47",
   "metadata": {},
   "source": [
    "# 4 Python is sensitive."
   ]
  },
  {
   "cell_type": "markdown",
   "id": "3674431d-535c-4588-9038-81c6b1761589",
   "metadata": {},
   "source": [
    "1. A function is 'something' that executes a specific task\n",
    "1. A function may or may not accept arguments.\n",
    "1. We can define our functions."
   ]
  },
  {
   "cell_type": "code",
   "execution_count": 4,
   "id": "90db65d1-4134-421c-b5f4-deccb7739301",
   "metadata": {},
   "outputs": [
    {
     "name": "stdout",
     "output_type": "stream",
     "text": [
      "Hello World\n"
     ]
    },
    {
     "ename": "NameError",
     "evalue": "name 'Print' is not defined",
     "output_type": "error",
     "traceback": [
      "\u001b[1;31m---------------------------------------------------------------------------\u001b[0m",
      "\u001b[1;31mNameError\u001b[0m                                 Traceback (most recent call last)",
      "Cell \u001b[1;32mIn[4], line 2\u001b[0m\n\u001b[0;32m      1\u001b[0m \u001b[38;5;28mprint\u001b[39m(\u001b[38;5;124m'\u001b[39m\u001b[38;5;124mHello World\u001b[39m\u001b[38;5;124m'\u001b[39m)      \u001b[38;5;66;03m# This WILL work\u001b[39;00m\n\u001b[1;32m----> 2\u001b[0m \u001b[43mPrint\u001b[49m(\u001b[38;5;124m'\u001b[39m\u001b[38;5;124mHello World\u001b[39m\u001b[38;5;124m'\u001b[39m)      \u001b[38;5;66;03m# This will NOT work\u001b[39;00m\n",
      "\u001b[1;31mNameError\u001b[0m: name 'Print' is not defined"
     ]
    }
   ],
   "source": [
    "print('Hello World')      # This WILL work\n",
    "Print('Hello World')      # This will NOT work"
   ]
  },
  {
   "attachments": {},
   "cell_type": "markdown",
   "id": "991ac7ae",
   "metadata": {},
   "source": [
    "# 5 Remember"
   ]
  },
  {
   "cell_type": "markdown",
   "id": "386b0a3d-3498-4de5-bb4b-97e046aab226",
   "metadata": {},
   "source": [
    "Python is case-sensitive."
   ]
  },
  {
   "attachments": {},
   "cell_type": "markdown",
   "id": "c0c1d9cb",
   "metadata": {},
   "source": [
    "# 6 Comments"
   ]
  },
  {
   "cell_type": "code",
   "execution_count": 5,
   "id": "c5dfdd7d-ae12-4f99-82ca-38eccda06992",
   "metadata": {},
   "outputs": [
    {
     "name": "stdout",
     "output_type": "stream",
     "text": [
      "One\n",
      "Three\n"
     ]
    }
   ],
   "source": [
    "# This is a comment\n",
    "print('One')              # This is a comment.\n",
    "# print('Two')            # The interpreter ignores this line.\n",
    "print('Three')            # This is\n",
    "                          # also a way to\n",
    "                          # write comments"
   ]
  },
  {
   "attachments": {},
   "cell_type": "markdown",
   "id": "0531e350",
   "metadata": {},
   "source": [
    "# 7 Remember"
   ]
  },
  {
   "cell_type": "markdown",
   "id": "212950b9-8d9c-43f2-91c0-09cd4f9d807a",
   "metadata": {},
   "source": [
    "use comments to emphasize the purpose of the code"
   ]
  },
  {
   "cell_type": "markdown",
   "id": "f42247e3-d9a5-4b03-ae27-24cd3ede0e82",
   "metadata": {},
   "source": [
    "# 8 = is not the same as =="
   ]
  },
  {
   "cell_type": "code",
   "execution_count": 9,
   "id": "2ecb5fef-885c-4fa3-99b5-ccd4cd3200ec",
   "metadata": {},
   "outputs": [],
   "source": [
    "name ='batman'"
   ]
  },
  {
   "cell_type": "code",
   "execution_count": 8,
   "id": "95ee1dcf-9387-498c-bc5f-b3c1427cf358",
   "metadata": {},
   "outputs": [
    {
     "data": {
      "text/plain": [
       "False"
      ]
     },
     "execution_count": 8,
     "metadata": {},
     "output_type": "execute_result"
    }
   ],
   "source": [
    "name == 'Batman'"
   ]
  },
  {
   "attachments": {},
   "cell_type": "markdown",
   "id": "98098fce",
   "metadata": {},
   "source": [
    "# 9 Remember"
   ]
  },
  {
   "cell_type": "markdown",
   "id": "8741d480-7c9c-4789-9090-630e09704ebd",
   "metadata": {},
   "source": [
    "1. = and == are not the same\n",
    "1. = assigns a variable to your desired variable. kind of like labeling\n",
    "1. == checks if your desired variable is equal to the other variable u have inputed. kind of like checking if a label is being used"
   ]
  },
  {
   "attachments": {},
   "cell_type": "markdown",
   "id": "bde304fc",
   "metadata": {},
   "source": [
    "# 10 Use if to make decisions"
   ]
  },
  {
   "cell_type": "code",
   "execution_count": 13,
   "id": "fdd31794-0bdb-4c5e-b935-ee87a7c635ce",
   "metadata": {},
   "outputs": [
    {
     "name": "stdout",
     "output_type": "stream",
     "text": [
      "Hello Batman\n"
     ]
    }
   ],
   "source": [
    "name = 'Batman'\n",
    "\n",
    "if name == 'Batman' :\n",
    "    print('Hello Batman')\n",
    "else:\n",
    "    print('Hello World!')"
   ]
  },
  {
   "attachments": {},
   "cell_type": "markdown",
   "id": "cffc2f31",
   "metadata": {},
   "source": [
    "# 11 Remember"
   ]
  },
  {
   "cell_type": "markdown",
   "id": "e40e5773-0a43-4197-ad4a-3e9e98e5a89a",
   "metadata": {},
   "source": [
    "using if can split the workflow of python and set conditions for output of python"
   ]
  },
  {
   "attachments": {},
   "cell_type": "markdown",
   "id": "fd2984c4",
   "metadata": {},
   "source": [
    "# 12 Indentations (spaces) are sooo IMPORTANT!"
   ]
  },
  {
   "cell_type": "code",
   "execution_count": null,
   "id": "66892d32-baec-40e7-822a-1a3accc856e7",
   "metadata": {},
   "outputs": [],
   "source": [
    "x = 10\n",
    "print(x)\n",
    "\n",
    "x = 10\n",
    " print(x) #this will not work. essentially python view codes in blocks. codes that have the same indentation are viewed as in the same block and thus executed tgt"
   ]
  },
  {
   "cell_type": "markdown",
   "id": "1ad145ba-d63f-41cd-8210-2bd2f76f2c72",
   "metadata": {},
   "source": [
    "You can understand why there is an error by looking at the structure of the if statement. Notice that Python uses an indentation to separate the True and False ‘blocks’. So you cannot use indentations (spaces) indiscriminately as this will confuse Python."
   ]
  },
  {
   "cell_type": "code",
   "execution_count": 5,
   "id": "6f528548-32e2-4806-93d1-fcb462e62edf",
   "metadata": {},
   "outputs": [
    {
     "name": "stdout",
     "output_type": "stream",
     "text": [
      "Hello Hero | Batman!\n"
     ]
    }
   ],
   "source": [
    "name = 'Batman'\n",
    "\n",
    "if (name == 'Batman'):\n",
    "  print('Hello Hero | Batman!')\n",
    "else:\n",
    "  print('Hello World!')\n"
   ]
  },
  {
   "attachments": {},
   "cell_type": "markdown",
   "id": "461987f7",
   "metadata": {},
   "source": [
    "# 13 Remember"
   ]
  },
  {
   "cell_type": "markdown",
   "id": "12e5f8c9-6c63-47f7-980d-a6cdb8ccddf4",
   "metadata": {},
   "source": [
    "just use tabs for indentation and dont use space indiscriminently\n",
    "\n",
    ": indicates a block of code"
   ]
  },
  {
   "attachments": {},
   "cell_type": "markdown",
   "id": "c74a5293",
   "metadata": {},
   "source": [
    "# 14 ‘age’ is English, age is a variable."
   ]
  },
  {
   "cell_type": "code",
   "execution_count": 14,
   "id": "620994c2-4355-4f96-a82e-e57d6a34b7c5",
   "metadata": {},
   "outputs": [
    {
     "name": "stdout",
     "output_type": "stream",
     "text": [
      "10\n",
      "age\n"
     ]
    }
   ],
   "source": [
    "age = 10\n",
    "\n",
    "print(age)\n",
    "print('age')"
   ]
  },
  {
   "attachments": {},
   "cell_type": "markdown",
   "id": "04ff6c76",
   "metadata": {},
   "source": [
    "# 15 Brackets"
   ]
  },
  {
   "cell_type": "markdown",
   "id": "bfe3eaaf-9816-4544-8b4e-d5d4a0344ba1",
   "metadata": {},
   "source": [
    "( ) is used in functions and in mathamatical writing."
   ]
  },
  {
   "cell_type": "markdown",
   "id": "6e70284d-2404-4d34-b242-388b4c425d70",
   "metadata": {},
   "source": [
    "[ ] are used to indicate lists"
   ]
  },
  {
   "cell_type": "code",
   "execution_count": 16,
   "id": "7c0414e3-a5a3-448a-a53b-5090ec6937f2",
   "metadata": {},
   "outputs": [],
   "source": [
    "personal_info = {\n",
    "    'Names': 'Batman',\n",
    "    'Real Name': 'Bruce Wayne',\n",
    "    'Age': 55,\n",
    "    'Affiliation': 'Justice League',\n",
    "    'Universe': 'DC'\n",
    "}"
   ]
  },
  {
   "cell_type": "markdown",
   "id": "deca1ea8-b0b0-45b5-9496-d67f5a1a396d",
   "metadata": {},
   "source": [
    "the fancy bracket is used to indicate a dictionary which is like a table of things with catagorical data and values assigned to each of them. specific values can be recalled with a key which is like the variable the specific data is linked to."
   ]
  },
  {
   "attachments": {},
   "cell_type": "markdown",
   "id": "621300b9",
   "metadata": {},
   "source": [
    "# 16 Giving Python superpowers with Packages"
   ]
  },
  {
   "cell_type": "code",
   "execution_count": 17,
   "id": "bec3ac71-9e9f-455d-bdb4-8997e729847e",
   "metadata": {},
   "outputs": [
    {
     "ename": "NameError",
     "evalue": "name 'sqrt' is not defined",
     "output_type": "error",
     "traceback": [
      "\u001b[1;31m---------------------------------------------------------------------------\u001b[0m",
      "\u001b[1;31mNameError\u001b[0m                                 Traceback (most recent call last)",
      "Cell \u001b[1;32mIn[17], line 1\u001b[0m\n\u001b[1;32m----> 1\u001b[0m \u001b[43msqrt\u001b[49m(\u001b[38;5;241m4\u001b[39m)      \u001b[38;5;66;03m# Will NOT work because \u001b[39;00m\n\u001b[0;32m      2\u001b[0m              \u001b[38;5;66;03m# basic Python is limited\u001b[39;00m\n",
      "\u001b[1;31mNameError\u001b[0m: name 'sqrt' is not defined"
     ]
    }
   ],
   "source": [
    "sqrt(4)      # Will NOT work because \n",
    "             # basic Python is limited"
   ]
  },
  {
   "attachments": {},
   "cell_type": "markdown",
   "id": "59c04b27",
   "metadata": {},
   "source": [
    "## 16.1 Some Context"
   ]
  },
  {
   "cell_type": "code",
   "execution_count": 19,
   "id": "70ea0cdc-842a-41b5-8b42-28c67ad367fd",
   "metadata": {},
   "outputs": [],
   "source": [
    "import math"
   ]
  },
  {
   "cell_type": "code",
   "execution_count": 20,
   "id": "c7a1a5ba-3afc-4518-85e8-fc8297ac76c4",
   "metadata": {},
   "outputs": [
    {
     "data": {
      "text/plain": [
       "2.0"
      ]
     },
     "execution_count": 20,
     "metadata": {},
     "output_type": "execute_result"
    }
   ],
   "source": [
    "math.sqrt(4)"
   ]
  },
  {
   "attachments": {},
   "cell_type": "markdown",
   "id": "9affeb4d",
   "metadata": {},
   "source": [
    "## 16.2 Importing the math package"
   ]
  },
  {
   "cell_type": "code",
   "execution_count": 6,
   "id": "5061872e-415a-4d5f-b6d0-d8bc10643176",
   "metadata": {},
   "outputs": [],
   "source": [
    "import math         # Adding(importing) the functions\n",
    "                    # of the 'math' package    "
   ]
  },
  {
   "cell_type": "code",
   "execution_count": 7,
   "id": "0d51d324-2d3b-4069-868f-c6c3458d2e62",
   "metadata": {},
   "outputs": [
    {
     "data": {
      "text/plain": [
       "2.0"
      ]
     },
     "execution_count": 7,
     "metadata": {},
     "output_type": "execute_result"
    }
   ],
   "source": [
    "math.sqrt(4)"
   ]
  },
  {
   "cell_type": "markdown",
   "id": "761c65e9-dc25-4e9f-b148-753749a426c9",
   "metadata": {},
   "source": [
    "u only need to import packages once"
   ]
  },
  {
   "attachments": {},
   "cell_type": "markdown",
   "id": "e3236256",
   "metadata": {},
   "source": [
    "## 16.3 Importing the numpy package"
   ]
  },
  {
   "cell_type": "code",
   "execution_count": 8,
   "id": "b9da71b3-f428-44b1-8f19-1111eea21446",
   "metadata": {},
   "outputs": [],
   "source": [
    "import numpy as np    # Importing Numpy and giving \n",
    "                      # it an alias np \n",
    "                      # because I am lazy"
   ]
  },
  {
   "cell_type": "code",
   "execution_count": 9,
   "id": "2fac44a9-449f-4a75-9963-7cf6b15217b5",
   "metadata": {},
   "outputs": [
    {
     "data": {
      "text/plain": [
       "2.0"
      ]
     },
     "execution_count": 9,
     "metadata": {},
     "output_type": "execute_result"
    }
   ],
   "source": [
    "np.sqrt(4)"
   ]
  },
  {
   "attachments": {},
   "cell_type": "markdown",
   "id": "8b0a7df3",
   "metadata": {},
   "source": [
    "## 16.4 Why so many packages?"
   ]
  },
  {
   "cell_type": "code",
   "execution_count": null,
   "id": "b4bfd0ef-8496-4628-b1de-a9ee0394041a",
   "metadata": {},
   "outputs": [],
   "source": [
    "different packages have different capabilities and sensitivities"
   ]
  },
  {
   "cell_type": "code",
   "execution_count": 10,
   "id": "ec96ff02-eb42-4370-afe4-0a2f2aa97575",
   "metadata": {},
   "outputs": [
    {
     "data": {
      "text/plain": [
       "array([2., 3., 4.])"
      ]
     },
     "execution_count": 10,
     "metadata": {},
     "output_type": "execute_result"
    }
   ],
   "source": [
    "np.sqrt([4, 9, 16])"
   ]
  },
  {
   "cell_type": "code",
   "execution_count": null,
   "id": "3f0911b9-50ef-46c3-a15d-6c92f14612a3",
   "metadata": {},
   "outputs": [],
   "source": []
  },
  {
   "attachments": {},
   "cell_type": "markdown",
   "id": "cc84332b",
   "metadata": {},
   "source": [
    "# 17 Remember"
   ]
  },
  {
   "cell_type": "markdown",
   "id": "54e6f826-d1c2-4dae-a300-d3f2a780db31",
   "metadata": {},
   "source": [
    "You can give Python ‘superpowers’ by importing packages.\n",
    "You must import a package only once.\n",
    "There are different ways to import packages (e.g. with or without an ‘alias’)."
   ]
  },
  {
   "attachments": {},
   "cell_type": "markdown",
   "id": "cb19adef",
   "metadata": {},
   "source": [
    "# 18 The dot (.)"
   ]
  },
  {
   "cell_type": "markdown",
   "id": "4044b487-aba5-4069-ac6c-4055e4213655",
   "metadata": {},
   "source": [
    "The dot indicates ownership and what it can access depends on the context"
   ]
  },
  {
   "cell_type": "code",
   "execution_count": 11,
   "id": "501217e1-5e03-40e0-8219-fb2f7ab88fc6",
   "metadata": {},
   "outputs": [
    {
     "data": {
      "text/plain": [
       "2.0"
      ]
     },
     "execution_count": 11,
     "metadata": {},
     "output_type": "execute_result"
    }
   ],
   "source": [
    "math.sqrt(4)\n",
    "np.sqrt(4)"
   ]
  },
  {
   "cell_type": "code",
   "execution_count": 12,
   "id": "aedd985c-d272-479a-ba6e-2f3d94c0f426",
   "metadata": {},
   "outputs": [
    {
     "data": {
      "text/plain": [
       "['I', 'am', 'Batman']"
      ]
     },
     "execution_count": 12,
     "metadata": {},
     "output_type": "execute_result"
    }
   ],
   "source": [
    "\"I am Batman\".split()"
   ]
  },
  {
   "attachments": {},
   "cell_type": "markdown",
   "id": "0c374993",
   "metadata": {},
   "source": [
    "# 19 Remember"
   ]
  },
  {
   "cell_type": "markdown",
   "id": "31b36242-a462-4b95-9f10-e8a5cff291e3",
   "metadata": {},
   "source": [
    "The dot(.) indicates ownership, and what it can access depends on the context.\n",
    "\n"
   ]
  },
  {
   "attachments": {},
   "cell_type": "markdown",
   "id": "1bc06b81",
   "metadata": {},
   "source": [
    "## Footnotes"
   ]
  }
 ],
 "metadata": {
  "kernelspec": {
   "display_name": "Python 3 (ipykernel)",
   "language": "python",
   "name": "python3"
  },
  "language_info": {
   "codemirror_mode": {
    "name": "ipython",
    "version": 3
   },
   "file_extension": ".py",
   "mimetype": "text/x-python",
   "name": "python",
   "nbconvert_exporter": "python",
   "pygments_lexer": "ipython3",
   "version": "3.11.5"
  },
  "toc": {
   "base_numbering": 1,
   "nav_menu": {},
   "number_sections": true,
   "sideBar": true,
   "skip_h1_title": false,
   "title_cell": "Table of Contents",
   "title_sidebar": "Contents",
   "toc_cell": false,
   "toc_position": {},
   "toc_section_display": true,
   "toc_window_display": false
  },
  "vscode": {
   "interpreter": {
    "hash": "31f2aee4e71d21fbe5cf8b01ff0e069b9275f58929596ceb00d14d90e3e16cd6"
   }
  }
 },
 "nbformat": 4,
 "nbformat_minor": 5
}
