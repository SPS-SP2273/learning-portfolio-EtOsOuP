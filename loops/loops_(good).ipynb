{
 "cells": [
  {
   "attachments": {},
   "cell_type": "markdown",
   "id": "123456",
   "metadata": {},
   "source": [
    "<div style=\"text-align:left;font-size:2em\"><span style=\"font-weight:bolder;font-size:1.25em\">SP2273 | Learning Portfolio</span><br><br><span style=\"font-weight:bold;color:darkred\">Loops (Good)</span></div>"
   ]
  },
  {
   "attachments": {},
   "cell_type": "markdown",
   "id": "a759e963",
   "metadata": {},
   "source": [
    "# What to expect in this chapter"
   ]
  },
  {
   "cell_type": "markdown",
   "id": "897205ee-88d0-4fb8-a025-d8783a69faeb",
   "metadata": {},
   "source": [
    "In this chapter, I will show you how to exercise more control over what happens in loops by using the continue and break statements. I will also introduce you to list comprehension, a super-optimised variant of the for a loop. You can use this to create list from other lists."
   ]
  },
  {
   "attachments": {},
   "cell_type": "markdown",
   "id": "416eb05d",
   "metadata": {},
   "source": [
    "# 1 Interrupting the flow"
   ]
  },
  {
   "cell_type": "markdown",
   "id": "0e60b9f1-e12d-4ae1-8dd6-5288b4698d36",
   "metadata": {},
   "source": [
    "Continue- skip a particular loop iteration and continue with next loop iteration. used with 'if'. works with a 'while' loop\n",
    "break- Prematurely ending loop. used with if. break if a certain condition met. 'while' loop also works\n",
    "list comprehension"
   ]
  },
  {
   "cell_type": "code",
   "execution_count": 3,
   "id": "5c4eeb56-f7a3-4a74-a47e-af082fa15645",
   "metadata": {},
   "outputs": [
    {
     "name": "stdout",
     "output_type": "stream",
     "text": [
      "0 1\n",
      "1 10\n",
      "2 100\n",
      "3 1000\n",
      "4 10000\n"
     ]
    }
   ],
   "source": [
    "for power in range(5): #range generates a sequence of numbers: range(start (defult 0), stop (go up to but not including this value), step (default is 1))\n",
    "    number = 10**power #calculates the value of 'number' \n",
    "    if number > 5000: # checks if number > 5k is true\n",
    "        break        #if abv line is true, end loop prematurely.\n",
    "    print(power, number) #prints current value of 'power' and 'number' in each iteration of loop as long as number is < 5k"
   ]
  },
  {
   "cell_type": "code",
   "execution_count": 5,
   "id": "5b1e342a-6a42-4f76-a7c8-a4663c2c14a4",
   "metadata": {},
   "outputs": [
    {
     "name": "stdout",
     "output_type": "stream",
     "text": [
      "0 1\n",
      "1 10\n",
      "2 100\n",
      "4 10000\n",
      "5 100000\n",
      "6 1000000\n",
      "7 10000000\n",
      "8 100000000\n",
      "9 1000000000\n"
     ]
    }
   ],
   "source": [
    "for power in range(10):\n",
    "    if power == 3:\n",
    "        continue        # TLDR, skip loop number 3 (not third loop)\n",
    "                        # \n",
    "                        # if i == 3\n",
    "    number = 10**power\n",
    "    print(power, number)"
   ]
  },
  {
   "cell_type": "code",
   "execution_count": 6,
   "id": "fd7d6858-f305-4f9b-b19d-5253e888beba",
   "metadata": {},
   "outputs": [
    {
     "name": "stdout",
     "output_type": "stream",
     "text": [
      "1\n",
      "3\n",
      "5\n",
      "7\n",
      "9\n"
     ]
    }
   ],
   "source": [
    "for number in range(10): #loop from 0 to 9\n",
    "    # Don't proceed if the remainder is zero\n",
    "    # I.e. if the number is even\n",
    "    if number % 2 == 0: #finds the remainder when divided by 2 aka can divide by 2 fully?\n",
    "        continue #if above is true, skip that loop iteration\n",
    "    print(number)"
   ]
  },
  {
   "cell_type": "code",
   "execution_count": 7,
   "id": "20fab004-a1a2-45b9-86ff-ed5a0e3bbd2f",
   "metadata": {},
   "outputs": [
    {
     "name": "stdout",
     "output_type": "stream",
     "text": [
      "0\n",
      "1\n",
      "2\n",
      "3\n",
      "4\n"
     ]
    }
   ],
   "source": [
    "number=0 #assign 'number' to take on the value 0\n",
    "\n",
    "while True: #creates an indefinite loop \n",
    "    print(number)\n",
    "    number += 1\n",
    "    if number > 4: break"
   ]
  },
  {
   "cell_type": "markdown",
   "id": "9a49a7b4-ba04-4dfb-a326-bfd94ddfdf92",
   "metadata": {},
   "source": [
    "Here's how the 'while' loop works:\n",
    "\n",
    "1. The condition is evaluated. If the condition is True, the code block inside the loop is executed. If the condition is False initially, the code block inside the loop is skipped, and the program continues with the code that follows the while loop.\n",
    "\n",
    "1. After executing the code block inside the loop, the condition is evaluated again.\n",
    "\n",
    "1. If the condition is still True, the code block inside the loop is executed again. This process continues until the condition becomes False.\n",
    "\n",
    "1. Once the condition becomes False, the execution of the loop stops, and the program continues with the code that follows the while loop."
   ]
  },
  {
   "attachments": {},
   "cell_type": "markdown",
   "id": "f3d793f3",
   "metadata": {},
   "source": [
    "# 2 List comprehension!"
   ]
  },
  {
   "cell_type": "markdown",
   "id": "9e387d23-025e-4721-ae56-5600d2762078",
   "metadata": {},
   "source": [
    "n this chapter, I will show you how to exercise more control over what happens in loops by using the continue and break statements. I will also introduce you to list comprehension, a super-optimised variant of the for a loop. You can use this to create list from other lists."
   ]
  },
  {
   "attachments": {},
   "cell_type": "markdown",
   "id": "7bcbe719",
   "metadata": {},
   "source": [
    "## 2.1 Basic syntax"
   ]
  },
  {
   "cell_type": "code",
   "execution_count": 3,
   "id": "bbdd4e72-bc97-4198-90d1-73a702d5e498",
   "metadata": {},
   "outputs": [
    {
     "data": {
      "text/plain": [
       "[0, 1, 2, 3, 4]"
      ]
     },
     "execution_count": 3,
     "metadata": {},
     "output_type": "execute_result"
    }
   ],
   "source": [
    "[number for number in range(5)] #a list of numbers for numbers in range of 5. number is defined by number"
   ]
  },
  {
   "cell_type": "code",
   "execution_count": 16,
   "id": "87af4a88-95b6-421a-9693-f281d111b679",
   "metadata": {},
   "outputs": [
    {
     "data": {
      "text/plain": [
       "[5, 5, 5, 5, 5]"
      ]
     },
     "execution_count": 16,
     "metadata": {},
     "output_type": "execute_result"
    }
   ],
   "source": [
    "[number for okwodkwokd in range(5)] #python auto defines the number if i ahve define it and it gives me 5 fives"
   ]
  },
  {
   "cell_type": "markdown",
   "id": "5282071c-9941-48fe-b935-0842884000a7",
   "metadata": {},
   "source": [
    "The first number: This represents the value that will be included in the list. It's the result of the expression or operation that you want to perform on each element of the iterable. In the case of [number for number in range(5)], the value of number during each iteration of the loop (generated by range(5)) is included directly in the list.\n",
    "\n",
    "The second number: This is the loop variable or iterator variable. It takes on each value from the sequence generated by range(5) in each iteration of the loop. It's used to iterate over the elements of the iterable (in this case, the sequence generated by range(5))."
   ]
  },
  {
   "cell_type": "markdown",
   "id": "3185bffe-5259-41d9-8c46-ad3b701bfbb1",
   "metadata": {},
   "source": [
    "TLDR, the first number is like a big bathtub, it contains all the rubber duckies that are the result of the for loop "
   ]
  },
  {
   "cell_type": "code",
   "execution_count": 18,
   "id": "0e3f8551-cfce-49de-9811-6779f5aae1d0",
   "metadata": {},
   "outputs": [
    {
     "data": {
      "text/plain": [
       "[0, 1, 4, 9, 16]"
      ]
     },
     "execution_count": 18,
     "metadata": {},
     "output_type": "execute_result"
    }
   ],
   "source": [
    "[number**2 for number in range(5)] #its like a function that goes from right to left"
   ]
  },
  {
   "attachments": {},
   "cell_type": "markdown",
   "id": "e13b9231",
   "metadata": {},
   "source": [
    "## 2.2 List comprehension with conditions"
   ]
  },
  {
   "cell_type": "code",
   "execution_count": 22,
   "id": "d3201e95-0d24-414b-9b34-1434b669c89a",
   "metadata": {},
   "outputs": [
    {
     "data": {
      "text/plain": [
       "[0, 2, 4, 6, 8]"
      ]
     },
     "execution_count": 22,
     "metadata": {},
     "output_type": "execute_result"
    }
   ],
   "source": [
    "[number for number in range(10) if number % 2 == 0]"
   ]
  },
  {
   "attachments": {},
   "cell_type": "markdown",
   "id": "930bd67f",
   "metadata": {},
   "source": [
    "# 3 Other useful stuff"
   ]
  },
  {
   "attachments": {},
   "cell_type": "markdown",
   "id": "e5938e80",
   "metadata": {},
   "source": [
    "## 3.1 for with unpacking"
   ]
  },
  {
   "cell_type": "code",
   "execution_count": 24,
   "id": "0d65deff-7abd-4384-a309-ea3b831b6455",
   "metadata": {},
   "outputs": [
    {
     "name": "stdout",
     "output_type": "stream",
     "text": [
      "x = 1, y = 2, z = 3\n"
     ]
    }
   ],
   "source": [
    "x, y, z=[1, 2, 3]\n",
    "print(f'x = {x}, y = {y}, z = {z}')"
   ]
  },
  {
   "cell_type": "code",
   "execution_count": 25,
   "id": "7509b039-ddb0-47f2-bb63-05e3b616e37c",
   "metadata": {},
   "outputs": [
    {
     "name": "stdout",
     "output_type": "stream",
     "text": [
      "Natasha Romanoff is Marvel's Black Widow!\n",
      "Tony Stark is Marvel's Iron Man!\n",
      "Stephen Strange is Marvel's Doctor Strange!\n"
     ]
    }
   ],
   "source": [
    "py_superhero_info = [['Natasha Romanoff', 'Black Widow'],\n",
    "                     ['Tony Stark', 'Iron Man'],\n",
    "                     ['Stephen Strange', 'Doctor Strange']]\n",
    "\n",
    "for real_name, super_name in py_superhero_info:  #loop assigns index 0,0 as real name and 0,1 as super name and prints the result and goes back to the loop\n",
    "    print(f\"{real_name} is Marvel's {super_name}!\")"
   ]
  },
  {
   "attachments": {},
   "cell_type": "markdown",
   "id": "c9fc7ba9",
   "metadata": {},
   "source": [
    "## 3.2 for with zip()"
   ]
  },
  {
   "cell_type": "code",
   "execution_count": 3,
   "id": "27db30f0-111f-4d99-bb07-a736be00249a",
   "metadata": {},
   "outputs": [
    {
     "name": "stdout",
     "output_type": "stream",
     "text": [
      "Natasha Romanoff is Marvel's Black Widow!\n",
      "Tony Stark is Marvel's Iron Man!\n",
      "Stephen Strange is Marvel's Doctor Strange!\n"
     ]
    }
   ],
   "source": [
    "super_names = [\"Black Widow\", \"Iron Man\", \"Doctor Strange\"]\n",
    "real_names = [\"Natasha Romanoff\", \"Tony Stark\", \"Stephen Strange\", \"osianondaof\"]\n",
    "\n",
    "for real_name, super_name in zip(real_names,super_names): #zip can combine multiple list for loop\n",
    "    print(f\"{real_name} is Marvel's {super_name}!\")"
   ]
  },
  {
   "attachments": {},
   "cell_type": "markdown",
   "id": "42cbd473",
   "metadata": {},
   "source": [
    "## 3.3 for with dictionaries"
   ]
  },
  {
   "cell_type": "code",
   "execution_count": 27,
   "id": "520321a2-c1af-4de3-ae04-8144554438d4",
   "metadata": {},
   "outputs": [
    {
     "name": "stdout",
     "output_type": "stream",
     "text": [
      "Natasha Romanoff is Marvel's Black Widow!\n",
      "Tony Stark is Marvel's Iron Man!\n",
      "Stephen Strange is Marvel's Doctor Strange!\n"
     ]
    }
   ],
   "source": [
    "superhero_info={\"Natasha Romanoff\": \"Black Widow\",\n",
    "                \"Tony Stark\": \"Iron Man\",\n",
    "                \"Stephen Strange\": \"Doctor Strange\"}\n",
    "\n",
    "for key, value in superhero_info.items():\n",
    "    print(f\"{key} is Marvel's {value}!\")"
   ]
  },
  {
   "attachments": {},
   "cell_type": "markdown",
   "id": "e1e587e8",
   "metadata": {},
   "source": [
    "## Footnotes"
   ]
  }
 ],
 "metadata": {
  "kernelspec": {
   "display_name": "Python 3 (ipykernel)",
   "language": "python",
   "name": "python3"
  },
  "language_info": {
   "codemirror_mode": {
    "name": "ipython",
    "version": 3
   },
   "file_extension": ".py",
   "mimetype": "text/x-python",
   "name": "python",
   "nbconvert_exporter": "python",
   "pygments_lexer": "ipython3",
   "version": "3.11.5"
  },
  "toc": {
   "base_numbering": 1,
   "nav_menu": {},
   "number_sections": true,
   "sideBar": true,
   "skip_h1_title": false,
   "title_cell": "Table of Contents",
   "title_sidebar": "Contents",
   "toc_cell": false,
   "toc_position": {},
   "toc_section_display": true,
   "toc_window_display": false
  },
  "vscode": {
   "interpreter": {
    "hash": "31f2aee4e71d21fbe5cf8b01ff0e069b9275f58929596ceb00d14d90e3e16cd6"
   }
  }
 },
 "nbformat": 4,
 "nbformat_minor": 5
}
