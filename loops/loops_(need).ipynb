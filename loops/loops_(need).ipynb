{
 "cells": [
  {
   "attachments": {},
   "cell_type": "markdown",
   "id": "123456",
   "metadata": {},
   "source": [
    "<div style=\"text-align:left;font-size:2em\"><span style=\"font-weight:bolder;font-size:1.25em\">SP2273 | Learning Portfolio</span><br><br><span style=\"font-weight:bold;color:darkred\">Loops (Need)</span></div>"
   ]
  },
  {
   "attachments": {},
   "cell_type": "markdown",
   "id": "2650a877",
   "metadata": {},
   "source": [
    "# What to expect in this chapter"
   ]
  },
  {
   "attachments": {},
   "cell_type": "markdown",
   "id": "8feebb99",
   "metadata": {},
   "source": [
    "# 1 The for iterator"
   ]
  },
  {
   "cell_type": "code",
   "execution_count": 4,
   "id": "2098c176-4a80-4b07-aa83-a0292db170b5",
   "metadata": {},
   "outputs": [],
   "source": [
    "real_names = [\"Natasha Romanoff\", \"Tony Stark\", \"Stephen Strange\"]"
   ]
  },
  {
   "cell_type": "code",
   "execution_count": 5,
   "id": "05381c20-5c74-45a8-bc27-b975492b5771",
   "metadata": {},
   "outputs": [
    {
     "name": "stdout",
     "output_type": "stream",
     "text": [
      "Natasha Romanoff is a Marvel superhero!\n",
      "Tony Stark is a Marvel superhero!\n",
      "Stephen Strange is a Marvel superhero!\n"
     ]
    }
   ],
   "source": [
    "name=real_names[0]\n",
    "print(f\"{name} is a Marvel superhero!\")\n",
    "\n",
    "name=real_names[1]\n",
    "print(f\"{name} is a Marvel superhero!\")\n",
    "\n",
    "name=real_names[2]\n",
    "print(f\"{name} is a Marvel superhero!\")"
   ]
  },
  {
   "cell_type": "markdown",
   "id": "2799e4b2-0535-4b67-bbb9-5d2b9b683365",
   "metadata": {},
   "source": [
    "1. it does not scale very well (imagine if you have a 100 names!),\n",
    "1. it is cumbersome to make changes, you have to do it three times.\n",
    "1. it is highly error prone, since you need to type something new (even if you are copying and pasting most of it)."
   ]
  },
  {
   "cell_type": "code",
   "execution_count": null,
   "id": "7f285a96-e29d-4497-beb8-2765728b92d3",
   "metadata": {},
   "outputs": [],
   "source": []
  },
  {
   "cell_type": "code",
   "execution_count": null,
   "id": "38f8c483-a8f9-4eb3-b04d-7ae337d51a04",
   "metadata": {},
   "outputs": [],
   "source": []
  },
  {
   "attachments": {},
   "cell_type": "markdown",
   "id": "6a1c67da",
   "metadata": {},
   "source": [
    "## 1.1 for with a list"
   ]
  },
  {
   "cell_type": "code",
   "execution_count": 6,
   "id": "63e98e42-46a4-474f-98a4-269379027ca5",
   "metadata": {},
   "outputs": [
    {
     "name": "stdout",
     "output_type": "stream",
     "text": [
      "Natasha Romanoff is a Marvel superhero!\n",
      "Tony Stark is a Marvel superhero!\n",
      "Stephen Strange is a Marvel superhero!\n"
     ]
    }
   ],
   "source": [
    "for name in real_names: #'name' can be anything. use sth that is understandable\n",
    "    print(f\"{name} is a Marvel superhero!\")"
   ]
  },
  {
   "cell_type": "markdown",
   "id": "8f95ad4c-1a3f-43a6-b733-6dcd5151ed10",
   "metadata": {},
   "source": [
    "1. for goes through the list and assigns 'name' (that you put in the 'for name in...') the value of each element of the list.\n",
    "1. it then runs the code-block using this value of name.\n",
    "1. the code block is deginted by using : and tabs like with if."
   ]
  },
  {
   "cell_type": "code",
   "execution_count": 7,
   "id": "adb97789-d419-4472-b63f-fdbf448aed2b",
   "metadata": {},
   "outputs": [
    {
     "name": "stdout",
     "output_type": "stream",
     "text": [
      "Natasha Romanoff is a Marvel superhero!\n",
      "Tony Stark is a Marvel superhero!\n",
      "Stephen Strange is a Marvel superhero!\n"
     ]
    }
   ],
   "source": [
    "for x in real_names:\n",
    "    print(f\"{x} is a Marvel superhero!\")"
   ]
  },
  {
   "attachments": {},
   "cell_type": "markdown",
   "id": "ce0b5c41",
   "metadata": {},
   "source": [
    "## 1.2 for with enumerate"
   ]
  },
  {
   "cell_type": "code",
   "execution_count": 8,
   "id": "d8c71c23-d222-4d53-9402-e6931fafc8a6",
   "metadata": {},
   "outputs": [],
   "source": [
    "super_names = [\"Black Widow\", \"Iron Man\", \"Doctor Strange\"]\n",
    "real_names = [\"Natasha Romanoff\", \"Tony Stark\", \"Stephen Strange\"]"
   ]
  },
  {
   "cell_type": "markdown",
   "id": "2c2610c9-7609-4834-a437-13c14873c5df",
   "metadata": {},
   "source": [
    "for only accepts one list. use enumerate for more than one list"
   ]
  },
  {
   "cell_type": "code",
   "execution_count": 9,
   "id": "07c8c66a-0b87-4b63-b9c6-f3b1bd4766e4",
   "metadata": {},
   "outputs": [
    {
     "name": "stdout",
     "output_type": "stream",
     "text": [
      "0: Natasha Romanoff is a Marvel superhero!\n",
      "1: Tony Stark is a Marvel superhero!\n",
      "2: Stephen Strange is a Marvel superhero!\n"
     ]
    }
   ],
   "source": [
    "for count, name in enumerate(real_names):\n",
    "    print(f'{count}: {name} is a Marvel superhero!')"
   ]
  },
  {
   "cell_type": "markdown",
   "id": "8760134f-825a-4d15-aab9-2d3f395736b8",
   "metadata": {},
   "source": [
    "the 'count' literally means number the variables as u go along\n",
    "\n",
    "enumerate() not only gives the elements of the list, it also gives you a number (that is stored in 'count')."
   ]
  },
  {
   "cell_type": "code",
   "execution_count": 19,
   "id": "53bcad56-45b5-4342-8e29-84f1f756dd9c",
   "metadata": {},
   "outputs": [
    {
     "name": "stdout",
     "output_type": "stream",
     "text": [
      "Natasha Romanoff is Doctor Strange!\n",
      "Tony Stark is Doctor Strange!\n",
      "Stephen Strange is Doctor Strange!\n"
     ]
    }
   ],
   "source": [
    "for index, name in enumerate(real_names):\n",
    "    # superhero_name = super_names[index] #what does super_names[index] do?\n",
    "    print(f'{name} is {superhero_name}!')"
   ]
  },
  {
   "cell_type": "code",
   "execution_count": 20,
   "id": "16101d54-3669-49b7-9abf-d778739d948f",
   "metadata": {},
   "outputs": [
    {
     "name": "stdout",
     "output_type": "stream",
     "text": [
      "100: Natasha Romanoff is a Marvel superhero!\n",
      "101: Tony Stark is a Marvel superhero!\n",
      "102: Stephen Strange is a Marvel superhero!\n"
     ]
    }
   ],
   "source": [
    "for count, name in enumerate(real_names, 100): #change the count and index\n",
    "    print(f'{count}: {name} is a Marvel superhero!')"
   ]
  },
  {
   "attachments": {},
   "cell_type": "markdown",
   "id": "c1b65325",
   "metadata": {},
   "source": [
    "## 1.3 for with range"
   ]
  },
  {
   "cell_type": "code",
   "execution_count": 23,
   "id": "c4cf0dc1-01e4-4365-a5c5-2ab5e55e83b3",
   "metadata": {},
   "outputs": [
    {
     "name": "stdout",
     "output_type": "stream",
     "text": [
      "0\n",
      "1\n",
      "2\n",
      "3\n",
      "4\n"
     ]
    }
   ],
   "source": [
    "for i in range(5):\n",
    "    print(i)"
   ]
  },
  {
   "cell_type": "code",
   "execution_count": 24,
   "id": "da038366-7f7e-4ee1-8050-0bcb94fd8890",
   "metadata": {},
   "outputs": [
    {
     "name": "stdout",
     "output_type": "stream",
     "text": [
      "5\n",
      "6\n",
      "7\n",
      "8\n",
      "9\n"
     ]
    }
   ],
   "source": [
    "for i in range(5, 10):\n",
    "    print(i)  #so range is like a list of numbers alr come prepped. comma denote starting and ending values\n",
    "                #same way indexes are numbered"
   ]
  },
  {
   "cell_type": "code",
   "execution_count": 25,
   "id": "2ccff1ed-e660-4799-b093-91037bf83536",
   "metadata": {},
   "outputs": [
    {
     "name": "stdout",
     "output_type": "stream",
     "text": [
      "1\n",
      "4\n",
      "7\n"
     ]
    }
   ],
   "source": [
    "for i in range(1, 10, 3): #number from 1 to 10 but in steps of 3\n",
    "    print(i)"
   ]
  },
  {
   "cell_type": "code",
   "execution_count": 4,
   "id": "38e62356-13a1-4026-97bb-8196432e4887",
   "metadata": {},
   "outputs": [
    {
     "name": "stdout",
     "output_type": "stream",
     "text": [
      "a\n",
      "apple\n",
      "Adam\n"
     ]
    }
   ],
   "source": [
    "test_list =  ['a', 'apple', 'Adam']\n",
    "for i in test_list:\n",
    "    print(i)"
   ]
  },
  {
   "cell_type": "code",
   "execution_count": 5,
   "id": "24a2f692-613a-44cf-9a6a-ddd8990dbde2",
   "metadata": {},
   "outputs": [
    {
     "data": {
      "text/plain": [
       "[(0, 'a'), (1, 'apple'), (2, 'Adam')]"
      ]
     },
     "execution_count": 5,
     "metadata": {},
     "output_type": "execute_result"
    }
   ],
   "source": [
    "list(enumerate(test_list))"
   ]
  },
  {
   "cell_type": "code",
   "execution_count": 6,
   "id": "1b58b4a0-c5af-4d33-8de6-7f850a66ca9d",
   "metadata": {},
   "outputs": [
    {
     "name": "stdout",
     "output_type": "stream",
     "text": [
      "(0, 'a')\n",
      "(1, 'apple')\n",
      "(2, 'Adam')\n"
     ]
    }
   ],
   "source": [
    "for i in enumerate(test_list):\n",
    "    print(i)"
   ]
  },
  {
   "cell_type": "code",
   "execution_count": 7,
   "id": "27ebf1be-cca1-48ac-94d3-f6130b57df5a",
   "metadata": {},
   "outputs": [
    {
     "ename": "ValueError",
     "evalue": "not enough values to unpack (expected 3, got 2)",
     "output_type": "error",
     "traceback": [
      "\u001b[1;31m---------------------------------------------------------------------------\u001b[0m",
      "\u001b[1;31mValueError\u001b[0m                                Traceback (most recent call last)",
      "Cell \u001b[1;32mIn[7], line 1\u001b[0m\n\u001b[1;32m----> 1\u001b[0m \u001b[38;5;28;01mfor\u001b[39;00m i, j, k \u001b[38;5;129;01min\u001b[39;00m \u001b[38;5;28menumerate\u001b[39m(test_list): \u001b[38;5;66;03m#python will try and loop back after assigning values\u001b[39;00m\n\u001b[0;32m      2\u001b[0m     \u001b[38;5;28mprint\u001b[39m(\u001b[38;5;124m'\u001b[39m\u001b[38;5;124mThis is i: \u001b[39m\u001b[38;5;124m'\u001b[39m, i)           \u001b[38;5;66;03m#after assigning i to the first value it will try to assign j to the second value\u001b[39;00m\n\u001b[0;32m      3\u001b[0m     \u001b[38;5;28mprint\u001b[39m(\u001b[38;5;124m'\u001b[39m\u001b[38;5;124mThis is j: \u001b[39m\u001b[38;5;124m'\u001b[39m, j)           \u001b[38;5;66;03m# assign k to the third value then i to the forth value etc etc\u001b[39;00m\n",
      "\u001b[1;31mValueError\u001b[0m: not enough values to unpack (expected 3, got 2)"
     ]
    }
   ],
   "source": [
    "for i, j, k in enumerate(test_list): #python will try and loop back after assigning values\n",
    "    print('This is i: ', i)           #after assigning i to the first value it will try to assign j to the second value\n",
    "    print('This is j: ', j)           # assign k to the third value then i to the forth value etc etc"
   ]
  },
  {
   "cell_type": "code",
   "execution_count": 8,
   "id": "9a606827-7bef-4bcc-8515-416b137a76e8",
   "metadata": {},
   "outputs": [
    {
     "name": "stdout",
     "output_type": "stream",
     "text": [
      "This is i:  0\n",
      "This is j:  a\n",
      "This is i:  1\n",
      "This is j:  apple\n",
      "This is i:  2\n",
      "This is j:  Adam\n"
     ]
    }
   ],
   "source": [
    "for i, j in enumerate(test_list): #python will try and loop back after assigning values\n",
    "    print('This is i: ', i)           #after assigning i to the first value it will try to assign j to the second value\n",
    "    print('This is j: ', j)           # assign k to the third value then i to the forth value etc etc"
   ]
  },
  {
   "cell_type": "code",
   "execution_count": 28,
   "id": "63e4af10-e01c-496f-8ace-91a01b61df71",
   "metadata": {},
   "outputs": [
    {
     "name": "stdout",
     "output_type": "stream",
     "text": [
      "0\n",
      "1\n",
      "2\n"
     ]
    }
   ],
   "source": [
    "for i in range(3):\n",
    "    print(i)\n",
    "    "
   ]
  },
  {
   "cell_type": "markdown",
   "id": "9355658b-e362-4a7e-8816-82f9744165d9",
   "metadata": {},
   "source": [
    "Remember that for can be run a given number of times using range()."
   ]
  },
  {
   "cell_type": "code",
   "execution_count": 3,
   "id": "947c005c-c7f8-4863-aca1-1860f639a18d",
   "metadata": {},
   "outputs": [],
   "source": [
    "super_names = [\"Black Widow\", \"Iron Man\", \"Doctor Strange\"]\n",
    "real_names = [\"Natasha Romanoff\", \"Tony Stark\", \"Stephen Strange\"]"
   ]
  },
  {
   "cell_type": "code",
   "execution_count": 7,
   "id": "40b24817-8638-418a-b448-c9874e3029d3",
   "metadata": {},
   "outputs": [
    {
     "name": "stdout",
     "output_type": "stream",
     "text": [
      "Natasha Romanoff is Marvel's Black Widow!\n",
      "Tony Stark is Marvel's Iron Man!\n",
      "Stephen Strange is Marvel's Doctor Strange!\n",
      "3\n"
     ]
    }
   ],
   "source": [
    "for i in range(len(real_names)):\n",
    "    real_name = real_names[i]\n",
    "    super_name = super_names[i]        \n",
    "    print(f\"{real_name} is Marvel's {super_name}!\")\n",
    "\n",
    "\n",
    "print(len(real_names)) #so len(real_names) gives the length of the list :real_names aka how many variables are in it"
   ]
  },
  {
   "cell_type": "code",
   "execution_count": null,
   "id": "08a2d0bd-c8c4-499b-9d61-44dacac4edfc",
   "metadata": {},
   "outputs": [],
   "source": []
  },
  {
   "attachments": {},
   "cell_type": "markdown",
   "id": "f763a96e",
   "metadata": {},
   "source": [
    "# 2 while"
   ]
  },
  {
   "cell_type": "code",
   "execution_count": 1,
   "id": "81d33077-fea6-490e-a8c0-27f9f6584530",
   "metadata": {},
   "outputs": [
    {
     "name": "stdout",
     "output_type": "stream",
     "text": [
      "0\n",
      "2\n",
      "4\n",
      "6\n",
      "8\n",
      "10\n",
      "12\n",
      "14\n",
      "16\n",
      "18\n",
      "20\n",
      "22\n",
      "24\n",
      "26\n",
      "28\n",
      "30\n",
      "32\n",
      "34\n",
      "36\n",
      "38\n",
      "40\n",
      "42\n",
      "44\n",
      "46\n",
      "48\n"
     ]
    }
   ],
   "source": [
    "number = 0\n",
    "\n",
    "while number < 50: # while loop will keep running as long as the wile statement is true\n",
    "    print(number)\n",
    "    number += 2 #+= is plus how many to the previous number"
   ]
  },
  {
   "cell_type": "code",
   "execution_count": null,
   "id": "78a71a83-b694-495b-bebc-2f3f6dd5f1bb",
   "metadata": {},
   "outputs": [],
   "source": []
  },
  {
   "cell_type": "code",
   "execution_count": null,
   "id": "9a6e00c8-70ec-4345-8e81-dccf2ca5861d",
   "metadata": {},
   "outputs": [],
   "source": []
  },
  {
   "cell_type": "code",
   "execution_count": null,
   "id": "6def8986-5b93-4314-91ea-a5afb9e01822",
   "metadata": {},
   "outputs": [],
   "source": []
  },
  {
   "cell_type": "code",
   "execution_count": null,
   "id": "18ed8654-a3d1-4d36-9d3c-b6fcaf17a0f6",
   "metadata": {},
   "outputs": [],
   "source": []
  },
  {
   "cell_type": "code",
   "execution_count": null,
   "id": "d38ee9fb-4371-48b4-afc6-19dc39dc255d",
   "metadata": {},
   "outputs": [],
   "source": []
  }
 ],
 "metadata": {
  "kernelspec": {
   "display_name": "Python 3 (ipykernel)",
   "language": "python",
   "name": "python3"
  },
  "language_info": {
   "codemirror_mode": {
    "name": "ipython",
    "version": 3
   },
   "file_extension": ".py",
   "mimetype": "text/x-python",
   "name": "python",
   "nbconvert_exporter": "python",
   "pygments_lexer": "ipython3",
   "version": "3.11.5"
  },
  "toc": {
   "base_numbering": 1,
   "nav_menu": {},
   "number_sections": true,
   "sideBar": true,
   "skip_h1_title": false,
   "title_cell": "Table of Contents",
   "title_sidebar": "Contents",
   "toc_cell": false,
   "toc_position": {},
   "toc_section_display": true,
   "toc_window_display": false
  },
  "vscode": {
   "interpreter": {
    "hash": "31f2aee4e71d21fbe5cf8b01ff0e069b9275f58929596ceb00d14d90e3e16cd6"
   }
  }
 },
 "nbformat": 4,
 "nbformat_minor": 5
}
