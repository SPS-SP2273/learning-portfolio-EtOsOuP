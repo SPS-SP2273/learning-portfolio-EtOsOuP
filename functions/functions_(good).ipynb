{
 "cells": [
  {
   "attachments": {},
   "cell_type": "markdown",
   "id": "123456",
   "metadata": {},
   "source": [
    "<div style=\"text-align:left;font-size:2em\"><span style=\"font-weight:bolder;font-size:1.25em\">SP2273 | Learning Portfolio</span><br><br><span style=\"font-weight:bold;color:darkred\">Functions (Good)</span></div>"
   ]
  },
  {
   "attachments": {},
   "cell_type": "markdown",
   "id": "5391da59",
   "metadata": {},
   "source": [
    "# What to expect in this chapter"
   ]
  },
  {
   "cell_type": "markdown",
   "id": "fc507437-3494-4959-b6be-d32bfc79dfba",
   "metadata": {},
   "source": [
    "In this chapter, I will tie up some loose ends about functions like **types of arguments** and **docstrings**. I will also discuss **exception handling** so that you can better understand how to deal with errors. By the end of this chapter, you will know the difference between **positional**, **keyword**, and **default arguments of functions**. You can also write code that checks and handles potential problems."
   ]
  },
  {
   "attachments": {},
   "cell_type": "markdown",
   "id": "c0d44cfc",
   "metadata": {},
   "source": [
    "# 1 Checks, balances, and contingencies"
   ]
  },
  {
   "cell_type": "markdown",
   "id": "7a231c69-0e86-4b02-825b-073579fbf140",
   "metadata": {},
   "source": [
    "Users and programmers are not infallible, and you cannot think of everything that can go wrong. So, having checks, balances, and contingencies in your code is a good idea. So, let’s talk about pre-empting problems. This topic applies to more than just functions, but let’s start here.\n",
    "\n",
    "There are two standard ways Python allows us to incorporate checks: **assert and try-except.**"
   ]
  },
  {
   "attachments": {},
   "cell_type": "markdown",
   "id": "08332cf1",
   "metadata": {},
   "source": [
    "## 1.1 assert"
   ]
  },
  {
   "cell_type": "markdown",
   "id": "8b05c5e8-23af-493d-b371-6189fd98a8fe",
   "metadata": {},
   "source": [
    "Assert checks a condition and halts execution if necessary"
   ]
  },
  {
   "cell_type": "code",
   "execution_count": 1,
   "id": "0d59db68-fdbf-466a-af19-b154d1faf5ae",
   "metadata": {},
   "outputs": [
    {
     "ename": "NameError",
     "evalue": "name 'condition' is not defined",
     "output_type": "error",
     "traceback": [
      "\u001b[1;31m---------------------------------------------------------------------------\u001b[0m",
      "\u001b[1;31mNameError\u001b[0m                                 Traceback (most recent call last)",
      "Cell \u001b[1;32mIn[1], line 1\u001b[0m\n\u001b[1;32m----> 1\u001b[0m \u001b[38;5;28;01massert\u001b[39;00m \u001b[43mcondition\u001b[49m\u001b[38;5;241m-\u001b[39mto\u001b[38;5;241m-\u001b[39mcheck, message\n",
      "\u001b[1;31mNameError\u001b[0m: name 'condition' is not defined"
     ]
    }
   ],
   "source": [
    "assert condition-to-check, message #the basic syntax of assert"
   ]
  },
  {
   "cell_type": "code",
   "execution_count": 2,
   "id": "fd44bf50-0791-4e17-a92f-b72c7f8bcd1e",
   "metadata": {},
   "outputs": [
    {
     "ename": "NameError",
     "evalue": "name 'x' is not defined",
     "output_type": "error",
     "traceback": [
      "\u001b[1;31m---------------------------------------------------------------------------\u001b[0m",
      "\u001b[1;31mNameError\u001b[0m                                 Traceback (most recent call last)",
      "Cell \u001b[1;32mIn[2], line 1\u001b[0m\n\u001b[1;32m----> 1\u001b[0m \u001b[38;5;28;01massert\u001b[39;00m \u001b[43mx\u001b[49m \u001b[38;5;241m>\u001b[39m\u001b[38;5;241m=\u001b[39m \u001b[38;5;241m0\u001b[39m, \u001b[38;5;124m\"\u001b[39m\u001b[38;5;124mx is becoming negative!\u001b[39m\u001b[38;5;124m\"\u001b[39m \u001b[38;5;66;03m#condition is x>= 0, message is the string that follows\u001b[39;00m\n",
      "\u001b[1;31mNameError\u001b[0m: name 'x' is not defined"
     ]
    }
   ],
   "source": [
    "assert x >= 0, \"x is becoming negative!\" #condition is x>= 0, message is the string that follows"
   ]
  },
  {
   "cell_type": "markdown",
   "id": "941b83fe-64d6-4b5c-bce8-36b1ef51c434",
   "metadata": {},
   "source": [
    "The program will run for as long as the condition is True. If it fails, then an AssertationError is raised, and the program stops running!"
   ]
  },
  {
   "cell_type": "code",
   "execution_count": 3,
   "id": "676e456f-f7dc-4532-88fe-c8ee5312a82f",
   "metadata": {},
   "outputs": [],
   "source": [
    "x = 10\n",
    "assert x >= 0, \"x is becoming negative!\"\n",
    "#no problem running."
   ]
  },
  {
   "cell_type": "code",
   "execution_count": 4,
   "id": "b481c551-71ed-4939-ba9a-ab6065ee2d8b",
   "metadata": {},
   "outputs": [
    {
     "ename": "AssertionError",
     "evalue": "x is becoming negative!",
     "output_type": "error",
     "traceback": [
      "\u001b[1;31m---------------------------------------------------------------------------\u001b[0m",
      "\u001b[1;31mAssertionError\u001b[0m                            Traceback (most recent call last)",
      "Cell \u001b[1;32mIn[4], line 2\u001b[0m\n\u001b[0;32m      1\u001b[0m x \u001b[38;5;241m=\u001b[39m \u001b[38;5;241m-\u001b[39m\u001b[38;5;241m1\u001b[39m\n\u001b[1;32m----> 2\u001b[0m \u001b[38;5;28;01massert\u001b[39;00m x \u001b[38;5;241m>\u001b[39m\u001b[38;5;241m=\u001b[39m \u001b[38;5;241m0\u001b[39m, \u001b[38;5;124m\"\u001b[39m\u001b[38;5;124mx is becoming negative!\u001b[39m\u001b[38;5;124m\"\u001b[39m\n",
      "\u001b[1;31mAssertionError\u001b[0m: x is becoming negative!"
     ]
    }
   ],
   "source": [
    "x = -1\n",
    "assert x >= 0, \"x is becoming negative!\" #will invoke a assertation Error"
   ]
  },
  {
   "cell_type": "code",
   "execution_count": null,
   "id": "e93ab44c-c6e5-4ad0-91f0-205922e6a5b6",
   "metadata": {},
   "outputs": [],
   "source": []
  },
  {
   "attachments": {},
   "cell_type": "markdown",
   "id": "cd6a08d4",
   "metadata": {},
   "source": [
    "## 1.2 try-except"
   ]
  },
  {
   "cell_type": "markdown",
   "id": "bb37c3a7-fb4c-4327-a369-942b8571138c",
   "metadata": {},
   "source": [
    "A technical name for things going wrong is exceptions. For example, division by zero will raise a **ZeroDivisionError**. An exception left unhandled will halt the flow of the programme. However, if you are a control freak, Python offers an (absurdly) simple **‘try-except’** structure to catch and handle these exceptions yourself.\n",
    "\n",
    "The try-except syntax can also ensure that your programme can handle some situations beyond your control. For example, when I use Python to speak to the Canvas server, I use try-except to handle situations when the server does not respond.\n",
    "\n",
    "Let me show you how to use the try-except flow control statement.\n",
    "\n",
    "We can solicit a user response using the input() function. Let’s say we do this and ask for a number, as shown in the snippet below."
   ]
  },
  {
   "cell_type": "code",
   "execution_count": 7,
   "id": "7fd0a6f8-61b7-44ae-b84c-c30f948aae6c",
   "metadata": {},
   "outputs": [
    {
     "name": "stdin",
     "output_type": "stream",
     "text": [
      "Give me a number and I will calculate its square. 2\n"
     ]
    },
    {
     "name": "stdout",
     "output_type": "stream",
     "text": [
      "The square of 2 is 4!\n"
     ]
    }
   ],
   "source": [
    "number=input(\"Give me a number and I will calculate its square.\")\n",
    "square=int(number)**2              # Convert English to number\n",
    "print(f'The square of {number} is {square}!')"
   ]
  },
  {
   "cell_type": "code",
   "execution_count": 8,
   "id": "f469f59a-f251-41e0-9cd4-170ccd4f88fd",
   "metadata": {},
   "outputs": [
    {
     "name": "stdin",
     "output_type": "stream",
     "text": [
      "Give me a number and I will calculate its square. fefefe\n"
     ]
    },
    {
     "name": "stdout",
     "output_type": "stream",
     "text": [
      "Oh oh! I cannot square fefefe!\n"
     ]
    }
   ],
   "source": [
    "#if the input becomes non integer\n",
    "\n",
    "try: #enclosed the part of the code that we think that will go wrong (potentially).\n",
    "    number=input(\"Give me a number and I will calculate its square.\")\n",
    "    square=int(number)**2\n",
    "    print(f'The square of {number} is {square}!')\n",
    "except: #if anything goes wrong, python will ignore the error and run the code in the except block\n",
    "    print(f\"Oh oh! I cannot square {number}!\")"
   ]
  },
  {
   "attachments": {},
   "cell_type": "markdown",
   "id": "abbbd259",
   "metadata": {},
   "source": [
    "## 1.3 A simple suggestion"
   ]
  },
  {
   "cell_type": "markdown",
   "id": "955ec616-09fc-4ef9-b7f0-9c6246028185",
   "metadata": {},
   "source": [
    "When starting out with some code, it is always good for your code to signal to the outside world that it has finished certain milestones. A ‘soft’ way to do this is to include **‘print()’** statements here and there to let the outside world know what is happening in the innards of your program. Otherwise, you will stare at a blank cell, wondering what is happening."
   ]
  },
  {
   "attachments": {},
   "cell_type": "markdown",
   "id": "3382691a",
   "metadata": {},
   "source": [
    "# 2 Some loose ends"
   ]
  },
  {
   "attachments": {},
   "cell_type": "markdown",
   "id": "df4d4e47",
   "metadata": {},
   "source": [
    "## 2.1 Positional, keyword and default arguments"
   ]
  },
  {
   "cell_type": "markdown",
   "id": "774dc4ed-bc28-4b31-b34f-bb0e41e7646e",
   "metadata": {},
   "source": [
    "In the past chapter, some of you may have noticed that I was (carelessly) switching between passing two styles of passing arguments to the function greeting(). I wrote greeting('Super Man') or greeting(name='Super Man'). We need to talk a bit more about this so that you are not bewildered when you see other people’s code."
   ]
  },
  {
   "cell_type": "markdown",
   "id": "0456c25d-cf3b-40b5-ab17-2c7ab8d0904e",
   "metadata": {},
   "source": [
    "There are three ‘ways’ to pass a value to an argument. I will call them **positional**, **keyword** or **default**. To make this clearer, consider the following function."
   ]
  },
  {
   "cell_type": "code",
   "execution_count": 20,
   "id": "c58da3f1-d220-4b9d-afa1-387e2ed06f00",
   "metadata": {},
   "outputs": [],
   "source": [
    "def side_by_side(a, b, c= 42):\n",
    "    return f'{a: 2d}|{b: 2d}|{c: 2d}'"
   ]
  },
  {
   "cell_type": "markdown",
   "id": "34653477-c817-4da9-af14-8e61b2f7724d",
   "metadata": {},
   "source": [
    "## Positional "
   ]
  },
  {
   "cell_type": "code",
   "execution_count": 14,
   "id": "84f91231-ea11-4c77-8e25-eec650dfb54a",
   "metadata": {},
   "outputs": [
    {
     "data": {
      "text/plain": [
       "' 1| 2| 3'"
      ]
     },
     "execution_count": 14,
     "metadata": {},
     "output_type": "execute_result"
    }
   ],
   "source": [
    "side_by_side(1, 2, 3) #assign 1, 2, 3 to a, b, c using positional order of the arguments"
   ]
  },
  {
   "cell_type": "markdown",
   "id": "c48b507f-635c-4c10-b55b-67cc5018502f",
   "metadata": {},
   "source": [
    "## Keywords"
   ]
  },
  {
   "cell_type": "code",
   "execution_count": 15,
   "id": "15a7c80d-7068-4b09-9c97-e6eb58299cac",
   "metadata": {},
   "outputs": [
    {
     "data": {
      "text/plain": [
       "' 2| 1| 3'"
      ]
     },
     "execution_count": 15,
     "metadata": {},
     "output_type": "execute_result"
    }
   ],
   "source": [
    "side_by_side(c=3, b=1, a=2) #specify keyword to assign the values of a, b, c. order no matter"
   ]
  },
  {
   "cell_type": "markdown",
   "id": "98cc2a0e-cf89-4223-8cd8-1802dfec1de6",
   "metadata": {},
   "source": [
    "## Default"
   ]
  },
  {
   "cell_type": "code",
   "execution_count": 21,
   "id": "900b2c93-3d23-4b83-a222-4e0160709294",
   "metadata": {},
   "outputs": [
    {
     "data": {
      "text/plain": [
       "' 1| 2| 42'"
      ]
     },
     "execution_count": 21,
     "metadata": {},
     "output_type": "execute_result"
    }
   ],
   "source": [
    "side_by_side(1, b=2) #specifying a=1, b=2. c is optional if not specified. \n",
    "#since c = 42 in the original code, c will become 42 in this case (default no)\n",
    "#will give error if c is not specified in the original code"
   ]
  },
  {
   "cell_type": "code",
   "execution_count": 23,
   "id": "9b965afb-9ec4-4bd0-9fda-33abfc1b384d",
   "metadata": {},
   "outputs": [
    {
     "data": {
      "text/plain": [
       "' 1| 2| 42'"
      ]
     },
     "execution_count": 23,
     "metadata": {},
     "output_type": "execute_result"
    }
   ],
   "source": [
    "side_by_side(1, 2)           # Two positional, 1 default\n",
    "## ' 1| 2| 42'\n",
    "side_by_side(1, 2, 3)        # Three positional\n",
    "## ' 1| 2| 3'\n",
    "side_by_side(a=1, b=2)       # Two keyword, 1 default\n",
    "## ' 1| 2| 42'\n",
    "side_by_side(c=3, b=1, a=2)  # Three keyword\n",
    "## ' 2| 1| 3'\n",
    "side_by_side(1, c=3, b=2)    # One positional, 2 keyword\n",
    "## ' 1| 2| 3'\n",
    "side_by_side(1, b=2)         # One positional, 1 keyword, 1 default\n",
    "## ' 1| 2| 42'"
   ]
  },
  {
   "cell_type": "code",
   "execution_count": null,
   "id": "27b94a07-9f6d-4e8d-a324-7d4881fd6b7c",
   "metadata": {},
   "outputs": [],
   "source": []
  },
  {
   "attachments": {},
   "cell_type": "markdown",
   "id": "7c806f9f",
   "metadata": {},
   "source": [
    "## 2.2 Docstrings"
   ]
  },
  {
   "cell_type": "markdown",
   "id": "e834698d-63d1-499f-b935-98c3c8fee91d",
   "metadata": {},
   "source": [
    "Docstring allows us to document what a function does inside the function\n",
    "Docstring is displated when we ask python to show us with **help()**"
   ]
  },
  {
   "cell_type": "code",
   "execution_count": 30,
   "id": "c1651a66-0fff-4ec7-a7a2-9053a3b6b6f5",
   "metadata": {},
   "outputs": [],
   "source": [
    "def side_by_side(a, b, c=42):\n",
    "    '''\n",
    "    A test function to demonstrate how \n",
    "    positional, keyword and default arguments \n",
    "    work. \n",
    "    docstring need to be sandwiched btw inverted commas (3 pairs)\n",
    "    '''\n",
    "    return f'{a: 2d}|{b: 2d}|{c: 2d}'"
   ]
  },
  {
   "cell_type": "code",
   "execution_count": 31,
   "id": "60c54f66-86eb-4c83-a227-02f910f0a15a",
   "metadata": {},
   "outputs": [
    {
     "name": "stdout",
     "output_type": "stream",
     "text": [
      "Help on function side_by_side in module __main__:\n",
      "\n",
      "side_by_side(a, b, c=42)\n",
      "    A test function to demonstrate how \n",
      "    positional, keyword and default arguments \n",
      "    work. \n",
      "    docstring need to be sandwiched btw inverted commas (3 pairs)\n",
      "\n"
     ]
    }
   ],
   "source": [
    "help(side_by_side) #docstring is just a string used for documentation\n"
   ]
  },
  {
   "attachments": {},
   "cell_type": "markdown",
   "id": "7130a425",
   "metadata": {},
   "source": [
    "## 2.3 Function are first-class citizens"
   ]
  },
  {
   "cell_type": "markdown",
   "id": "d6bdc6a0-1963-4f11-b5d4-f15e84243a32",
   "metadata": {},
   "source": [
    "Python functions are called first-class citizens because they have the same privileges as variables. This opens up useful possibilities for scientific programming because we can **pass a function as an argument to another function!**"
   ]
  },
  {
   "cell_type": "code",
   "execution_count": 33,
   "id": "1bf90e64-3edb-4784-9eda-b00fa007cfe2",
   "metadata": {},
   "outputs": [
    {
     "data": {
      "text/plain": [
       "-1.0"
      ]
     },
     "execution_count": 33,
     "metadata": {},
     "output_type": "execute_result"
    }
   ],
   "source": [
    "import numpy as np\n",
    "def my_function(angle, trig_function):\n",
    "        return trig_function(angle)\n",
    "\n",
    "# Let's use the function\n",
    "my_function(np.pi/2, np.sin)        \n",
    "## 1.0\n",
    "my_function(np.pi/2, np.cos)        \n",
    "## 6.123233995736766e-17\n",
    "my_function(np.pi/2, lambda x: np.cos(2*x))  \n",
    "## -1.0"
   ]
  },
  {
   "attachments": {},
   "cell_type": "markdown",
   "id": "4e1de78c",
   "metadata": {},
   "source": [
    "## 2.4 More about unpacking"
   ]
  },
  {
   "cell_type": "code",
   "execution_count": 34,
   "id": "02d69f0c-176a-4264-8a03-085763c53638",
   "metadata": {},
   "outputs": [
    {
     "data": {
      "text/plain": [
       "(1, 2, 3)"
      ]
     },
     "execution_count": 34,
     "metadata": {},
     "output_type": "execute_result"
    }
   ],
   "source": [
    "x, y, z = [1, 2, 3]\n",
    "x, y, z"
   ]
  },
  {
   "cell_type": "code",
   "execution_count": 35,
   "id": "4492b950-0fad-490d-a371-ebb1d26ed4a1",
   "metadata": {},
   "outputs": [
    {
     "data": {
      "text/plain": [
       "(1, 2, 3)"
      ]
     },
     "execution_count": 35,
     "metadata": {},
     "output_type": "execute_result"
    }
   ],
   "source": [
    "x, y, z = np.array([1, 2, 3])\n",
    "x, y, z"
   ]
  },
  {
   "cell_type": "code",
   "execution_count": 36,
   "id": "e8889c52-14c4-48e0-8e34-eabd1e2ed01d",
   "metadata": {},
   "outputs": [
    {
     "data": {
      "text/plain": [
       "(1, [2, 3, 4], 5)"
      ]
     },
     "execution_count": 36,
     "metadata": {},
     "output_type": "execute_result"
    }
   ],
   "source": [
    "x, *y, z = np.array([1, 2, 3, 4, 5]) #y is the middle numbers\n",
    "x, y, z"
   ]
  },
  {
   "cell_type": "code",
   "execution_count": 37,
   "id": "57dfb2d8-df6b-4a07-a12f-71e3cc0b1fe1",
   "metadata": {},
   "outputs": [
    {
     "data": {
      "text/plain": [
       "(1, 5)"
      ]
     },
     "execution_count": 37,
     "metadata": {},
     "output_type": "execute_result"
    }
   ],
   "source": [
    "x, *_, y = [1, 2, 3, 4, 5]\n",
    "x, y"
   ]
  }
 ],
 "metadata": {
  "kernelspec": {
   "display_name": "Python 3 (ipykernel)",
   "language": "python",
   "name": "python3"
  },
  "language_info": {
   "codemirror_mode": {
    "name": "ipython",
    "version": 3
   },
   "file_extension": ".py",
   "mimetype": "text/x-python",
   "name": "python",
   "nbconvert_exporter": "python",
   "pygments_lexer": "ipython3",
   "version": "3.11.5"
  },
  "toc": {
   "base_numbering": 1,
   "nav_menu": {},
   "number_sections": true,
   "sideBar": true,
   "skip_h1_title": false,
   "title_cell": "Table of Contents",
   "title_sidebar": "Contents",
   "toc_cell": false,
   "toc_position": {},
   "toc_section_display": true,
   "toc_window_display": false
  },
  "vscode": {
   "interpreter": {
    "hash": "31f2aee4e71d21fbe5cf8b01ff0e069b9275f58929596ceb00d14d90e3e16cd6"
   }
  }
 },
 "nbformat": 4,
 "nbformat_minor": 5
}
