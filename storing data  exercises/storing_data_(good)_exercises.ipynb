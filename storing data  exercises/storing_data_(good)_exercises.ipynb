{
 "cells": [
  {
   "attachments": {},
   "cell_type": "markdown",
   "id": "123456",
   "metadata": {},
   "source": [
    "<div style=\"text-align:left;font-size:2em\"><span style=\"font-weight:bolder;font-size:1.25em\">SP2273 | Learning Portfolio</span><br><br><span style=\"font-weight:bold;color:darkred\">Storing Data (Good) Exercises</span></div>"
   ]
  },
  {
   "cell_type": "markdown",
   "id": "0f29eafd-61eb-458d-9948-64097c0b1533",
   "metadata": {},
   "source": [
    "## Exercise 1 (Total Recall)"
   ]
  },
  {
   "cell_type": "markdown",
   "id": "ac686dd3-ebdd-49cd-96e8-cfd6e629e957",
   "metadata": {},
   "source": [
    "| **Term**   | **Brief description**                                   |\r\n",
    "|------------|---------------------------------------------------------|\r\n",
    "| Subsetting | Selecting things from lists                             |\r\n",
    "| Indexing   | Number tagging of variables in a list by python         |\r\n",
    "| Slicing    | I wan the elements from this index from to this index   |\r\n",
    "| Masking    | Show results with only a certain condition as indicated |"
   ]
  },
  {
   "cell_type": "markdown",
   "id": "aacea92c-7115-4ba7-95a7-24357ad22430",
   "metadata": {},
   "source": [
    "## Exercise 2 (show me the 'odd' letters)"
   ]
  },
  {
   "cell_type": "code",
   "execution_count": 41,
   "id": "ac25b10b-3d90-4518-8e66-9bd430ac561e",
   "metadata": {},
   "outputs": [],
   "source": [
    "import numpy as np"
   ]
  },
  {
   "cell_type": "code",
   "execution_count": 51,
   "id": "4d094079-8e17-441e-8210-0d505f1c24a1",
   "metadata": {},
   "outputs": [
    {
     "data": {
      "text/plain": [
       "array(['1', '3', '2', '4', '5', '7', '6', '8', '10', '9'], dtype='<U11')"
      ]
     },
     "execution_count": 51,
     "metadata": {},
     "output_type": "execute_result"
    }
   ],
   "source": [
    "np_array_2d = np.array([[1, \"A\"], \n",
    "                        [3, \"C\"], \n",
    "                        [2, \"B\"], \n",
    "                        [4, \"D\"],\n",
    "                        [5, \"E\"], \n",
    "                        [7, \"G\"], \n",
    "                        [6, \"F\"], \n",
    "                        [8, \"H\"],\n",
    "                        [10, \"J\"], \n",
    "                        [9, \"I\"]]\n",
    "                      )\n",
    "\n",
    "np_array_2d[:, 0] #subsetting all the first element\n"
   ]
  },
  {
   "cell_type": "code",
   "execution_count": 55,
   "id": "9ed95568-f6ef-4270-b50a-b98e66c7c90e",
   "metadata": {},
   "outputs": [
    {
     "name": "stdout",
     "output_type": "stream",
     "text": [
      "[1 1 0 0 1 1 0 0 0 1]\n"
     ]
    }
   ],
   "source": [
    "integers = np_array_2d[:, 0].astype(int) #convert to integer\n",
    "\n",
    "remainder = integers % 2 #remainder by dividing by 2\n",
    "\n",
    "print(remainder)"
   ]
  },
  {
   "cell_type": "code",
   "execution_count": 57,
   "id": "ec478b17-1242-46e2-a010-2c77f2eacb22",
   "metadata": {},
   "outputs": [
    {
     "name": "stdout",
     "output_type": "stream",
     "text": [
      "[ True  True False False  True  True False False False  True]\n"
     ]
    }
   ],
   "source": [
    "mask = remainder !=0 #check if remainder is not eq to 0\n",
    "\n",
    "print(mask)"
   ]
  },
  {
   "cell_type": "code",
   "execution_count": 61,
   "id": "bf8d6852-7744-4fb4-93dd-1f380bc99f0f",
   "metadata": {},
   "outputs": [
    {
     "name": "stdout",
     "output_type": "stream",
     "text": [
      "['A' 'C' 'E' 'G' 'I']\n"
     ]
    }
   ],
   "source": [
    "np_array_2d[mask, 1] #apply mask and choose the first index to filter out the numbers\n",
    "\n",
    "print(np_array_2d[mask, 1]) #print to get the resullts onie"
   ]
  }
 ],
 "metadata": {
  "kernelspec": {
   "display_name": "Python 3 (ipykernel)",
   "language": "python",
   "name": "python3"
  },
  "language_info": {
   "codemirror_mode": {
    "name": "ipython",
    "version": 3
   },
   "file_extension": ".py",
   "mimetype": "text/x-python",
   "name": "python",
   "nbconvert_exporter": "python",
   "pygments_lexer": "ipython3",
   "version": "3.11.5"
  },
  "toc": {
   "base_numbering": 1,
   "nav_menu": {},
   "number_sections": true,
   "sideBar": true,
   "skip_h1_title": false,
   "title_cell": "Table of Contents",
   "title_sidebar": "Contents",
   "toc_cell": false,
   "toc_position": {},
   "toc_section_display": true,
   "toc_window_display": false
  },
  "vscode": {
   "interpreter": {
    "hash": "31f2aee4e71d21fbe5cf8b01ff0e069b9275f58929596ceb00d14d90e3e16cd6"
   }
  }
 },
 "nbformat": 4,
 "nbformat_minor": 5
}
