{
 "cells": [
  {
   "attachments": {},
   "cell_type": "markdown",
   "id": "123456",
   "metadata": {},
   "source": [
    "<div style=\"text-align:left;font-size:2em\"><span style=\"font-weight:bolder;font-size:1.25em\">SP2273 | Learning Portfolio</span><br><br><span style=\"font-weight:bold;color:darkred\">Storing Data (Need) Exercises</span></div>"
   ]
  },
  {
   "cell_type": "markdown",
   "id": "f815731f-57ed-4eae-8689-fc0bd001da10",
   "metadata": {},
   "source": [
    "# Similarities between lists and arrays"
   ]
  },
  {
   "cell_type": "markdown",
   "id": "63ff105b-5304-4893-9216-214408f7b341",
   "metadata": {},
   "source": [
    "1. Both are able to store data within them\n",
    "2. Both use square brackets to group variables in the list\n",
    "3. *order matters for both lists and arrays*\n",
    "4. Both use zero indexing in tagging their variables for retrieval"
   ]
  },
  {
   "cell_type": "markdown",
   "id": "934075a4-5267-480c-b745-c56802027aec",
   "metadata": {},
   "source": [
    "# Differences between lists and arrays"
   ]
  },
  {
   "cell_type": "markdown",
   "id": "db867289-5267-40db-819e-a5943f63d7b8",
   "metadata": {},
   "source": [
    "1. arrays can only store *a single data type* while lists can store any kind of data\n",
    "1. arrays are able to tell you its shape using np_array_2d.shape\n",
    "2. arrays allow for addition of numbers to each index by np_array +5 while the same addition dosent work for lists\n",
    "3. 2 lists can be stiched together easily using the + operation thus can grow easily. however arrays cannot do that. creating a bigger array needs to destroy the previous arrays\n",
    "4. *multiplication in arrays will multiply each index by the multiplication factor. multiplication in list will copy and past the list by the multiplication factor"
   ]
  }
 ],
 "metadata": {
  "kernelspec": {
   "display_name": "Python 3 (ipykernel)",
   "language": "python",
   "name": "python3"
  },
  "language_info": {
   "codemirror_mode": {
    "name": "ipython",
    "version": 3
   },
   "file_extension": ".py",
   "mimetype": "text/x-python",
   "name": "python",
   "nbconvert_exporter": "python",
   "pygments_lexer": "ipython3",
   "version": "3.11.5"
  },
  "toc": {
   "base_numbering": 1,
   "nav_menu": {},
   "number_sections": true,
   "sideBar": true,
   "skip_h1_title": false,
   "title_cell": "Table of Contents",
   "title_sidebar": "Contents",
   "toc_cell": false,
   "toc_position": {},
   "toc_section_display": true,
   "toc_window_display": false
  },
  "vscode": {
   "interpreter": {
    "hash": "31f2aee4e71d21fbe5cf8b01ff0e069b9275f58929596ceb00d14d90e3e16cd6"
   }
  }
 },
 "nbformat": 4,
 "nbformat_minor": 5
}
