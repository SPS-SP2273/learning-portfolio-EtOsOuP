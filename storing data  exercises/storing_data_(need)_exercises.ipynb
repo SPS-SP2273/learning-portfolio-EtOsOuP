{
 "cells": [
  {
   "attachments": {},
   "cell_type": "markdown",
   "id": "123456",
   "metadata": {},
   "source": [
    "<div style=\"text-align:left;font-size:2em\"><span style=\"font-weight:bolder;font-size:1.25em\">SP2273 | Learning Portfolio</span><br><br><span style=\"font-weight:bold;color:darkred\">Storing Data (Need) Exercises</span></div>"
   ]
  },
  {
   "cell_type": "markdown",
   "id": "f815731f-57ed-4eae-8689-fc0bd001da10",
   "metadata": {},
   "source": [
    "# Similarities between lists and arrays"
   ]
  },
  {
   "cell_type": "markdown",
   "id": "63ff105b-5304-4893-9216-214408f7b341",
   "metadata": {},
   "source": [
    "1. Both are able to store data within them\n",
    "2. Both use square brackets to group variables in the list\n",
    "3. *order matters for both lists and arrays*\n",
    "4. Both use zero indexing in tagging their variables for retrieval"
   ]
  },
  {
   "cell_type": "markdown",
   "id": "934075a4-5267-480c-b745-c56802027aec",
   "metadata": {},
   "source": [
    "# Differences between lists and arrays"
   ]
  },
  {
   "cell_type": "markdown",
   "id": "db867289-5267-40db-819e-a5943f63d7b8",
   "metadata": {},
   "source": [
    "1. arrays can only store *a single data type* while lists can store any kind of data\n",
    "1. arrays are able to tell you its shape using np_array_2d.shape\n",
    "2. arrays allow for addition of numbers to each index by np_array +5 while the same addition dosent work for lists\n",
    "3. 2 lists can be stiched together easily using the + operation thus can grow easily. however arrays cannot do that. creating a bigger array needs to destroy the previous arrays\n",
    "4. *multiplication in arrays will multiply each index by the multiplication factor. multiplication in list will copy and past the list by the multiplication factor"
   ]
  },
  {
   "cell_type": "markdown",
   "id": "13be1c54-09de-433f-bac0-42e310f34d49",
   "metadata": {},
   "source": [
    "## Exercise 2 (Indexing)"
   ]
  },
  {
   "cell_type": "markdown",
   "id": "80858b11-ffb9-401c-96b0-b127a56001d3",
   "metadata": {},
   "source": [
    "Modify the following code to print out all elements with an odd number. I have done the one corresponding to i9 for you."
   ]
  },
  {
   "cell_type": "code",
   "execution_count": 2,
   "id": "866503f4-06a1-47b4-9e20-9a55d56472c4",
   "metadata": {},
   "outputs": [
    {
     "name": "stdout",
     "output_type": "stream",
     "text": [
      "a1\n",
      "c3\n",
      "e5\n",
      "g7\n",
      "i9\n"
     ]
    }
   ],
   "source": [
    "py_list = [\"a1\", \"b2\", \"c3\", \"d4\", \"e5\", \"f6\", \"g7\", \"h8\", \"i9\", \"j10\"]\n",
    "print(py_list[0])   # Prints 'a1'\n",
    "print(py_list[2])   # Prints 'c3'\n",
    "print(py_list[4])   # Prints 'e5'\n",
    "print(py_list[-4])   # Prints 'g7'\n",
    "print(py_list[8])   # Prints 'i9'"
   ]
  },
  {
   "cell_type": "markdown",
   "id": "c7a2267e-c5df-4879-994c-d39b6ae426d6",
   "metadata": {},
   "source": [
    "## Exercise 3(Index again)"
   ]
  },
  {
   "cell_type": "code",
   "execution_count": 4,
   "id": "2786bf67-b15c-4738-85fb-709089e7150a",
   "metadata": {},
   "outputs": [
    {
     "name": "stdout",
     "output_type": "stream",
     "text": [
      "Boron\n",
      "Boron\n"
     ]
    }
   ],
   "source": [
    "elements = ['Hydrogen',\n",
    "            'Helium', 'Lithium',\n",
    "            'Beryllium', 'Boron', 'Carbon',\n",
    "            'Nitrogen', 'Oxygen',\n",
    "            'Fluorine',\n",
    "            'Neon']\n",
    "\n",
    "print(elements[4])    #print element at index 4 using forward indexing.\n",
    "print(elements[-6])    #Reverse indexing print index 4"
   ]
  },
  {
   "cell_type": "code",
   "execution_count": 6,
   "id": "781e3745-5962-4a86-b290-84c616f4fcb5",
   "metadata": {},
   "outputs": [],
   "source": [
    "import numpy as np"
   ]
  },
  {
   "cell_type": "code",
   "execution_count": 9,
   "id": "81abe4e8-5085-4e18-8fd2-e178bc69ec0c",
   "metadata": {},
   "outputs": [
    {
     "data": {
      "text/plain": [
       "9"
      ]
     },
     "execution_count": 9,
     "metadata": {},
     "output_type": "execute_result"
    }
   ],
   "source": [
    "numbers=[45, 60, 1, 30, 96, 1, 96, 57, 16, 1,\n",
    "        99, 62, 86, 43, 42, 60, 59, 1, 1, 35,\n",
    "        83, 47, 34, 28, 68, 23, 22, 92, 1, 79,\n",
    "        1, 29, 94, 72, 46, 47, 1, 74, 32, 20,\n",
    "        8, 37, 35, 1, 89, 29, 86, 19, 43, 61]\n",
    "\n",
    "np_array=np.array(numbers) #convert list to numpy\n",
    "np_array == 1  #ask every index if it is eq to 1\n",
    "sum(np_array == 1) #sum of all true results from previous line"
   ]
  }
 ],
 "metadata": {
  "kernelspec": {
   "display_name": "Python 3 (ipykernel)",
   "language": "python",
   "name": "python3"
  },
  "language_info": {
   "codemirror_mode": {
    "name": "ipython",
    "version": 3
   },
   "file_extension": ".py",
   "mimetype": "text/x-python",
   "name": "python",
   "nbconvert_exporter": "python",
   "pygments_lexer": "ipython3",
   "version": "3.11.5"
  },
  "toc": {
   "base_numbering": 1,
   "nav_menu": {},
   "number_sections": true,
   "sideBar": true,
   "skip_h1_title": false,
   "title_cell": "Table of Contents",
   "title_sidebar": "Contents",
   "toc_cell": false,
   "toc_position": {},
   "toc_section_display": true,
   "toc_window_display": false
  },
  "vscode": {
   "interpreter": {
    "hash": "31f2aee4e71d21fbe5cf8b01ff0e069b9275f58929596ceb00d14d90e3e16cd6"
   }
  }
 },
 "nbformat": 4,
 "nbformat_minor": 5
}
