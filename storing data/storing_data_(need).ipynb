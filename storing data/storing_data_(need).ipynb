{
 "cells": [
  {
   "attachments": {},
   "cell_type": "markdown",
   "id": "123456",
   "metadata": {},
   "source": [
    "<div style=\"text-align:left;font-size:2em\"><span style=\"font-weight:bolder;font-size:1.25em\">SP2273 | Learning Portfolio</span><br><br><span style=\"font-weight:bold;color:darkred\">Storing Data (Need)</span></div>"
   ]
  },
  {
   "cell_type": "markdown",
   "id": "7af44668-6c85-40b6-a38e-281d676f2a65",
   "metadata": {},
   "source": [
    "there are many ways to store data. how you organise your data will influence your way of thinking"
   ]
  },
  {
   "attachments": {},
   "cell_type": "markdown",
   "id": "e4f3680e",
   "metadata": {},
   "source": [
    "# What to expect in this chapter"
   ]
  },
  {
   "cell_type": "code",
   "execution_count": 7,
   "id": "94f3db2e-6982-4beb-ac2c-b81b1c1b2534",
   "metadata": {},
   "outputs": [],
   "source": [
    "import numpy as np"
   ]
  },
  {
   "attachments": {},
   "cell_type": "markdown",
   "id": "09babf4f",
   "metadata": {},
   "source": [
    "# 1 Lists, Arrays & Dictionaries"
   ]
  },
  {
   "attachments": {},
   "cell_type": "markdown",
   "id": "a51ed1a5",
   "metadata": {},
   "source": [
    "## 1.1 Let’s compare"
   ]
  },
  {
   "cell_type": "markdown",
   "id": "d9b9ab93-5472-4a65-9cf8-519b466f4128",
   "metadata": {},
   "source": [
    "**Python Lists**"
   ]
  },
  {
   "cell_type": "code",
   "execution_count": null,
   "id": "898838be-ef9a-4514-8a16-12da04930559",
   "metadata": {},
   "outputs": [],
   "source": [
    "py_super_names = [\"Black Widow\", \"Iron Man\", \"Doctor Strange\"]\n",
    "py_real_names = [\"Natasha Romanoff\", \"Tony Stark\", \"Stephen Strange\"]"
   ]
  },
  {
   "cell_type": "markdown",
   "id": "ebf4820a-8278-4327-b732-8f3319d1e0e2",
   "metadata": {},
   "source": [
    "**Numpy**"
   ]
  },
  {
   "cell_type": "code",
   "execution_count": null,
   "id": "f739bbbd-34e2-41d6-b0f2-967599ea8c69",
   "metadata": {},
   "outputs": [],
   "source": [
    "np_super_names = np.array([\"Black Widow\", \"Iron Man\", \"Doctor Strange\"])\n",
    "np_real_names = np.array([\"Natasha Romanoff\", \"Tony Stark\", \"Stephen Strange\"])"
   ]
  },
  {
   "cell_type": "markdown",
   "id": "2e60fbda-5e7a-4db6-82b8-64a42849e13f",
   "metadata": {},
   "source": [
    "**Dictionary**"
   ]
  },
  {
   "cell_type": "code",
   "execution_count": null,
   "id": "59f32f65-1ba2-46a9-91c2-96bd8b5ac678",
   "metadata": {},
   "outputs": [],
   "source": [
    "superhero_info = {\n",
    "    \"Natasha Romanoff\": \"Black Widow\",\n",
    "    \"Tony Stark\": \"Iron Man\",\n",
    "    \"Stephen Strange\": \"Doctor Strange\"\n",
    "}"
   ]
  },
  {
   "cell_type": "markdown",
   "id": "6d02a166-44b1-4737-8d4a-2dd35cd767e6",
   "metadata": {},
   "source": [
    "start counting index from 0 left to right"
   ]
  },
  {
   "attachments": {},
   "cell_type": "markdown",
   "id": "32f2e2bf",
   "metadata": {},
   "source": [
    "## 1.2 Accessing data from a list (or array)"
   ]
  },
  {
   "cell_type": "code",
   "execution_count": 13,
   "id": "698f4b32-9c0f-4c5c-9b40-966b362480f0",
   "metadata": {},
   "outputs": [
    {
     "name": "stdout",
     "output_type": "stream",
     "text": [
      "Natasha Romanoff  is Black Widow\n",
      "Stephen Strange  is Doctor Strange\n"
     ]
    }
   ],
   "source": [
    "py_super_names = [\"Black Widow\", \"Iron Man\", \"Doctor Strange\"]\n",
    "py_real_names = [\"Natasha Romanoff\", \"Tony Stark\", \"Stephen Strange\"]\n",
    "py_real_names[0]\n",
    "print(py_real_names[0],' is' ,py_super_names[0])\n",
    "\n",
    "i=2\n",
    "print(py_real_names[i],' is' ,py_super_names[i])"
   ]
  },
  {
   "cell_type": "code",
   "execution_count": null,
   "id": "31b1a73a-86fe-49cc-86a1-1dcb156101c6",
   "metadata": {},
   "outputs": [],
   "source": [
    "py_super_names[2]    # Forward indexing \n",
    "                     # We need to know the size \n",
    "                     # beforehand for this to work."
   ]
  },
  {
   "cell_type": "code",
   "execution_count": 14,
   "id": "32063bb4-9d67-43ae-9f0f-352985a2d627",
   "metadata": {},
   "outputs": [
    {
     "data": {
      "text/plain": [
       "'Doctor Strange'"
      ]
     },
     "execution_count": 14,
     "metadata": {},
     "output_type": "execute_result"
    }
   ],
   "source": [
    "py_super_names[-1]   # Reverse indexing count from the back"
   ]
  },
  {
   "attachments": {},
   "cell_type": "markdown",
   "id": "0bb3b2ca",
   "metadata": {},
   "source": [
    "## 1.3 Accessing data from a dictionary"
   ]
  },
  {
   "cell_type": "code",
   "execution_count": 15,
   "id": "a69ac7ba-1d2e-4415-a53b-882d35771abe",
   "metadata": {},
   "outputs": [
    {
     "data": {
      "text/plain": [
       "'Black Widow'"
      ]
     },
     "execution_count": 15,
     "metadata": {},
     "output_type": "execute_result"
    }
   ],
   "source": [
    "superhero_info = {\n",
    "    \"Natasha Romanoff\": \"Black Widow\",\n",
    "    \"Tony Stark\": \"Iron Man\",\n",
    "    \"Stephen Strange\": \"Doctor Strange\"\n",
    "}                  \n",
    "\n",
    "superhero_info[\"Natasha Romanoff\"]"
   ]
  },
  {
   "cell_type": "markdown",
   "id": "d5c5903a-5d84-4f6d-a765-f352f835416e",
   "metadata": {},
   "source": [
    "cannot use the value to get the key, but the key can be used to access the value"
   ]
  },
  {
   "cell_type": "code",
   "execution_count": 18,
   "id": "d748f9f0-0ac8-44e8-9140-c831d326ec6f",
   "metadata": {},
   "outputs": [
    {
     "data": {
      "text/plain": [
       "dict_keys(['Natasha Romanoff', 'Tony Stark', 'Stephen Strange'])"
      ]
     },
     "execution_count": 18,
     "metadata": {},
     "output_type": "execute_result"
    }
   ],
   "source": [
    "superhero_info.keys()          #can get all the keys. similarly can get all the values too \n",
    "                                #if i swap keys with .value()"
   ]
  },
  {
   "cell_type": "code",
   "execution_count": null,
   "id": "56024e51-01a5-42ed-ab99-8a321d89664d",
   "metadata": {},
   "outputs": [],
   "source": []
  },
  {
   "cell_type": "code",
   "execution_count": null,
   "id": "c0f13a7d-a609-4f04-a31e-27eefee26b15",
   "metadata": {},
   "outputs": [],
   "source": []
  },
  {
   "attachments": {},
   "cell_type": "markdown",
   "id": "7e7b50ec",
   "metadata": {},
   "source": [
    "## 1.4 Higher dimensional lists"
   ]
  },
  {
   "cell_type": "code",
   "execution_count": 19,
   "id": "dfa5c000-4c9b-4897-9914-ae2c1039453d",
   "metadata": {},
   "outputs": [],
   "source": [
    "py_superhero_info = [\n",
    "    ['Natasha Romanoff', 'Black Widow'],\n",
    "    ['Tony Stark', 'Iron Man'],\n",
    "    ['Stephen Strange', 'Doctor Strange']\n",
    "]"
   ]
  },
  {
   "cell_type": "markdown",
   "id": "405fa070-d924-438c-99bc-2c81c305af24",
   "metadata": {},
   "source": [
    "the first item of the sublist is this this and the second item is that that. its a list within a list"
   ]
  },
  {
   "cell_type": "code",
   "execution_count": null,
   "id": "530938be-90f3-4322-9a9a-3a938069640b",
   "metadata": {},
   "outputs": [],
   "source": []
  },
  {
   "attachments": {},
   "cell_type": "markdown",
   "id": "3a47e067",
   "metadata": {},
   "source": [
    "# 2 Lists vs. Arrays"
   ]
  },
  {
   "cell_type": "code",
   "execution_count": 21,
   "id": "3d74e9e3-873c-4e43-bef2-5ea6889e3630",
   "metadata": {},
   "outputs": [],
   "source": [
    "py_list_2d = [[1, \"A\"], [2, \"B\"], [3, \"C\"], [4, \"D\"],\n",
    "              [5, \"E\"], [6, \"F\"], [7, \"G\"], [8, \"H\"],\n",
    "              [9, \"I\"], [10, \"J\"]]\n",
    "\n",
    "np_array_2d = np.array(py_list_2d)      # Reusing the Python list \n",
    "                                        # to create a NEW\n",
    "                                        # NumPy array"
   ]
  },
  {
   "cell_type": "code",
   "execution_count": 22,
   "id": "d009cf0d-47cf-4fa1-ae35-8ea1fe8fbb9c",
   "metadata": {},
   "outputs": [
    {
     "data": {
      "text/plain": [
       "array([['1', 'A'],\n",
       "       ['2', 'B'],\n",
       "       ['3', 'C'],\n",
       "       ['4', 'D'],\n",
       "       ['5', 'E'],\n",
       "       ['6', 'F'],\n",
       "       ['7', 'G'],\n",
       "       ['8', 'H'],\n",
       "       ['9', 'I'],\n",
       "       ['10', 'J']], dtype='<U11')"
      ]
     },
     "execution_count": 22,
     "metadata": {},
     "output_type": "execute_result"
    }
   ],
   "source": [
    "np_array_2d         #can only hold a single type of variable. either str or int or wtv\n",
    "                    # it will convert everything into the type that is most common alr"
   ]
  },
  {
   "cell_type": "code",
   "execution_count": 24,
   "id": "1d340a61-7a21-4209-8f17-491da72f5422",
   "metadata": {},
   "outputs": [
    {
     "data": {
      "text/plain": [
       "[[1, 'A'],\n",
       " [2, 'B'],\n",
       " [3, 'C'],\n",
       " [4, 'D'],\n",
       " [5, 'E'],\n",
       " [6, 'F'],\n",
       " [7, 'G'],\n",
       " [8, 'H'],\n",
       " [9, 'I'],\n",
       " [10, 'J']]"
      ]
     },
     "execution_count": 24,
     "metadata": {},
     "output_type": "execute_result"
    }
   ],
   "source": [
    "py_list_2d"
   ]
  },
  {
   "attachments": {},
   "cell_type": "markdown",
   "id": "d5bf3277",
   "metadata": {},
   "source": [
    "## 2.1 Size"
   ]
  },
  {
   "cell_type": "code",
   "execution_count": 25,
   "id": "cbcec2a4-5597-4e5a-838f-137669122adf",
   "metadata": {},
   "outputs": [
    {
     "data": {
      "text/plain": [
       "10"
      ]
     },
     "execution_count": 25,
     "metadata": {},
     "output_type": "execute_result"
    }
   ],
   "source": [
    "len(py_list_2d)"
   ]
  },
  {
   "cell_type": "code",
   "execution_count": 26,
   "id": "5abc0ebf-3476-4456-85c3-b740a6088aca",
   "metadata": {},
   "outputs": [
    {
     "data": {
      "text/plain": [
       "10"
      ]
     },
     "execution_count": 26,
     "metadata": {},
     "output_type": "execute_result"
    }
   ],
   "source": [
    "len(np_array_2d)"
   ]
  },
  {
   "cell_type": "code",
   "execution_count": 27,
   "id": "24de87f1-f7a0-47ee-8709-b0478ea8b0aa",
   "metadata": {},
   "outputs": [
    {
     "data": {
      "text/plain": [
       "(10, 2)"
      ]
     },
     "execution_count": 27,
     "metadata": {},
     "output_type": "execute_result"
    }
   ],
   "source": [
    "np_array_2d.shape            #can get the shape of the list. 10x2 columns. additional way of getting the size\n"
   ]
  },
  {
   "cell_type": "code",
   "execution_count": null,
   "id": "93138f6f-f985-4cce-bae0-06950c00e58e",
   "metadata": {},
   "outputs": [],
   "source": []
  },
  {
   "attachments": {},
   "cell_type": "markdown",
   "id": "20ce5888",
   "metadata": {},
   "source": [
    "## 2.2 Arrays are fussy about type"
   ]
  },
  {
   "cell_type": "code",
   "execution_count": null,
   "id": "39a5d54f-98df-43dc-a5b2-52b5d19104d5",
   "metadata": {},
   "outputs": [],
   "source": []
  },
  {
   "cell_type": "code",
   "execution_count": null,
   "id": "0bcd811b-5965-4b2f-89e4-557608cec53d",
   "metadata": {},
   "outputs": [],
   "source": []
  },
  {
   "attachments": {},
   "cell_type": "markdown",
   "id": "09818f9b",
   "metadata": {},
   "source": [
    "## 2.3 Adding a number"
   ]
  },
  {
   "cell_type": "code",
   "execution_count": null,
   "id": "422cd812-0871-428f-87bb-2edaeab23d6a",
   "metadata": {},
   "outputs": [],
   "source": []
  },
  {
   "cell_type": "code",
   "execution_count": null,
   "id": "d38ca414-f7b8-423c-bfad-71e85b914df6",
   "metadata": {},
   "outputs": [],
   "source": []
  },
  {
   "attachments": {},
   "cell_type": "markdown",
   "id": "7a8c943e",
   "metadata": {},
   "source": [
    "## 2.4 Adding another list"
   ]
  },
  {
   "cell_type": "code",
   "execution_count": 33,
   "id": "f31dc847-35fe-4a4c-a084-f6e7093a439b",
   "metadata": {},
   "outputs": [
    {
     "data": {
      "text/plain": [
       "[1, 2, 3, 4, 5, 10, 20, 30, 40, 50]"
      ]
     },
     "execution_count": 33,
     "metadata": {},
     "output_type": "execute_result"
    }
   ],
   "source": [
    "py_list_1 = [1, 2, 3, 4, 5]\n",
    "py_list_2 = [10, 20, 30, 40, 50]\n",
    "\n",
    "np_array_1 = np.array(py_list_1)\n",
    "np_array_2 = np.array(py_list_2)\n",
    "\n",
    "py_list_1 + py_list_2             #things will be pasted tgt\n"
   ]
  },
  {
   "cell_type": "code",
   "execution_count": 32,
   "id": "221e55cb-8f51-4c54-bb82-0b2859cc8382",
   "metadata": {},
   "outputs": [
    {
     "data": {
      "text/plain": [
       "array([11, 22, 33, 44, 55])"
      ]
     },
     "execution_count": 32,
     "metadata": {},
     "output_type": "execute_result"
    }
   ],
   "source": [
    "np_array_1 + np_array_2           #individual matching index will be added together\n"
   ]
  },
  {
   "attachments": {},
   "cell_type": "markdown",
   "id": "089d1725",
   "metadata": {},
   "source": [
    "## 2.5 Multiplying by a Number"
   ]
  },
  {
   "cell_type": "code",
   "execution_count": 34,
   "id": "ec9bb535-130d-4040-b8a1-70827601b71f",
   "metadata": {},
   "outputs": [],
   "source": [
    "py_list = [1, 2, 3, 4, 5]\n",
    "np_array = np.array(py_list)         "
   ]
  },
  {
   "cell_type": "code",
   "execution_count": 35,
   "id": "0a2529f6-62e7-4ae2-8525-6e16e45b5e08",
   "metadata": {},
   "outputs": [
    {
     "data": {
      "text/plain": [
       "[1, 2, 3, 4, 5, 1, 2, 3, 4, 5]"
      ]
     },
     "execution_count": 35,
     "metadata": {},
     "output_type": "execute_result"
    }
   ],
   "source": [
    "py_list*2"
   ]
  },
  {
   "cell_type": "code",
   "execution_count": 36,
   "id": "760dca70-3bb5-40cd-8952-5efc54f238a1",
   "metadata": {},
   "outputs": [
    {
     "data": {
      "text/plain": [
       "array([ 2,  4,  6,  8, 10])"
      ]
     },
     "execution_count": 36,
     "metadata": {},
     "output_type": "execute_result"
    }
   ],
   "source": [
    "np_array*2      #as if its a mathamatical operation"
   ]
  },
  {
   "attachments": {},
   "cell_type": "markdown",
   "id": "362b9e08",
   "metadata": {},
   "source": [
    "## 2.6 Squaring"
   ]
  },
  {
   "cell_type": "code",
   "execution_count": 37,
   "id": "10b31e93-00bd-406f-8eb9-8e35950fa072",
   "metadata": {},
   "outputs": [],
   "source": [
    "py_list = [1, 2, 3, 4, 5]\n",
    "np_array = np.array(py_list)"
   ]
  },
  {
   "cell_type": "code",
   "execution_count": 38,
   "id": "31b8880d-0fd2-4f5c-80eb-3361d5739e31",
   "metadata": {},
   "outputs": [
    {
     "ename": "TypeError",
     "evalue": "unsupported operand type(s) for ** or pow(): 'list' and 'int'",
     "output_type": "error",
     "traceback": [
      "\u001b[1;31m---------------------------------------------------------------------------\u001b[0m",
      "\u001b[1;31mTypeError\u001b[0m                                 Traceback (most recent call last)",
      "Cell \u001b[1;32mIn[38], line 1\u001b[0m\n\u001b[1;32m----> 1\u001b[0m \u001b[43mpy_list\u001b[49m\u001b[38;5;241;43m*\u001b[39;49m\u001b[38;5;241;43m*\u001b[39;49m\u001b[38;5;241;43m2\u001b[39;49m                      \u001b[38;5;66;03m# Won't work!  \u001b[39;00m\n",
      "\u001b[1;31mTypeError\u001b[0m: unsupported operand type(s) for ** or pow(): 'list' and 'int'"
     ]
    }
   ],
   "source": [
    "py_list**2                      # Won't work!  bc cant multiply a list by itself"
   ]
  },
  {
   "cell_type": "code",
   "execution_count": 39,
   "id": "16df4005-54ca-4789-a961-0f94154db15d",
   "metadata": {},
   "outputs": [
    {
     "data": {
      "text/plain": [
       "array([ 1,  4,  9, 16, 25])"
      ]
     },
     "execution_count": 39,
     "metadata": {},
     "output_type": "execute_result"
    }
   ],
   "source": [
    "np_array**2"
   ]
  },
  {
   "cell_type": "code",
   "execution_count": null,
   "id": "7bd6ac57-3463-4bde-b69f-56f4ee489a74",
   "metadata": {},
   "outputs": [],
   "source": []
  },
  {
   "attachments": {},
   "cell_type": "markdown",
   "id": "92d084a5",
   "metadata": {},
   "source": [
    "## 2.7 Asking questions"
   ]
  },
  {
   "cell_type": "code",
   "execution_count": 40,
   "id": "6e86183d-6925-460d-809a-d313ab9098f4",
   "metadata": {},
   "outputs": [],
   "source": [
    "py_list = [1, 2, 3, 4, 5]\n",
    "np_array = np.array(py_list)         "
   ]
  },
  {
   "cell_type": "code",
   "execution_count": 41,
   "id": "46be679c-cfba-4ea1-b57d-b0e8ccddec5a",
   "metadata": {},
   "outputs": [
    {
     "data": {
      "text/plain": [
       "False"
      ]
     },
     "execution_count": 41,
     "metadata": {},
     "output_type": "execute_result"
    }
   ],
   "source": [
    "py_list == 3     # Works, but what IS the question? ask this qn need to use arrays"
   ]
  },
  {
   "cell_type": "code",
   "execution_count": 42,
   "id": "5629c7bf-c0a3-49b5-8e87-82b0b3fca2ba",
   "metadata": {},
   "outputs": [
    {
     "ename": "TypeError",
     "evalue": "'>' not supported between instances of 'list' and 'int'",
     "output_type": "error",
     "traceback": [
      "\u001b[1;31m---------------------------------------------------------------------------\u001b[0m",
      "\u001b[1;31mTypeError\u001b[0m                                 Traceback (most recent call last)",
      "Cell \u001b[1;32mIn[42], line 1\u001b[0m\n\u001b[1;32m----> 1\u001b[0m \u001b[43mpy_list\u001b[49m\u001b[43m \u001b[49m\u001b[38;5;241;43m>\u001b[39;49m\u001b[43m \u001b[49m\u001b[38;5;241;43m3\u001b[39;49m      \u001b[38;5;66;03m# Won't work!\u001b[39;00m\n",
      "\u001b[1;31mTypeError\u001b[0m: '>' not supported between instances of 'list' and 'int'"
     ]
    }
   ],
   "source": [
    "py_list > 3      # Won't work!"
   ]
  },
  {
   "cell_type": "code",
   "execution_count": 45,
   "id": "e078de2e-1d48-42b1-9439-cbeecac169e5",
   "metadata": {},
   "outputs": [
    {
     "data": {
      "text/plain": [
       "array([False, False,  True, False, False])"
      ]
     },
     "execution_count": 45,
     "metadata": {},
     "output_type": "execute_result"
    }
   ],
   "source": [
    "np_array == 3  #it asks the same question for each individual index"
   ]
  },
  {
   "cell_type": "code",
   "execution_count": 44,
   "id": "00544521-afae-46bb-a246-da196e4e972a",
   "metadata": {},
   "outputs": [
    {
     "data": {
      "text/plain": [
       "array([False, False, False,  True,  True])"
      ]
     },
     "execution_count": 44,
     "metadata": {},
     "output_type": "execute_result"
    }
   ],
   "source": [
    "np_array > 3  "
   ]
  },
  {
   "cell_type": "code",
   "execution_count": 46,
   "id": "e72ef4de-7226-47bf-8f07-bcd2c95f8662",
   "metadata": {},
   "outputs": [
    {
     "data": {
      "text/plain": [
       "2"
      ]
     },
     "execution_count": 46,
     "metadata": {},
     "output_type": "execute_result"
    }
   ],
   "source": [
    "sum(np_array > 3 )      #dosent work if theres a letter within the list"
   ]
  },
  {
   "attachments": {},
   "cell_type": "markdown",
   "id": "8d168f6f",
   "metadata": {},
   "source": [
    "## 2.8 Mathematics"
   ]
  },
  {
   "cell_type": "code",
   "execution_count": null,
   "id": "7f5d0c8b-8bea-4e41-bf55-ae53ec01c20f",
   "metadata": {},
   "outputs": [],
   "source": [
    "py_list = [1, 2, 3, 4, 5]\n",
    "np_array = np.array(py_list)         "
   ]
  },
  {
   "cell_type": "code",
   "execution_count": null,
   "id": "988c3b7d-829b-47dc-b675-a34a515452da",
   "metadata": {},
   "outputs": [],
   "source": [
    "sum(py_list)     # sum() is a base Python function\n",
    "\n",
    "max(py_list)     # max() is a base Python function\n",
    "\n",
    "min(py_list)     # min() is a base Python function\n",
    "\n",
    "py_list.sum()   # Won't work!"
   ]
  },
  {
   "cell_type": "code",
   "execution_count": null,
   "id": "c3a19d26-fcd8-4600-ae68-745215b9ae8b",
   "metadata": {},
   "outputs": [],
   "source": []
  },
  {
   "cell_type": "code",
   "execution_count": 48,
   "id": "e911685e-da16-48c8-a276-2032808c66f8",
   "metadata": {},
   "outputs": [
    {
     "data": {
      "text/plain": [
       "1.4142135623730951"
      ]
     },
     "execution_count": 48,
     "metadata": {},
     "output_type": "execute_result"
    }
   ],
   "source": [
    "np_array.sum()        #optimised and build within array .sum cannot be used on a list\n",
    "\n",
    "np_array.max()         #list, convery to array to do math then go back to lists    \n",
    "\n",
    "np_array.min()\n",
    "\n",
    "np_array.mean()\n",
    "\n",
    "np_array.std()"
   ]
  },
  {
   "cell_type": "code",
   "execution_count": null,
   "id": "7db06ec5-8639-4ef0-9f5e-72db445cac6f",
   "metadata": {},
   "outputs": [],
   "source": []
  },
  {
   "attachments": {},
   "cell_type": "markdown",
   "id": "052b735e",
   "metadata": {},
   "source": [
    "# Exercises & Self-Assessment"
   ]
  },
  {
   "cell_type": "code",
   "execution_count": null,
   "id": "5b31915a",
   "metadata": {},
   "outputs": [],
   "source": [
    "\n",
    "\n",
    "\n",
    "# Your solution here\n",
    "\n",
    "\n"
   ]
  },
  {
   "attachments": {},
   "cell_type": "markdown",
   "id": "4e1b047b",
   "metadata": {},
   "source": [
    "## Footnotes"
   ]
  }
 ],
 "metadata": {
  "kernelspec": {
   "display_name": "Python 3 (ipykernel)",
   "language": "python",
   "name": "python3"
  },
  "language_info": {
   "codemirror_mode": {
    "name": "ipython",
    "version": 3
   },
   "file_extension": ".py",
   "mimetype": "text/x-python",
   "name": "python",
   "nbconvert_exporter": "python",
   "pygments_lexer": "ipython3",
   "version": "3.11.5"
  },
  "toc": {
   "base_numbering": 1,
   "nav_menu": {},
   "number_sections": true,
   "sideBar": true,
   "skip_h1_title": false,
   "title_cell": "Table of Contents",
   "title_sidebar": "Contents",
   "toc_cell": false,
   "toc_position": {},
   "toc_section_display": true,
   "toc_window_display": false
  },
  "vscode": {
   "interpreter": {
    "hash": "31f2aee4e71d21fbe5cf8b01ff0e069b9275f58929596ceb00d14d90e3e16cd6"
   }
  }
 },
 "nbformat": 4,
 "nbformat_minor": 5
}
