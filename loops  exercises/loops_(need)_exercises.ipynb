{
 "cells": [
  {
   "attachments": {},
   "cell_type": "markdown",
   "id": "123456",
   "metadata": {},
   "source": [
    "<div style=\"text-align:left;font-size:2em\"><span style=\"font-weight:bolder;font-size:1.25em\">SP2273 | Learning Portfolio</span><br><br><span style=\"font-weight:bold;color:darkred\">Loops (Need) Exercises</span></div>"
   ]
  },
  {
   "cell_type": "markdown",
   "id": "73148b05-c809-4a96-805e-ebd4352c3d42",
   "metadata": {},
   "source": [
    "## Exercise 1"
   ]
  },
  {
   "cell_type": "code",
   "execution_count": 34,
   "id": "cbe5a5c0-ce57-4247-abfb-2c9629928f75",
   "metadata": {},
   "outputs": [
    {
     "name": "stdout",
     "output_type": "stream",
     "text": [
      "[32.0, 41.0, 50.0, 59.0, 68.0, 77.0, 86.0, 95.0, 104.0, 113.0, 122.0]\n"
     ]
    }
   ],
   "source": [
    "temperatures_celsius = [\n",
    "    0, 5, 10, 15, 20, 25,\n",
    "    30, 35, 40, 45, 50\n",
    "]\n",
    "\n",
    "import numpy as np \n",
    "\n",
    "celsius_array = np.array(temperatures_celsius.copy()) #convert to array for easy mathing\n",
    "\n",
    "Fehrenheit_array = celsius_array*1.8+32                 #the math\n",
    "\n",
    "Fehrenheit_list = Fehrenheit_array.tolist() # set the afterMATH to a list\n",
    "\n",
    "print(Fehrenheit_list) #checking if the list is rly converted"
   ]
  },
  {
   "cell_type": "code",
   "execution_count": 39,
   "id": "fb03f12e-1914-4cc6-993a-a86df087a2ee",
   "metadata": {},
   "outputs": [
    {
     "name": "stdout",
     "output_type": "stream",
     "text": [
      "0 is 32.0 in Fehrenheit!\n",
      "5 is 41.0 in Fehrenheit!\n",
      "10 is 50.0 in Fehrenheit!\n",
      "15 is 59.0 in Fehrenheit!\n",
      "20 is 68.0 in Fehrenheit!\n",
      "25 is 77.0 in Fehrenheit!\n",
      "30 is 86.0 in Fehrenheit!\n",
      "35 is 95.0 in Fehrenheit!\n",
      "40 is 104.0 in Fehrenheit!\n",
      "45 is 113.0 in Fehrenheit!\n",
      "50 is 122.0 in Fehrenheit!\n"
     ]
    }
   ],
   "source": [
    "for index, temperature in enumerate(temperatures_celsius): #enumerate loops thru celsius list to give index and value of each element\n",
    "    Fehrenheit_temp = Fehrenheit_list[index] #tellPython to retrieve the value stored at the position specified by index in the fahrenheit_list.\n",
    "    print(f'{temperature} is {Fehrenheit_temp} in Fehrenheit!')\n"
   ]
  },
  {
   "cell_type": "markdown",
   "id": "05ad7394-6b86-4e6f-aa10-2afafc358d6e",
   "metadata": {},
   "source": [
    "## Excercise 2"
   ]
  },
  {
   "cell_type": "code",
   "execution_count": 47,
   "id": "459a4049-0643-41d5-bf40-6b9d4830f17d",
   "metadata": {},
   "outputs": [
    {
     "name": "stdout",
     "output_type": "stream",
     "text": [
      "A1\tA2\tA3\t\n",
      "\n",
      "B1\tB2\tB3\t\n",
      "\n",
      "C1\tC2\tC3\t\n",
      "\n"
     ]
    }
   ],
   "source": [
    "for letter in ['A', 'B', 'C']: #This loop iterates over the elements of the list ['A', 'B', 'C'].letter takes on the value of each element in the list one by one ('A', then 'B', then 'C').\n",
    "    for number in [1, 2, 3]: #for each value of letter, the inner loop iterates over the numbers 1, 2, and 3.\n",
    "        print(f'{letter}{number}', end='\\t') #\\t = tab\n",
    "    print('\\n') #\\n + newline. removing = all vari on one line. +tab = all vari on one vertical line\n",
    "\n",
    "#new line is same indent as for cuz when letter=A in the first loop when all results done then new line\n",
    "#when letter = B then print all results then new line"
   ]
  },
  {
   "cell_type": "code",
   "execution_count": 58,
   "id": "14248ad1-1461-4aae-808c-4fec1209883c",
   "metadata": {},
   "outputs": [
    {
     "name": "stdout",
     "output_type": "stream",
     "text": [
      "A1\tA2\tA3\t3:\n",
      "\n",
      "\n",
      "B1\tB2\tB3\t3:\n",
      "\n",
      "\n",
      "C1\tC2\tC3\t3:\n",
      "\n",
      "\n"
     ]
    }
   ],
   "source": [
    "for letter in ['A', 'B', 'C']:\n",
    "    for number in [1, 2, 3]:\n",
    "        print(f'{letter}{number}', end='\\t')\n",
    "    print(f'{number}:')\n",
    "    print('\\n')"
   ]
  },
  {
   "cell_type": "code",
   "execution_count": 68,
   "id": "d0b7f22d-f345-4003-a6bb-7a902995af3d",
   "metadata": {},
   "outputs": [
    {
     "name": "stdout",
     "output_type": "stream",
     "text": [
      "1:\tA1\tB1\tC1\t\n",
      "\n",
      "2:\tA2\tB2\tC2\t\n",
      "\n",
      "3:\tA3\tB3\tC3\t\n",
      "\n"
     ]
    }
   ],
   "source": [
    "for number in [1, 2, 3]:\n",
    "    print(f'{number}:', end= '\\t')\n",
    "    for letter in ['A', 'B', 'C']:\n",
    "        print(f'{letter}{number}', end='\\t')\n",
    "    print('\\n')"
   ]
  },
  {
   "cell_type": "code",
   "execution_count": 72,
   "id": "08354e0e-9a0c-4d37-be7a-972a23f7036e",
   "metadata": {},
   "outputs": [
    {
     "name": "stdout",
     "output_type": "stream",
     "text": [
      "1:\t1\t2\t3\t4\t5\t\n",
      "\n",
      "2:\t2\t4\t6\t8\t10\t\n",
      "\n",
      "3:\t3\t6\t9\t12\t15\t\n",
      "\n",
      "4:\t4\t8\t12\t16\t20\t\n",
      "\n",
      "5:\t5\t10\t15\t20\t25\t\n",
      "\n"
     ]
    }
   ],
   "source": [
    "for factor in [1, 2, 3, 4, 5]:  #first loop is the multiplication factors\n",
    "    print(f'{factor}:', end= '\\t')\n",
    "    for number in (1, 2, 3, 4, 5): #second loop\n",
    "        print(f'{factor*number}', end='\\t')\n",
    "    print('\\n')\n",
    "\n"
   ]
  },
  {
   "cell_type": "code",
   "execution_count": null,
   "id": "3269c97a-68bc-4ef2-9b96-216a1fba9629",
   "metadata": {},
   "outputs": [],
   "source": []
  }
 ],
 "metadata": {
  "kernelspec": {
   "display_name": "Python 3 (ipykernel)",
   "language": "python",
   "name": "python3"
  },
  "language_info": {
   "codemirror_mode": {
    "name": "ipython",
    "version": 3
   },
   "file_extension": ".py",
   "mimetype": "text/x-python",
   "name": "python",
   "nbconvert_exporter": "python",
   "pygments_lexer": "ipython3",
   "version": "3.11.5"
  },
  "toc": {
   "base_numbering": 1,
   "nav_menu": {},
   "number_sections": true,
   "sideBar": true,
   "skip_h1_title": false,
   "title_cell": "Table of Contents",
   "title_sidebar": "Contents",
   "toc_cell": false,
   "toc_position": {},
   "toc_section_display": true,
   "toc_window_display": false
  },
  "vscode": {
   "interpreter": {
    "hash": "31f2aee4e71d21fbe5cf8b01ff0e069b9275f58929596ceb00d14d90e3e16cd6"
   }
  }
 },
 "nbformat": 4,
 "nbformat_minor": 5
}
