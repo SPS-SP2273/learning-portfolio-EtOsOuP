{
 "cells": [
  {
   "attachments": {},
   "cell_type": "markdown",
   "id": "123456",
   "metadata": {},
   "source": [
    "<div style=\"text-align:left;font-size:2em\"><span style=\"font-weight:bolder;font-size:1.25em\">SP2273 | Learning Portfolio</span><br><br><span style=\"font-weight:bold;color:darkred\">Fundamentals (Good) Exercises</span></div>"
   ]
  },
  {
   "cell_type": "code",
   "execution_count": 1,
   "id": "538a7b54-ded1-4fa6-82bf-8129223aff09",
   "metadata": {},
   "outputs": [
    {
     "name": "stdin",
     "output_type": "stream",
     "text": [
      "give me a number? 9\n"
     ]
    },
    {
     "name": "stdout",
     "output_type": "stream",
     "text": [
      "You entered 9\n"
     ]
    }
   ],
   "source": [
    "user_input = input('give me a number?')\n",
    "print('You entered', user_input)"
   ]
  },
  {
   "cell_type": "code",
   "execution_count": 22,
   "id": "fe73882b-23a4-4b3e-9a88-04ade5dbae8f",
   "metadata": {},
   "outputs": [
    {
     "name": "stdin",
     "output_type": "stream",
     "text": [
      "Enter the student's score tecty\n"
     ]
    },
    {
     "name": "stdout",
     "output_type": "stream",
     "text": [
      "please enter a numerical score between 0 to 100\n"
     ]
    }
   ],
   "source": [
    "# input\n",
    "user_input = input('Enter the student\\'s score')\n",
    "\n",
    "#check if user unputs a number or string\n",
    "if user_input.isnumeric():\n",
    "    \n",
    "    #convert user input from string to integer\n",
    "    x = int(user_input)\n",
    "    \n",
    "    #input condition for score ranges\n",
    "    if 70<=x<=100:\n",
    "        print('A')\n",
    "    elif 50<=x<=69:\n",
    "        print('B')\n",
    "    elif 35<=x<=49:\n",
    "        print('C')\n",
    "    elif 0<=x<=34:\n",
    "        print('Fail')\n",
    "    \n",
    "    #settles the problem of integer lying outside 100 and 0\n",
    "    else:\n",
    "        print('please enter a numerical score between 0 to 100')\n",
    "else:\n",
    "    print('please enter a numerical score between 0 to 100')\n",
    "\n",
    "\n"
   ]
  }
 ],
 "metadata": {
  "kernelspec": {
   "display_name": "Python 3 (ipykernel)",
   "language": "python",
   "name": "python3"
  },
  "language_info": {
   "codemirror_mode": {
    "name": "ipython",
    "version": 3
   },
   "file_extension": ".py",
   "mimetype": "text/x-python",
   "name": "python",
   "nbconvert_exporter": "python",
   "pygments_lexer": "ipython3",
   "version": "3.11.5"
  },
  "toc": {
   "base_numbering": 1,
   "nav_menu": {},
   "number_sections": true,
   "sideBar": true,
   "skip_h1_title": false,
   "title_cell": "Table of Contents",
   "title_sidebar": "Contents",
   "toc_cell": false,
   "toc_position": {},
   "toc_section_display": true,
   "toc_window_display": false
  },
  "vscode": {
   "interpreter": {
    "hash": "31f2aee4e71d21fbe5cf8b01ff0e069b9275f58929596ceb00d14d90e3e16cd6"
   }
  }
 },
 "nbformat": 4,
 "nbformat_minor": 5
}
