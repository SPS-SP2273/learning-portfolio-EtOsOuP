{
 "cells": [
  {
   "attachments": {},
   "cell_type": "markdown",
   "id": "123456",
   "metadata": {},
   "source": [
    "<div style=\"text-align:left;font-size:2em\"><span style=\"font-weight:bolder;font-size:1.25em\">SP2273 | Learning Portfolio</span><br><br><span style=\"font-weight:bold;color:darkred\">Fundamentals (Need) Exercises</span></div>"
   ]
  },
  {
   "cell_type": "markdown",
   "id": "4685e078-7e01-48e9-b028-393f7e929966",
   "metadata": {},
   "source": [
    "### **Exercise 1** (Total recall?)"
   ]
  },
  {
   "cell_type": "markdown",
   "id": "bf9c0be4-bf54-4725-8522-d9cc8e4c8f54",
   "metadata": {},
   "source": [
    "1.  Print()\n",
    "1. ()\n",
    "1. .\n",
    "1. []\n",
    "1. {}\n",
    "1. if \n",
    "1. else\n",
    "1. while\n",
    "1. else\n",
    "1. '#'\n",
    "1. Import\n",
    "1. math\n",
    "1. numpy\n",
    "1. =\n",
    "1. ==\n",
    "2. *\" \"*"
   ]
  },
  {
   "cell_type": "markdown",
   "id": "e71b04a9-988b-4462-a705-7e8620f177c7",
   "metadata": {},
   "source": [
    "### **Exercise 2 (Debug me)**"
   ]
  },
  {
   "cell_type": "code",
   "execution_count": 8,
   "id": "95a34382-f52f-4909-abc5-865d4a1f694b",
   "metadata": {},
   "outputs": [
    {
     "name": "stdout",
     "output_type": "stream",
     "text": [
      "3 4 5.0\n"
     ]
    }
   ],
   "source": [
    "import math\n",
    "x, y = 3, 4\n",
    "z = math.sqrt(x**2 + y**2)\n",
    "print(x, y, z)"
   ]
  },
  {
   "cell_type": "markdown",
   "id": "350a0fc2-c1ce-4585-9340-610e1163c090",
   "metadata": {},
   "source": [
    "### **Exercise 3 (In your own words)**"
   ]
  },
  {
   "cell_type": "markdown",
   "id": "f6f962a4-a14d-4d81-9796-001cf9216870",
   "metadata": {},
   "source": [
    "| #  |   **Term**   |                                                                                                   **Description**                                                                                                  |\r\n",
    "|----|:------------:|:------------------------------------------------------------------------------------------------------------------------------------------------------------------------------------------------------------------:|\r\n",
    "| 1  | Function     | Like a machine. Given the relevent input will generate a corresponding output or a specific action                                                                                                                 |\r\n",
    "| 2  | Arguments    | the relevent input for a function. Sometimes a function dosent have arguemnts                                                                                                                                      |\r\n",
    "| 3  | Comments     | Comments are indicated by a #. they are not recognised by python interpreter and are left alone. they serve the function of labelling lines of code as reminder of what we are trying to do with that line of code |\r\n",
    "| 4  | Indentations | lines of code with similar indentations are recognised as related codes                                                                                                                                            |\r\n",
    "| 5  | Packages     | packages are like expansion packs that allows python to run specific functions that are not recognised by the python system                                                                                        |\r\n",
    "| 6  | .            | indicates ownership of the latter function to the former variable                                                                                                                                                  |\r\n",
    "| 7  | :            | indicates the next action should the function result be true. Links a data point to a specific key                                                                                                                 |\r\n",
    "| 8  | [ ]          | indicates a list of variables                                                                                                                                                                                      |\r\n",
    "| 9  | [[[]]]       | indicates a list of list of variables                                                                                                                                                                              |\r\n",
    "| 10 | {}           | indicates a collection of data stored in a dictionary, each data point is labelled with a key and specific data is retrieved through recalling the key                                                             |"
   ]
  },
  {
   "cell_type": "markdown",
   "id": "27f1f59d-6f01-4f00-a067-0008b0e50ffd",
   "metadata": {},
   "source": [
    "### **Exercise 4 (More than one way to divide)**"
   ]
  },
  {
   "cell_type": "code",
   "execution_count": 9,
   "id": "26546ab3-f89f-4f61-8461-221fdd3848c3",
   "metadata": {},
   "outputs": [
    {
     "data": {
      "text/plain": [
       "2.5"
      ]
     },
     "execution_count": 9,
     "metadata": {},
     "output_type": "execute_result"
    }
   ],
   "source": [
    "5/2           # python takes the halve of the number 5 as the result"
   ]
  },
  {
   "cell_type": "code",
   "execution_count": 39,
   "id": "087ef9b6-d667-40a5-8218-a5ba86684fd9",
   "metadata": {},
   "outputs": [
    {
     "data": {
      "text/plain": [
       "24.0"
      ]
     },
     "execution_count": 39,
     "metadata": {},
     "output_type": "execute_result"
    }
   ],
   "source": [
    "5//(0.2)         # python divides 5 with the subsequent number and rounds the result down to the nearest whole number"
   ]
  },
  {
   "cell_type": "code",
   "execution_count": 38,
   "id": "a25f59ed-500a-4203-bccd-e3daa128b803",
   "metadata": {},
   "outputs": [
    {
     "data": {
      "text/plain": [
       "25"
      ]
     },
     "execution_count": 38,
     "metadata": {},
     "output_type": "execute_result"
    }
   ],
   "source": [
    "import math\n",
    "math.floor(5/0.2)   #why both give different answer\n",
    "\n"
   ]
  },
  {
   "cell_type": "code",
   "execution_count": 47,
   "id": "c8a8baf8-f548-40de-85f1-f46009099d03",
   "metadata": {},
   "outputs": [
    {
     "data": {
      "text/plain": [
       "5"
      ]
     },
     "execution_count": 47,
     "metadata": {},
     "output_type": "execute_result"
    }
   ],
   "source": [
    "5%6         # Divides and returns the value of the remainder."
   ]
  },
  {
   "cell_type": "code",
   "execution_count": null,
   "id": "b9b0d63e-6f31-4813-b158-42d15a89cb34",
   "metadata": {},
   "outputs": [],
   "source": []
  }
 ],
 "metadata": {
  "kernelspec": {
   "display_name": "Python 3 (ipykernel)",
   "language": "python",
   "name": "python3"
  },
  "language_info": {
   "codemirror_mode": {
    "name": "ipython",
    "version": 3
   },
   "file_extension": ".py",
   "mimetype": "text/x-python",
   "name": "python",
   "nbconvert_exporter": "python",
   "pygments_lexer": "ipython3",
   "version": "3.11.5"
  },
  "toc": {
   "base_numbering": 1,
   "nav_menu": {},
   "number_sections": true,
   "sideBar": true,
   "skip_h1_title": false,
   "title_cell": "Table of Contents",
   "title_sidebar": "Contents",
   "toc_cell": false,
   "toc_position": {},
   "toc_section_display": true,
   "toc_window_display": false
  },
  "vscode": {
   "interpreter": {
    "hash": "31f2aee4e71d21fbe5cf8b01ff0e069b9275f58929596ceb00d14d90e3e16cd6"
   }
  }
 },
 "nbformat": 4,
 "nbformat_minor": 5
}
